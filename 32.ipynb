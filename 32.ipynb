{
 "cells": [
  {
   "cell_type": "markdown",
   "id": "aa6d31e6",
   "metadata": {},
   "source": [
    "## Downloading Dataset"
   ]
  },
  {
   "cell_type": "code",
   "execution_count": 12,
   "id": "52119ee4",
   "metadata": {},
   "outputs": [],
   "source": [
    "from mit_d3m import load_dataset # Importing Dataset\n",
    "\n",
    "thirty_two = load_dataset('32_wikiqa') # Loading Dataset"
   ]
  },
  {
   "cell_type": "markdown",
   "id": "e0c47cb8",
   "metadata": {},
   "source": [
    "**xxxxxxxxxxxxxxxxxxxxxxxxxxxxxxxxxxxxxxxxxxxxxxxxxxxxxxxxxxxxxxxxxxxxxxxxxxxxxxxxxxxxxxxxxxxxxxxxxxxxxxxxxxxxxxxxxxxxxxxxxxx**"
   ]
  },
  {
   "cell_type": "markdown",
   "id": "3edbe494",
   "metadata": {},
   "source": [
    "## Importing Libraries"
   ]
  },
  {
   "cell_type": "code",
   "execution_count": 13,
   "id": "5984ed71",
   "metadata": {},
   "outputs": [],
   "source": [
    "import numpy as np \n",
    "import pandas as pd\n",
    "import warnings"
   ]
  },
  {
   "cell_type": "markdown",
   "id": "54f6ec41",
   "metadata": {},
   "source": [
    "### Data Preprocessing"
   ]
  },
  {
   "cell_type": "code",
   "execution_count": 14,
   "id": "eebfe470",
   "metadata": {},
   "outputs": [],
   "source": [
    "from sdv import Metadata\n",
    "from sklearn.model_selection import train_test_split, KFold, cross_val_score # Importing Library for Splitting the Dataset into Train & Test Set"
   ]
  },
  {
   "cell_type": "markdown",
   "id": "69cfcfb5",
   "metadata": {},
   "source": [
    "### Models"
   ]
  },
  {
   "cell_type": "code",
   "execution_count": 15,
   "id": "94a93f88",
   "metadata": {},
   "outputs": [],
   "source": [
    "from sklearn.linear_model import LogisticRegression # Importing 'LogistocRegression' Machine Learning Model\n",
    "from sdv.relational import HMA1 # Importing 'Hierarchical Modeling Algorithm' Model"
   ]
  },
  {
   "cell_type": "markdown",
   "id": "54b40cdc",
   "metadata": {},
   "source": [
    "### Evaluation"
   ]
  },
  {
   "cell_type": "code",
   "execution_count": 48,
   "id": "af59ab51",
   "metadata": {},
   "outputs": [],
   "source": [
    "from sklearn.model_selection import KFold # Importing 'KFold' for Evaluating Model\n",
    "from sklearn.model_selection import cross_val_score# Importing 'cross_val_score' for Calculating Model Score\n",
    "from sklearn.metrics import accuracy_score # Importing 'accuracy_score' Class for Model Evaluation \n",
    "from numpy import mean, absolute # Importing 'mean' & 'absolute' to Calculate Accuracy Score\n",
    "from sdv.metrics.relational import KSTest, CSTest # Importing 'KSTestExtended' Class for Synthetic Data Evaluation"
   ]
  },
  {
   "cell_type": "markdown",
   "id": "e0709d98",
   "metadata": {},
   "source": [
    "**xxxxxxxxxxxxxxxxxxxxxxxxxxxxxxxxxxxxxxxxxxxxxxxxxxxxxxxxxxxxxxxxxxxxxxxxxxxxxxxxxxxxxxxxxxxxxxxxxxxxxxxxxxxxxxxxxxxxxxxxxxx**"
   ]
  },
  {
   "cell_type": "markdown",
   "id": "29d44cf8",
   "metadata": {},
   "source": [
    "## Removing Warning Messages"
   ]
  },
  {
   "cell_type": "code",
   "execution_count": 17,
   "id": "41d1b01e",
   "metadata": {},
   "outputs": [],
   "source": [
    "warnings.filterwarnings(action = 'ignore') # Removing Warning Messages"
   ]
  },
  {
   "cell_type": "markdown",
   "id": "bb0bc3ce",
   "metadata": {},
   "source": [
    "**xxxxxxxxxxxxxxxxxxxxxxxxxxxxxxxxxxxxxxxxxxxxxxxxxxxxxxxxxxxxxxxxxxxxxxxxxxxxxxxxxxxxxxxxxxxxxxxxxxxxxxxxxxxxxxxxxxxxxxxxxxx**"
   ]
  },
  {
   "cell_type": "markdown",
   "id": "343c283b",
   "metadata": {},
   "source": [
    "## Predictor & Response Variables"
   ]
  },
  {
   "cell_type": "code",
   "execution_count": 18,
   "id": "4ed1b94e",
   "metadata": {},
   "outputs": [],
   "source": [
    "X = thirty_two.X # Extracting Feature Variables\n",
    "y = thirty_two.y # Extracting Response Varaiable"
   ]
  },
  {
   "cell_type": "markdown",
   "id": "4891c43e",
   "metadata": {},
   "source": [
    "**xxxxxxxxxxxxxxxxxxxxxxxxxxxxxxxxxxxxxxxxxxxxxxxxxxxxxxxxxxxxxxxxxxxxxxxxxxxxxxxxxxxxxxxxxxxxxxxxxxxxxxxxxxxxxxxxxxxxxxxxxxx**"
   ]
  },
  {
   "cell_type": "markdown",
   "id": "78002699",
   "metadata": {},
   "source": [
    "## Relationship Between Datasets"
   ]
  },
  {
   "cell_type": "code",
   "execution_count": 19,
   "id": "407ef3b2",
   "metadata": {
    "scrolled": true
   },
   "outputs": [
    {
     "data": {
      "text/plain": [
       "{'target_entity': 'learningData',\n",
       " 'entities': {'learningData': (          d3mIndex  qIndex  sIndex\n",
       "   d3mIndex                          \n",
       "   0                0       0       0\n",
       "   1                1       0       1\n",
       "   2                2       0       2\n",
       "   4                4       0       4\n",
       "   5                5       1       5\n",
       "   ...            ...     ...     ...\n",
       "   29253        29253    3046   26191\n",
       "   29254        29254    3046   26192\n",
       "   29255        29255    3046   26193\n",
       "   29256        29256    3046   26194\n",
       "   29257        29257    3046   26195\n",
       "   \n",
       "   [23406 rows x 3 columns],\n",
       "   'd3mIndex',\n",
       "   None),\n",
       "  'questions': (        qIndex                                           question\n",
       "   qIndex                                                           \n",
       "   0            0                     how are glacier caves formed ?\n",
       "   1            1  How are the directions of the velocity and for...\n",
       "   2            2                           how did apollo creed die\n",
       "   3            3            how long is the term for federal judges\n",
       "   4            4     how a beretta model 21 pistols magazines works\n",
       "   ...        ...                                                ...\n",
       "   3042      3042                          where is the brisket from\n",
       "   3043      3043                                what is ARM chipset\n",
       "   3044      3044                 what is the life span of June bugs\n",
       "   3045      3045  who is the youngest female to give birth world...\n",
       "   3046      3046                             what is an open mare ?\n",
       "   \n",
       "   [3047 rows x 2 columns],\n",
       "   'qIndex',\n",
       "   None),\n",
       "  'sentences': (        sIndex                                           sentence\n",
       "   sIndex                                                           \n",
       "   0            0  A partly submerged glacier cave on Perito More...\n",
       "   1            1          The ice facade is approximately 60 m high\n",
       "   2            2          Ice formations in the Titlis glacier cave\n",
       "   3            3  A glacier cave is a cave formed within the ice...\n",
       "   4            4  Glacier caves are often called ice caves , but...\n",
       "   ...        ...                                                ...\n",
       "   26191    26191  The word can also be used for other female equ...\n",
       "   26192    26192          A broodmare is a mare used for breeding .\n",
       "   26193    26193     A horse 's female parent is known as its dam .\n",
       "   26194    26194  An adult male horse is called a stallion , or ...\n",
       "   26195    26195  Occasionally the term `` horse '' is used in a...\n",
       "   \n",
       "   [26196 rows x 2 columns],\n",
       "   'sIndex',\n",
       "   None),\n",
       "  'vocabulary': (       index      word\n",
       "   index                 \n",
       "   0          0         !\n",
       "   1          1       ! '\n",
       "   2          2      ! ''\n",
       "   3          3  ! '' ? '\n",
       "   4          4       ! ,\n",
       "   ...      ...       ...\n",
       "   44704  44704       犬夜叉\n",
       "   44705  44705        飲茶\n",
       "   44706  44706      조선전쟁\n",
       "   44707  44707        학원\n",
       "   44708  44708      한국전쟁\n",
       "   \n",
       "   [44709 rows x 2 columns],\n",
       "   'index',\n",
       "   None)},\n",
       " 'relationships': [('questions', 'qIndex', 'learningData', 'qIndex'),\n",
       "  ('sentences', 'sIndex', 'learningData', 'sIndex')]}"
      ]
     },
     "execution_count": 19,
     "metadata": {},
     "output_type": "execute_result"
    }
   ],
   "source": [
    "thirty_two.context"
   ]
  },
  {
   "cell_type": "markdown",
   "id": "f8e13524",
   "metadata": {},
   "source": [
    "**xxxxxxxxxxxxxxxxxxxxxxxxxxxxxxxxxxxxxxxxxxxxxxxxxxxxxxxxxxxxxxxxxxxxxxxxxxxxxxxxxxxxxxxxxxxxxxxxxxxxxxxxxxxxxxxxxxxxxxxxxxx**"
   ]
  },
  {
   "cell_type": "markdown",
   "id": "cbb29fa4",
   "metadata": {},
   "source": [
    "## Importing Datasets"
   ]
  },
  {
   "cell_type": "code",
   "execution_count": 20,
   "id": "5dd831c6",
   "metadata": {},
   "outputs": [],
   "source": [
    "learning_data = pd.concat([X, y], axis = 1) # Learning Dataset\n",
    "questions = pd.read_csv('Data/questions.csv') # Questions Dataset\n",
    "answers = pd.read_csv('Data/sentences.csv') # Answers Dataset"
   ]
  },
  {
   "cell_type": "markdown",
   "id": "16042fc6",
   "metadata": {},
   "source": [
    "**xxxxxxxxxxxxxxxxxxxxxxxxxxxxxxxxxxxxxxxxxxxxxxxxxxxxxxxxxxxxxxxxxxxxxxxxxxxxxxxxxxxxxxxxxxxxxxxxxxxxxxxxxxxxxxxxxxxxxxxxxxx**"
   ]
  },
  {
   "cell_type": "markdown",
   "id": "75824c4d",
   "metadata": {},
   "source": [
    "## Data Preprocessing"
   ]
  },
  {
   "cell_type": "markdown",
   "id": "75ee7c6d",
   "metadata": {},
   "source": [
    "### Initializing Parent Table"
   ]
  },
  {
   "cell_type": "code",
   "execution_count": 21,
   "id": "4f26b6d9",
   "metadata": {},
   "outputs": [],
   "source": [
    "metadata = Metadata() # Creating an Instance of the Class"
   ]
  },
  {
   "cell_type": "code",
   "execution_count": 22,
   "id": "9c6dd42b",
   "metadata": {},
   "outputs": [],
   "source": [
    "metadata.add_table(name = 'learningQ', data = learning_data, primary_key = 'qIndex') # Questions Dataset\n",
    "metadata.add_table(name = 'learningS', data = learning_data, primary_key = 'sIndex') # Answers Dataset"
   ]
  },
  {
   "cell_type": "code",
   "execution_count": 23,
   "id": "06937ff5",
   "metadata": {},
   "outputs": [
    {
     "data": {
      "text/plain": [
       "{'fields': {'d3mIndex': {'type': 'numerical', 'subtype': 'integer'},\n",
       "  'qIndex': {'type': 'id', 'subtype': 'integer'},\n",
       "  'sIndex': {'type': 'numerical', 'subtype': 'integer'},\n",
       "  'isAnswer': {'type': 'numerical', 'subtype': 'integer'}},\n",
       " 'primary_key': 'qIndex'}"
      ]
     },
     "execution_count": 23,
     "metadata": {},
     "output_type": "execute_result"
    }
   ],
   "source": [
    "metadata.get_table_meta('learningQ') # Printing Parent Questions Metadata"
   ]
  },
  {
   "cell_type": "code",
   "execution_count": 24,
   "id": "30e053a7",
   "metadata": {},
   "outputs": [
    {
     "data": {
      "text/plain": [
       "{'fields': {'d3mIndex': {'type': 'numerical', 'subtype': 'integer'},\n",
       "  'qIndex': {'type': 'numerical', 'subtype': 'integer'},\n",
       "  'sIndex': {'type': 'id', 'subtype': 'integer'},\n",
       "  'isAnswer': {'type': 'numerical', 'subtype': 'integer'}},\n",
       " 'primary_key': 'sIndex'}"
      ]
     },
     "execution_count": 24,
     "metadata": {},
     "output_type": "execute_result"
    }
   ],
   "source": [
    "metadata.get_table_meta('learningS') # Printing Parent Answers Metadata"
   ]
  },
  {
   "cell_type": "markdown",
   "id": "cbf37d89",
   "metadata": {},
   "source": [
    "### Initializing Child Table"
   ]
  },
  {
   "cell_type": "code",
   "execution_count": 25,
   "id": "b60f9f88",
   "metadata": {},
   "outputs": [],
   "source": [
    "metadata.add_table(name = 'questions', data = questions, primary_key = 'qIndex', parent = 'learningQ', foreign_key = 'qIndex') # Questions\n",
    "metadata.add_table(name = 'answers', data = answers, primary_key = 'sIndex', parent = 'learningS', foreign_key = 'sIndex') # Answers"
   ]
  },
  {
   "cell_type": "code",
   "execution_count": 26,
   "id": "a5463849",
   "metadata": {},
   "outputs": [
    {
     "data": {
      "text/plain": [
       "Metadata\n",
       "  root_path: .\n",
       "  tables: ['learningQ', 'learningS', 'questions', 'answers']\n",
       "  relationships:\n",
       "    questions.qIndex -> learningQ.qIndex\n",
       "    answers.sIndex -> learningS.sIndex"
      ]
     },
     "execution_count": 26,
     "metadata": {},
     "output_type": "execute_result"
    }
   ],
   "source": [
    "metadata # Printing Dataset Relationship"
   ]
  },
  {
   "cell_type": "markdown",
   "id": "8a79b449",
   "metadata": {},
   "source": [
    "### Creating Dataset Dictionary "
   ]
  },
  {
   "cell_type": "code",
   "execution_count": 27,
   "id": "fa088a5f",
   "metadata": {},
   "outputs": [],
   "source": [
    "tables = {'learningQ': learning_data, 'learningS': learning_data,\n",
    "          'questions': questions, 'answers': answers} # Initializing the Dictionary "
   ]
  },
  {
   "cell_type": "code",
   "execution_count": 28,
   "id": "e9c8f044",
   "metadata": {
    "scrolled": true
   },
   "outputs": [
    {
     "data": {
      "text/plain": [
       "{'learningQ':           d3mIndex  qIndex  sIndex  isAnswer\n",
       " d3mIndex                                    \n",
       " 0                0       0       0         0\n",
       " 1                1       0       1         0\n",
       " 2                2       0       2         0\n",
       " 4                4       0       4         0\n",
       " 5                5       1       5         0\n",
       " ...            ...     ...     ...       ...\n",
       " 29253        29253    3046   26191         0\n",
       " 29254        29254    3046   26192         0\n",
       " 29255        29255    3046   26193         0\n",
       " 29256        29256    3046   26194         0\n",
       " 29257        29257    3046   26195         0\n",
       " \n",
       " [23406 rows x 4 columns],\n",
       " 'learningS':           d3mIndex  qIndex  sIndex  isAnswer\n",
       " d3mIndex                                    \n",
       " 0                0       0       0         0\n",
       " 1                1       0       1         0\n",
       " 2                2       0       2         0\n",
       " 4                4       0       4         0\n",
       " 5                5       1       5         0\n",
       " ...            ...     ...     ...       ...\n",
       " 29253        29253    3046   26191         0\n",
       " 29254        29254    3046   26192         0\n",
       " 29255        29255    3046   26193         0\n",
       " 29256        29256    3046   26194         0\n",
       " 29257        29257    3046   26195         0\n",
       " \n",
       " [23406 rows x 4 columns],\n",
       " 'questions':       qIndex                                           question\n",
       " 0          0                     how are glacier caves formed ?\n",
       " 1          1  How are the directions of the velocity and for...\n",
       " 2          2                           how did apollo creed die\n",
       " 3          3            how long is the term for federal judges\n",
       " 4          4     how a beretta model 21 pistols magazines works\n",
       " ...      ...                                                ...\n",
       " 3042    3042                          where is the brisket from\n",
       " 3043    3043                                what is ARM chipset\n",
       " 3044    3044                 what is the life span of June bugs\n",
       " 3045    3045  who is the youngest female to give birth world...\n",
       " 3046    3046                             what is an open mare ?\n",
       " \n",
       " [3047 rows x 2 columns],\n",
       " 'answers':        sIndex                                           sentence\n",
       " 0           0  A partly submerged glacier cave on Perito More...\n",
       " 1           1          The ice facade is approximately 60 m high\n",
       " 2           2          Ice formations in the Titlis glacier cave\n",
       " 3           3  A glacier cave is a cave formed within the ice...\n",
       " 4           4  Glacier caves are often called ice caves , but...\n",
       " ...       ...                                                ...\n",
       " 26191   26191  The word can also be used for other female equ...\n",
       " 26192   26192          A broodmare is a mare used for breeding .\n",
       " 26193   26193     A horse 's female parent is known as its dam .\n",
       " 26194   26194  An adult male horse is called a stallion , or ...\n",
       " 26195   26195  Occasionally the term `` horse '' is used in a...\n",
       " \n",
       " [26196 rows x 2 columns]}"
      ]
     },
     "execution_count": 28,
     "metadata": {},
     "output_type": "execute_result"
    }
   ],
   "source": [
    "tables # Printing the Dictionary"
   ]
  },
  {
   "cell_type": "markdown",
   "id": "c29d05f5",
   "metadata": {},
   "source": [
    "### Extracting Predictor & Response Variable "
   ]
  },
  {
   "cell_type": "code",
   "execution_count": 29,
   "id": "64396172",
   "metadata": {},
   "outputs": [],
   "source": [
    "X = learning_data.iloc[:, :-1] # Extracting Predictor Variables\n",
    "y = pd.DataFrame(learning_data.iloc[:, -1]) # Extracting Response Variables"
   ]
  },
  {
   "cell_type": "markdown",
   "id": "7f4737a5",
   "metadata": {},
   "source": [
    "### Training & Test Set Split"
   ]
  },
  {
   "cell_type": "code",
   "execution_count": 30,
   "id": "bae29699",
   "metadata": {},
   "outputs": [],
   "source": [
    "X_train, X_test, y_train, y_test = train_test_split(X, y, test_size = 0.3, random_state = 0)"
   ]
  },
  {
   "cell_type": "markdown",
   "id": "6ffd98c2",
   "metadata": {},
   "source": [
    "**xxxxxxxxxxxxxxxxxxxxxxxxxxxxxxxxxxxxxxxxxxxxxxxxxxxxxxxxxxxxxxxxxxxxxxxxxxxxxxxxxxxxxxxxxxxxxxxxxxxxxxxxxxxxxxxxxxxxxxxxxxx**"
   ]
  },
  {
   "cell_type": "markdown",
   "id": "bdafc6bb",
   "metadata": {},
   "source": [
    "## XG Boost Classification Model"
   ]
  },
  {
   "cell_type": "code",
   "execution_count": 31,
   "id": "52b619ff",
   "metadata": {},
   "outputs": [
    {
     "data": {
      "text/plain": [
       "LogisticRegression()"
      ]
     },
     "execution_count": 31,
     "metadata": {},
     "output_type": "execute_result"
    }
   ],
   "source": [
    "model = LogisticRegression() # Initializing the Classification Model\n",
    "model.fit(X_train, y_train) # Traing the Model on Original Datapoints"
   ]
  },
  {
   "cell_type": "markdown",
   "id": "da6691b0",
   "metadata": {},
   "source": [
    "### Evaluating Model"
   ]
  },
  {
   "cell_type": "code",
   "execution_count": 32,
   "id": "ec675ba3",
   "metadata": {},
   "outputs": [
    {
     "name": "stdout",
     "output_type": "stream",
     "text": [
      "Average Accuracy of the Model ->  95 %\n"
     ]
    }
   ],
   "source": [
    "cv = KFold(n_splits=10, random_state = 1, shuffle = True) # Defining Cross-Validation Method \n",
    "\n",
    "scores = cross_val_score(model, X, y, cv = cv, n_jobs = -1) # Evaluating the Model\n",
    "print('Average Accuracy of the Model -> ', round(mean(absolute(scores)) * 100), '%') # Printing Results"
   ]
  },
  {
   "cell_type": "markdown",
   "id": "6fab84f0",
   "metadata": {},
   "source": [
    "**xxxxxxxxxxxxxxxxxxxxxxxxxxxxxxxxxxxxxxxxxxxxxxxxxxxxxxxxxxxxxxxxxxxxxxxxxxxxxxxxxxxxxxxxxxxxxxxxxxxxxxxxxxxxxxxxxxxxxxxxxxx**"
   ]
  },
  {
   "cell_type": "markdown",
   "id": "a6a4ecce",
   "metadata": {},
   "source": [
    "## Generating Synthetic Data"
   ]
  },
  {
   "cell_type": "code",
   "execution_count": 1,
   "id": "4cef0e7e",
   "metadata": {
    "collapsed": true
   },
   "outputs": [
    {
     "ename": "NameError",
     "evalue": "name 'HMA1' is not defined",
     "output_type": "error",
     "traceback": [
      "\u001b[1;31m---------------------------------------------------------------------------\u001b[0m",
      "\u001b[1;31mNameError\u001b[0m                                 Traceback (most recent call last)",
      "\u001b[1;32m~\\AppData\\Local\\Temp\\ipykernel_6476\\914892184.py\u001b[0m in \u001b[0;36m<module>\u001b[1;34m\u001b[0m\n\u001b[1;32m----> 1\u001b[1;33m \u001b[0msyn_model\u001b[0m \u001b[1;33m=\u001b[0m \u001b[0mHMA1\u001b[0m\u001b[1;33m(\u001b[0m\u001b[0mmetadata\u001b[0m\u001b[1;33m)\u001b[0m \u001b[1;31m# Creating an Instance of the Class\u001b[0m\u001b[1;33m\u001b[0m\u001b[1;33m\u001b[0m\u001b[0m\n\u001b[0m\u001b[0;32m      2\u001b[0m \u001b[0msyn_model\u001b[0m\u001b[1;33m.\u001b[0m\u001b[0mfit\u001b[0m\u001b[1;33m(\u001b[0m\u001b[0mtables\u001b[0m\u001b[1;33m)\u001b[0m \u001b[1;31m# Applying the Model on the Data\u001b[0m\u001b[1;33m\u001b[0m\u001b[1;33m\u001b[0m\u001b[0m\n",
      "\u001b[1;31mNameError\u001b[0m: name 'HMA1' is not defined"
     ]
    }
   ],
   "source": [
    "syn_model = HMA1(metadata) # Creating an Instance of the Class\n",
    "syn_model.fit(tables) # Applying the Model on the Data "
   ]
  },
  {
   "cell_type": "markdown",
   "id": "12bacdbf",
   "metadata": {},
   "source": [
    "#### Saving The Synthetic Data Generator Model"
   ]
  },
  {
   "cell_type": "code",
   "execution_count": 25,
   "id": "7bfbe717",
   "metadata": {},
   "outputs": [],
   "source": [
    "syn_model.save('Model.pkl')"
   ]
  },
  {
   "cell_type": "markdown",
   "id": "b4056b26",
   "metadata": {},
   "source": [
    "#### Loading The Saved Synthetic Data Generator Model"
   ]
  },
  {
   "cell_type": "code",
   "execution_count": 34,
   "id": "52160083",
   "metadata": {},
   "outputs": [],
   "source": [
    "loaded = HMA1.load('Model.pkl')"
   ]
  },
  {
   "cell_type": "code",
   "execution_count": 35,
   "id": "29ce0e3c",
   "metadata": {
    "scrolled": true
   },
   "outputs": [
    {
     "data": {
      "text/plain": [
       "{'learningQ':        d3mIndex  qIndex  sIndex  isAnswer\n",
       " 0          6743   23406    5898         0\n",
       " 1         27886   23407   24831         0\n",
       " 2         10778   23408    8147         0\n",
       " 3         11251   23409    8681         0\n",
       " 4         11512   23410   13184         0\n",
       " ...         ...     ...     ...       ...\n",
       " 23401     18395   46807   15882         0\n",
       " 23402     16988   46808   18394         0\n",
       " 23403     15809   46809   10663         0\n",
       " 23404     21842   46810   18109         0\n",
       " 23405      7356   46811    8030         0\n",
       " \n",
       " [23406 rows x 4 columns],\n",
       " 'questions':        qIndex                                           question\n",
       " 0       23406                  what cords are used for in wiccan\n",
       " 1       23407  How is constitutionalism used in the American ...\n",
       " 2       23408                                how far is a league\n",
       " 3       23409           what is the average wear time for braces\n",
       " 4       23410      what made the civil war different from others\n",
       " ...       ...                                                ...\n",
       " 23401   46807                            Who was Daniel J Daly ?\n",
       " 23402   46808          how many canals in mandibular first molar\n",
       " 23403   46809                      when is the feast of St. Rita\n",
       " 23404   46810               what is the use of a sales invoice ?\n",
       " 23405   46811     what happens to queen elizabeth 's old dresses\n",
       " \n",
       " [23406 rows x 2 columns],\n",
       " 'learningS':        d3mIndex  qIndex  sIndex  isAnswer\n",
       " 0          4524     431   23406         0\n",
       " 1             0       0   23407         0\n",
       " 2         29257    3046   23408         0\n",
       " 3         25866    2677   23409         0\n",
       " 4         25982    2693   23410         0\n",
       " ...         ...     ...     ...       ...\n",
       " 23401     20153    2086   46807         0\n",
       " 23402     18211    1874   46808         0\n",
       " 23403     17273    1794   46809         0\n",
       " 23404      8275     827   46810         0\n",
       " 23405      1336      67   46811         0\n",
       " \n",
       " [23406 rows x 4 columns],\n",
       " 'answers':        sIndex                                           sentence\n",
       " 0       23406  Since the 1960s information concerning Kennedy...\n",
       " 1       23407  Wales failed to qualify for the 2008 World Cup...\n",
       " 2       23408  This architectural system and building method ...\n",
       " 3       23409  The long term outcome is primarily related to ...\n",
       " 4       23410  According to the Diagnostic and Statistical Ma...\n",
       " ...       ...                                                ...\n",
       " 23401   46807  In fact , the only identifying public feature ...\n",
       " 23402   46808  For example a typical email system might conta...\n",
       " 23403   46809  The public opinion of voters was remarkably in...\n",
       " 23404   46810  A series of KSA statements are usually require...\n",
       " 23405   46811  They are also allowed in personal injury actio...\n",
       " \n",
       " [23406 rows x 2 columns]}"
      ]
     },
     "execution_count": 35,
     "metadata": {},
     "output_type": "execute_result"
    }
   ],
   "source": [
    "syn_data = loaded.sample() # Generating Synthetic Data\n",
    "syn_data # Printing the Generated Meta Data"
   ]
  },
  {
   "cell_type": "markdown",
   "id": "ecfa7d30",
   "metadata": {},
   "source": [
    "#### Data Pre-Processing"
   ]
  },
  {
   "cell_type": "code",
   "execution_count": 36,
   "id": "457303ca",
   "metadata": {
    "scrolled": true
   },
   "outputs": [
    {
     "data": {
      "text/html": [
       "<div>\n",
       "<style scoped>\n",
       "    .dataframe tbody tr th:only-of-type {\n",
       "        vertical-align: middle;\n",
       "    }\n",
       "\n",
       "    .dataframe tbody tr th {\n",
       "        vertical-align: top;\n",
       "    }\n",
       "\n",
       "    .dataframe thead th {\n",
       "        text-align: right;\n",
       "    }\n",
       "</style>\n",
       "<table border=\"1\" class=\"dataframe\">\n",
       "  <thead>\n",
       "    <tr style=\"text-align: right;\">\n",
       "      <th></th>\n",
       "      <th>d3mIndex</th>\n",
       "      <th>qIndex</th>\n",
       "      <th>sIndex</th>\n",
       "      <th>isAnswer</th>\n",
       "    </tr>\n",
       "  </thead>\n",
       "  <tbody>\n",
       "    <tr>\n",
       "      <th>0</th>\n",
       "      <td>6743</td>\n",
       "      <td>23406</td>\n",
       "      <td>5898</td>\n",
       "      <td>0</td>\n",
       "    </tr>\n",
       "    <tr>\n",
       "      <th>1</th>\n",
       "      <td>27886</td>\n",
       "      <td>23407</td>\n",
       "      <td>24831</td>\n",
       "      <td>0</td>\n",
       "    </tr>\n",
       "    <tr>\n",
       "      <th>2</th>\n",
       "      <td>10778</td>\n",
       "      <td>23408</td>\n",
       "      <td>8147</td>\n",
       "      <td>0</td>\n",
       "    </tr>\n",
       "    <tr>\n",
       "      <th>3</th>\n",
       "      <td>11251</td>\n",
       "      <td>23409</td>\n",
       "      <td>8681</td>\n",
       "      <td>0</td>\n",
       "    </tr>\n",
       "    <tr>\n",
       "      <th>4</th>\n",
       "      <td>11512</td>\n",
       "      <td>23410</td>\n",
       "      <td>13184</td>\n",
       "      <td>0</td>\n",
       "    </tr>\n",
       "    <tr>\n",
       "      <th>...</th>\n",
       "      <td>...</td>\n",
       "      <td>...</td>\n",
       "      <td>...</td>\n",
       "      <td>...</td>\n",
       "    </tr>\n",
       "    <tr>\n",
       "      <th>23401</th>\n",
       "      <td>18395</td>\n",
       "      <td>46807</td>\n",
       "      <td>15882</td>\n",
       "      <td>0</td>\n",
       "    </tr>\n",
       "    <tr>\n",
       "      <th>23402</th>\n",
       "      <td>16988</td>\n",
       "      <td>46808</td>\n",
       "      <td>18394</td>\n",
       "      <td>0</td>\n",
       "    </tr>\n",
       "    <tr>\n",
       "      <th>23403</th>\n",
       "      <td>15809</td>\n",
       "      <td>46809</td>\n",
       "      <td>10663</td>\n",
       "      <td>0</td>\n",
       "    </tr>\n",
       "    <tr>\n",
       "      <th>23404</th>\n",
       "      <td>21842</td>\n",
       "      <td>46810</td>\n",
       "      <td>18109</td>\n",
       "      <td>0</td>\n",
       "    </tr>\n",
       "    <tr>\n",
       "      <th>23405</th>\n",
       "      <td>7356</td>\n",
       "      <td>46811</td>\n",
       "      <td>8030</td>\n",
       "      <td>0</td>\n",
       "    </tr>\n",
       "  </tbody>\n",
       "</table>\n",
       "<p>23406 rows × 4 columns</p>\n",
       "</div>"
      ],
      "text/plain": [
       "       d3mIndex  qIndex  sIndex  isAnswer\n",
       "0          6743   23406    5898         0\n",
       "1         27886   23407   24831         0\n",
       "2         10778   23408    8147         0\n",
       "3         11251   23409    8681         0\n",
       "4         11512   23410   13184         0\n",
       "...         ...     ...     ...       ...\n",
       "23401     18395   46807   15882         0\n",
       "23402     16988   46808   18394         0\n",
       "23403     15809   46809   10663         0\n",
       "23404     21842   46810   18109         0\n",
       "23405      7356   46811    8030         0\n",
       "\n",
       "[23406 rows x 4 columns]"
      ]
     },
     "execution_count": 36,
     "metadata": {},
     "output_type": "execute_result"
    }
   ],
   "source": [
    "data = syn_data['learningQ'] # Extracting Testing Dataset\n",
    "data # Printing Results"
   ]
  },
  {
   "cell_type": "code",
   "execution_count": 41,
   "id": "7c78ec50",
   "metadata": {},
   "outputs": [],
   "source": [
    "syn_X = data.iloc[:, :-1] # Extracting Predictor Variables\n",
    "syn_y = data.iloc[:, -1] # Extracting Response Variables"
   ]
  },
  {
   "cell_type": "markdown",
   "id": "72c9440f",
   "metadata": {},
   "source": [
    "#### Evaluating Synthetic Instances"
   ]
  },
  {
   "cell_type": "markdown",
   "id": "dd92696b",
   "metadata": {},
   "source": [
    "**Testing Generated Synthetic Data On The Model Trained with Original Datapoints**"
   ]
  },
  {
   "cell_type": "code",
   "execution_count": 42,
   "id": "53e6b9ab",
   "metadata": {},
   "outputs": [
    {
     "name": "stdout",
     "output_type": "stream",
     "text": [
      "Average Accuracy of the Model->  2 %\n"
     ]
    }
   ],
   "source": [
    "syn_acc = model.predict(syn_X) # Prediction\n",
    "print(\"Average Accuracy of the Model-> \", round(accuracy_score(syn_acc, syn_y)*100), \"%\") # Average Accuracy Score of the Model"
   ]
  },
  {
   "cell_type": "markdown",
   "id": "4acd9c01",
   "metadata": {},
   "source": [
    "**Statistical Metrics**"
   ]
  },
  {
   "cell_type": "code",
   "execution_count": 49,
   "id": "ba3d896c",
   "metadata": {},
   "outputs": [],
   "source": [
    "KS_test = KSTest.compute(tables, syn_data) # Inverted Kolmogorov-Smirnov Test\n",
    "CS_test = CSTest.compute(tables, syn_data) # Chi-Squared Test"
   ]
  },
  {
   "cell_type": "code",
   "execution_count": 50,
   "id": "b61f8c80",
   "metadata": {},
   "outputs": [
    {
     "data": {
      "text/html": [
       "<div>\n",
       "<style scoped>\n",
       "    .dataframe tbody tr th:only-of-type {\n",
       "        vertical-align: middle;\n",
       "    }\n",
       "\n",
       "    .dataframe tbody tr th {\n",
       "        vertical-align: top;\n",
       "    }\n",
       "\n",
       "    .dataframe thead th {\n",
       "        text-align: right;\n",
       "    }\n",
       "</style>\n",
       "<table border=\"1\" class=\"dataframe\">\n",
       "  <thead>\n",
       "    <tr style=\"text-align: right;\">\n",
       "      <th></th>\n",
       "      <th>Result</th>\n",
       "    </tr>\n",
       "  </thead>\n",
       "  <tbody>\n",
       "    <tr>\n",
       "      <th>Inverted Kolmogorov-Smirnov Test</th>\n",
       "      <td>0.388112</td>\n",
       "    </tr>\n",
       "    <tr>\n",
       "      <th>Chi-Squared Test</th>\n",
       "      <td>1.000000</td>\n",
       "    </tr>\n",
       "  </tbody>\n",
       "</table>\n",
       "</div>"
      ],
      "text/plain": [
       "                                    Result\n",
       "Inverted Kolmogorov-Smirnov Test  0.388112\n",
       "Chi-Squared Test                  1.000000"
      ]
     },
     "execution_count": 50,
     "metadata": {},
     "output_type": "execute_result"
    }
   ],
   "source": [
    "evaluation = [KS_test, CS_test] # Creating a List of the Results\n",
    "evaluation = pd.DataFrame(evaluation) # Creating a Data Frame of the Results\n",
    "evaluation.columns = ['Result'] # Gicing Column Name\n",
    "evaluation.rename({0:'Inverted Kolmogorov-Smirnov Test', 1:'Chi-Squared Test'}) # Renaming Row Name"
   ]
  },
  {
   "cell_type": "code",
   "execution_count": 51,
   "id": "e486987c",
   "metadata": {},
   "outputs": [],
   "source": [
    "p_CS_test = 1-CS_test # Calculating 'p-value' for Chi-Squared Test\n",
    "p_KS_test = 1-KS_test # Calculating 'p-value' for Inverted Kolmogorov-Smirnov Test"
   ]
  },
  {
   "cell_type": "code",
   "execution_count": 52,
   "id": "eb52eb60",
   "metadata": {},
   "outputs": [
    {
     "data": {
      "text/html": [
       "<div>\n",
       "<style scoped>\n",
       "    .dataframe tbody tr th:only-of-type {\n",
       "        vertical-align: middle;\n",
       "    }\n",
       "\n",
       "    .dataframe tbody tr th {\n",
       "        vertical-align: top;\n",
       "    }\n",
       "\n",
       "    .dataframe thead th {\n",
       "        text-align: right;\n",
       "    }\n",
       "</style>\n",
       "<table border=\"1\" class=\"dataframe\">\n",
       "  <thead>\n",
       "    <tr style=\"text-align: right;\">\n",
       "      <th></th>\n",
       "      <th>P Values</th>\n",
       "    </tr>\n",
       "  </thead>\n",
       "  <tbody>\n",
       "    <tr>\n",
       "      <th>Chi-Squared P Value</th>\n",
       "      <td>0.000000</td>\n",
       "    </tr>\n",
       "    <tr>\n",
       "      <th>Inverted Kolmogorov-Smirnov P Value</th>\n",
       "      <td>0.611888</td>\n",
       "    </tr>\n",
       "  </tbody>\n",
       "</table>\n",
       "</div>"
      ],
      "text/plain": [
       "                                     P Values\n",
       "Chi-Squared P Value                  0.000000\n",
       "Inverted Kolmogorov-Smirnov P Value  0.611888"
      ]
     },
     "execution_count": 52,
     "metadata": {},
     "output_type": "execute_result"
    }
   ],
   "source": [
    "p_value = [p_CS_test, p_KS_test] # Creating a List of the Results\n",
    "p_value = pd.DataFrame(p_value) # Creating a Data Frame of the Results\n",
    "p_value.columns = ['P Values'] # Gicing Column Name\n",
    "p_value.rename({0:'Chi-Squared P Value', 1:'Inverted Kolmogorov-Smirnov P Value'}) # Renaming Row Name"
   ]
  },
  {
   "cell_type": "markdown",
   "id": "1489c69d",
   "metadata": {},
   "source": [
    "**xxxxxxxxxxxxxxxxxxxxxxxxxxxxxxxxxxxxxxxxxxxxxxxxxxxxxxxxxxxxxxxxxxxxxxxxxxxxxxxxxxxxxxxxxxxxxxxxxxxxxxxxxxxxxxxxxxxxxxxxxxx**"
   ]
  }
 ],
 "metadata": {
  "kernelspec": {
   "display_name": "Python 3 (ipykernel)",
   "language": "python",
   "name": "python3"
  },
  "language_info": {
   "codemirror_mode": {
    "name": "ipython",
    "version": 3
   },
   "file_extension": ".py",
   "mimetype": "text/x-python",
   "name": "python",
   "nbconvert_exporter": "python",
   "pygments_lexer": "ipython3",
   "version": "3.9.7"
  }
 },
 "nbformat": 4,
 "nbformat_minor": 5
}
