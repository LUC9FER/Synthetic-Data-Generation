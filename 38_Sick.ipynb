{
 "cells": [
  {
   "cell_type": "markdown",
   "id": "bbda42c2",
   "metadata": {},
   "source": [
    "## Downloading Dataset"
   ]
  },
  {
   "cell_type": "code",
   "execution_count": 1,
   "id": "5c4ee415",
   "metadata": {},
   "outputs": [],
   "source": [
    "from mit_d3m import load_dataset # Importing Dataset\n",
    "sick = load_dataset('38_sick') # Loading Dataset"
   ]
  },
  {
   "cell_type": "markdown",
   "id": "1ebf6a34",
   "metadata": {},
   "source": [
    "**xxxxxxxxxxxxxxxxxxxxxxxxxxxxxxxxxxxxxxxxxxxxxxxxxxxxxxxxxxxxxxxxxxxxxxxxxxxxxxxxxxxxxxxxxxxxxxxxxxxxxxxxxxxxxxxxxxxxxxxxxxx**"
   ]
  },
  {
   "cell_type": "markdown",
   "id": "f345f504",
   "metadata": {},
   "source": [
    "## Dataset Context"
   ]
  },
  {
   "cell_type": "code",
   "execution_count": 2,
   "id": "9ec8f853",
   "metadata": {},
   "outputs": [
    {
     "data": {
      "text/plain": [
       "{'target_entity': 'learningData',\n",
       " 'entities': {'learningData': (          d3mIndex   age sex on_thyroxine query_on_thyroxine  \\\n",
       "   d3mIndex                                                       \n",
       "   0                0  41.0   F            f                  f   \n",
       "   2                2  46.0   M            f                  f   \n",
       "   3                3  70.0   F            t                  f   \n",
       "   5                5  18.0   F            t                  f   \n",
       "   6                6  59.0   F            f                  f   \n",
       "   ...            ...   ...  ..          ...                ...   \n",
       "   3766          3766  19.0   F            f                  f   \n",
       "   3767          3767  30.0   F            f                  f   \n",
       "   3768          3768  68.0   F            f                  f   \n",
       "   3769          3769  74.0   F            f                  f   \n",
       "   3771          3771  64.0   F            f                  f   \n",
       "   \n",
       "            on_antithyroid_medication sick pregnant thyroid_surgery  \\\n",
       "   d3mIndex                                                           \n",
       "   0                                f    f        f               f   \n",
       "   2                                f    f        f               f   \n",
       "   3                                f    f        f               f   \n",
       "   5                                f    f        f               f   \n",
       "   6                                f    f        f               f   \n",
       "   ...                            ...  ...      ...             ...   \n",
       "   3766                             f    f        f               f   \n",
       "   3767                             f    f        f               f   \n",
       "   3768                             f    f        f               f   \n",
       "   3769                             f    f        f               f   \n",
       "   3771                             f    f        f               f   \n",
       "   \n",
       "            I131_treatment  ...   T3 TT4_measured    TT4 T4U_measured   T4U  \\\n",
       "   d3mIndex                 ...                                               \n",
       "   0                     f  ...  2.5            t  125.0            t  1.14   \n",
       "   2                     f  ...  NaN            t  109.0            t  0.91   \n",
       "   3                     f  ...  1.9            t  175.0            f   NaN   \n",
       "   5                     f  ...  NaN            t  183.0            t  1.30   \n",
       "   6                     f  ...  NaN            t   72.0            t  0.92   \n",
       "   ...                 ...  ...  ...          ...    ...          ...   ...   \n",
       "   3766                  f  ...  2.7            t  108.0            t  1.11   \n",
       "   3767                  f  ...  NaN            f    NaN            f   NaN   \n",
       "   3768                  f  ...  2.1            t  124.0            t  1.08   \n",
       "   3769                  f  ...  1.8            t  112.0            t  1.07   \n",
       "   3771                  f  ...  2.2            t   99.0            t  1.07   \n",
       "   \n",
       "            FTI_measured    FTI TBG_measured  TBG referral_source  \n",
       "   d3mIndex                                                        \n",
       "   0                   t  109.0            f  NaN            SVHC  \n",
       "   2                   t  120.0            f  NaN           other  \n",
       "   3                   f    NaN            f  NaN           other  \n",
       "   5                   t  141.0            f  NaN           other  \n",
       "   6                   t   78.0            f  NaN           other  \n",
       "   ...               ...    ...          ...  ...             ...  \n",
       "   3766                t   97.0            f  NaN           other  \n",
       "   3767                f    NaN            f  NaN           other  \n",
       "   3768                t  114.0            f  NaN             SVI  \n",
       "   3769                t  105.0            f  NaN           other  \n",
       "   3771                t   92.0            f  NaN           other  \n",
       "   \n",
       "   [3018 rows x 30 columns],\n",
       "   'd3mIndex',\n",
       "   None)},\n",
       " 'relationships': []}"
      ]
     },
     "execution_count": 2,
     "metadata": {},
     "output_type": "execute_result"
    }
   ],
   "source": [
    "sick.context"
   ]
  },
  {
   "cell_type": "markdown",
   "id": "4130d473",
   "metadata": {},
   "source": [
    "**xxxxxxxxxxxxxxxxxxxxxxxxxxxxxxxxxxxxxxxxxxxxxxxxxxxxxxxxxxxxxxxxxxxxxxxxxxxxxxxxxxxxxxxxxxxxxxxxxxxxxxxxxxxxxxxxxxxxxxxxxxx**"
   ]
  },
  {
   "cell_type": "markdown",
   "id": "5ebb3086",
   "metadata": {},
   "source": [
    "## Importing Libraries"
   ]
  },
  {
   "cell_type": "code",
   "execution_count": 3,
   "id": "dfc4ab1d",
   "metadata": {},
   "outputs": [],
   "source": [
    "import numpy as np \n",
    "import pandas as pd\n",
    "import matplotlib.pyplot as plt\n",
    "import seaborn as sns\n",
    "import pickle\n",
    "import warnings\n",
    "import tabulate"
   ]
  },
  {
   "cell_type": "markdown",
   "id": "b10a0392",
   "metadata": {},
   "source": [
    "### Data Preprocessing"
   ]
  },
  {
   "cell_type": "code",
   "execution_count": 4,
   "id": "61a85cf5",
   "metadata": {},
   "outputs": [],
   "source": [
    "from sklearn.preprocessing import LabelEncoder # Importing Library for Response Variable Encoding\n",
    "from sklearn.model_selection import train_test_split, KFold, cross_val_score # Importing Library for Splitting the Dataset into Train & Test Set\n",
    "from imblearn.over_sampling import SMOTE # Importing 'SMOTE' to Handel Imbalance Dataset"
   ]
  },
  {
   "cell_type": "markdown",
   "id": "6b07b73a",
   "metadata": {},
   "source": [
    "### Models"
   ]
  },
  {
   "cell_type": "code",
   "execution_count": 58,
   "id": "f4b52a94",
   "metadata": {},
   "outputs": [],
   "source": [
    "from sklearn.linear_model import LogisticRegression # Importing 'LogistocRegression' Machine Learning Model\n",
    "from sdv.tabular import GaussianCopula # Importing 'GaussianCoupla' Model\n",
    "from sdv.tabular import CTGAN # Importing 'CTGAN' Model\n",
    "from sdv.tabular import CopulaGAN # Importing 'CopulaGAN' Model"
   ]
  },
  {
   "cell_type": "markdown",
   "id": "4ebea9ee",
   "metadata": {},
   "source": [
    "### Evaluation Metrics"
   ]
  },
  {
   "cell_type": "code",
   "execution_count": 6,
   "id": "77babc87",
   "metadata": {},
   "outputs": [],
   "source": [
    "from sklearn.model_selection import KFold # Importing 'KFold' for Evaluating Model\n",
    "from sklearn.model_selection import cross_val_score# Importing 'cross_val_score' for Calculating Model Score\n",
    "from sklearn.metrics import accuracy_score # Importing 'accuracy_score' Class for Model Evaluation \n",
    "from numpy import mean, absolute # Importing 'mean' & 'absolute' to Calculate Accuracy Score\n",
    "from sdv.evaluation import evaluate # Importing 'evaluate' Class for Synthetic Dataset Evaluation"
   ]
  },
  {
   "cell_type": "markdown",
   "id": "fd4b67b1",
   "metadata": {},
   "source": [
    "**xxxxxxxxxxxxxxxxxxxxxxxxxxxxxxxxxxxxxxxxxxxxxxxxxxxxxxxxxxxxxxxxxxxxxxxxxxxxxxxxxxxxxxxxxxxxxxxxxxxxxxxxxxxxxxxxxxxxxxxxxxx**"
   ]
  },
  {
   "cell_type": "markdown",
   "id": "46889bf7",
   "metadata": {},
   "source": [
    "## Removing Warning Messages"
   ]
  },
  {
   "cell_type": "code",
   "execution_count": 7,
   "id": "aadc5082",
   "metadata": {},
   "outputs": [],
   "source": [
    "warnings.filterwarnings(action = 'ignore') "
   ]
  },
  {
   "cell_type": "markdown",
   "id": "0c901467",
   "metadata": {},
   "source": [
    "**xxxxxxxxxxxxxxxxxxxxxxxxxxxxxxxxxxxxxxxxxxxxxxxxxxxxxxxxxxxxxxxxxxxxxxxxxxxxxxxxxxxxxxxxxxxxxxxxxxxxxxxxxxxxxxxxxxxxxxxxxxx**"
   ]
  },
  {
   "cell_type": "markdown",
   "id": "f778dec6",
   "metadata": {},
   "source": [
    "## Predictor & Response Variables"
   ]
  },
  {
   "cell_type": "code",
   "execution_count": 8,
   "id": "bd715a6c",
   "metadata": {},
   "outputs": [],
   "source": [
    "X = sick.X # Predictor Variables\n",
    "y = sick.y # Response Variables"
   ]
  },
  {
   "cell_type": "markdown",
   "id": "6d55da0b",
   "metadata": {},
   "source": [
    "## Data Pre-Processing "
   ]
  },
  {
   "cell_type": "code",
   "execution_count": 9,
   "id": "0f3ee8cd",
   "metadata": {},
   "outputs": [
    {
     "data": {
      "text/plain": [
       "d3mIndex                        0\n",
       "age                             1\n",
       "sex                           125\n",
       "on_thyroxine                    0\n",
       "query_on_thyroxine              0\n",
       "on_antithyroid_medication       0\n",
       "sick                            0\n",
       "pregnant                        0\n",
       "thyroid_surgery                 0\n",
       "I131_treatment                  0\n",
       "query_hypothyroid               0\n",
       "query_hyperthyroid              0\n",
       "lithium                         0\n",
       "goitre                          0\n",
       "tumor                           0\n",
       "hypopituitary                   0\n",
       "psych                           0\n",
       "TSH_measured                    0\n",
       "TSH                           295\n",
       "T3_measured                     0\n",
       "T3                            604\n",
       "TT4_measured                    0\n",
       "TT4                           184\n",
       "T4U_measured                    0\n",
       "T4U                           326\n",
       "FTI_measured                    0\n",
       "FTI                           324\n",
       "TBG_measured                    0\n",
       "TBG                          3018\n",
       "referral_source                 0\n",
       "Class                           0\n",
       "dtype: int64"
      ]
     },
     "execution_count": 9,
     "metadata": {},
     "output_type": "execute_result"
    }
   ],
   "source": [
    "dataset = pd.concat([X,y], axis = 1) # Joining 'X' & 'y' in a Single Data Frame\n",
    "dataset.isnull().sum() # Printing Total 'NULL' Values in the Dataset"
   ]
  },
  {
   "cell_type": "markdown",
   "id": "2ca7d9d1",
   "metadata": {},
   "source": [
    "### Removing Empty Values"
   ]
  },
  {
   "cell_type": "code",
   "execution_count": 10,
   "id": "2cb7de1e",
   "metadata": {},
   "outputs": [
    {
     "data": {
      "text/plain": [
       "age                          0\n",
       "sex                          0\n",
       "on_thyroxine                 0\n",
       "query_on_thyroxine           0\n",
       "on_antithyroid_medication    0\n",
       "sick                         0\n",
       "pregnant                     0\n",
       "thyroid_surgery              0\n",
       "I131_treatment               0\n",
       "query_hypothyroid            0\n",
       "query_hyperthyroid           0\n",
       "lithium                      0\n",
       "goitre                       0\n",
       "tumor                        0\n",
       "hypopituitary                0\n",
       "psych                        0\n",
       "TSH_measured                 0\n",
       "TSH                          0\n",
       "T3_measured                  0\n",
       "T3                           0\n",
       "TT4_measured                 0\n",
       "TT4                          0\n",
       "T4U_measured                 0\n",
       "T4U                          0\n",
       "FTI_measured                 0\n",
       "FTI                          0\n",
       "TBG_measured                 0\n",
       "referral_source              0\n",
       "Class                        0\n",
       "dtype: int64"
      ]
     },
     "execution_count": 10,
     "metadata": {},
     "output_type": "execute_result"
    }
   ],
   "source": [
    "dataset = dataset.drop(['d3mIndex','TBG'], axis = 1) # Dropping Empty Columns\n",
    "dataset = dataset.drop([1364], axis = 0)\n",
    "dataset = dataset.dropna(inplace = False) # Removing All 'NULL' Values\n",
    "dataset.isnull().sum() # Printing the Results"
   ]
  },
  {
   "cell_type": "markdown",
   "id": "4d3fddc5",
   "metadata": {},
   "source": [
    "### Extracting Predictor & Response Variable "
   ]
  },
  {
   "cell_type": "code",
   "execution_count": 11,
   "id": "9a65bb88",
   "metadata": {},
   "outputs": [],
   "source": [
    "X = dataset.iloc[:, :-1] # Extracting Predictor Variables\n",
    "y = pd.DataFrame(dataset.iloc[:, -1]) # Extracting Response Variables"
   ]
  },
  {
   "cell_type": "markdown",
   "id": "668ad906",
   "metadata": {},
   "source": [
    "### Checking Class Imbalance"
   ]
  },
  {
   "cell_type": "code",
   "execution_count": 12,
   "id": "c975b1b6",
   "metadata": {
    "scrolled": true
   },
   "outputs": [
    {
     "data": {
      "image/png": "[encoded data removed]",
      "text/plain": [
       "<Figure size 432x288 with 1 Axes>"
      ]
     },
     "metadata": {
      "needs_background": "light"
     },
     "output_type": "display_data"
    }
   ],
   "source": [
    "before = y # Converting Response Variable into a Dataframe\n",
    "before.columns = ['Catagories'] # Giving Column Name \n",
    "\n",
    "sns.countplot(x = 'Catagories', data = before) # Plotting The Count Graph\n",
    "plt.title('Distribution of Category in Dataset (Before Pre-Processing)') # Giving Title To The Graph\n",
    "plt.show() # Showing The Graph"
   ]
  },
  {
   "cell_type": "markdown",
   "id": "41aa42d7",
   "metadata": {},
   "source": [
    "### Encoding"
   ]
  },
  {
   "cell_type": "code",
   "execution_count": 13,
   "id": "d08e7449",
   "metadata": {},
   "outputs": [],
   "source": [
    "X = np.array(pd.get_dummies(X)) # Encoding Predictor Varaiables\n",
    "\n",
    "response_encode = LabelEncoder() # Initializing 'LabelEncoder()' for Encoding Response Variable\n",
    "y = np.array(response_encode.fit_transform(y)) # Encoding Response Variable"
   ]
  },
  {
   "cell_type": "code",
   "execution_count": 14,
   "id": "d873f702",
   "metadata": {},
   "outputs": [
    {
     "data": {
      "text/plain": [
       "array([[41. ,  1.3,  2.5, ...,  0. ,  0. ,  0. ],\n",
       "       [66. ,  0.6,  2.2, ...,  0. ,  1. ,  0. ],\n",
       "       [68. ,  2.4,  1.6, ...,  0. ,  1. ,  0. ],\n",
       "       ...,\n",
       "       [68. ,  1. ,  2.1, ...,  0. ,  1. ,  0. ],\n",
       "       [74. ,  5.1,  1.8, ...,  0. ,  0. ,  1. ],\n",
       "       [64. ,  1. ,  2.2, ...,  0. ,  0. ,  1. ]])"
      ]
     },
     "metadata": {},
     "output_type": "display_data"
    }
   ],
   "source": [
    "display(X) # Printing the Encoded Predictor Variables"
   ]
  },
  {
   "cell_type": "code",
   "execution_count": 15,
   "id": "466decdd",
   "metadata": {},
   "outputs": [
    {
     "data": {
      "text/plain": [
       "array([0, 0, 0, ..., 0, 0, 0])"
      ]
     },
     "metadata": {},
     "output_type": "display_data"
    }
   ],
   "source": [
    "display(y) # Printing the Encoded Response Variable"
   ]
  },
  {
   "cell_type": "markdown",
   "id": "4cf73513",
   "metadata": {},
   "source": [
    "### Balancing Dataset"
   ]
  },
  {
   "cell_type": "code",
   "execution_count": 16,
   "id": "569552f6",
   "metadata": {},
   "outputs": [],
   "source": [
    "smote = SMOTE() # Applying Synthteic Minority Oversampling Technique to Balance the Dataset\n",
    "X, y = smote.fit_resample(X, y) # Applying the Model"
   ]
  },
  {
   "cell_type": "code",
   "execution_count": 17,
   "id": "8f15e870",
   "metadata": {},
   "outputs": [
    {
     "data": {
      "image/png": "[encoded data removed]",
      "text/plain": [
       "<Figure size 432x288 with 1 Axes>"
      ]
     },
     "metadata": {
      "needs_background": "light"
     },
     "output_type": "display_data"
    }
   ],
   "source": [
    "after = pd.DataFrame(y) # Converting Response Variable into a Dataframe\n",
    "after.columns = ['Catagories (0 -> Negative & 1 -> Sick)'] # Giving Column Name\n",
    "\n",
    "sns.countplot(x = 'Catagories (0 -> Negative & 1 -> Sick)', data = after) # Plotting The Count Graph\n",
    "plt.title('Distribution of Category in Dataset (After Pre-Processing)') # Giving Title To The Graph\n",
    "plt.show() # Showing The Graph"
   ]
  },
  {
   "cell_type": "markdown",
   "id": "48cd72b9",
   "metadata": {},
   "source": [
    "### Training & Test Set Split"
   ]
  },
  {
   "cell_type": "code",
   "execution_count": 18,
   "id": "a1f51b07",
   "metadata": {},
   "outputs": [],
   "source": [
    "X_train, X_test, y_train, y_test = train_test_split(X, y, test_size = 0.3, random_state = 0)"
   ]
  },
  {
   "cell_type": "markdown",
   "id": "8547c759",
   "metadata": {},
   "source": [
    "**xxxxxxxxxxxxxxxxxxxxxxxxxxxxxxxxxxxxxxxxxxxxxxxxxxxxxxxxxxxxxxxxxxxxxxxxxxxxxxxxxxxxxxxxxxxxxxxxxxxxxxxxxxxxxxxxxxxxxxxxxxx**"
   ]
  },
  {
   "cell_type": "markdown",
   "id": "67a529d3",
   "metadata": {},
   "source": [
    "## XG Boost Classification Model"
   ]
  },
  {
   "cell_type": "code",
   "execution_count": 59,
   "id": "b79434b0",
   "metadata": {
    "scrolled": true
   },
   "outputs": [
    {
     "data": {
      "text/plain": [
       "LogisticRegression()"
      ]
     },
     "execution_count": 59,
     "metadata": {},
     "output_type": "execute_result"
    }
   ],
   "source": [
    "model = LogisticRegression() # Initializing the Classification Model\n",
    "model.fit(X_train, y_train) # Traing the Model on Original Datapoints"
   ]
  },
  {
   "cell_type": "markdown",
   "id": "7da983b0",
   "metadata": {},
   "source": [
    "### Evaluating Model"
   ]
  },
  {
   "cell_type": "code",
   "execution_count": 60,
   "id": "7d0b0e70",
   "metadata": {},
   "outputs": [
    {
     "name": "stdout",
     "output_type": "stream",
     "text": [
      "Average Accuracy of the Model ->  91 %\n"
     ]
    }
   ],
   "source": [
    "cv = KFold(n_splits=10, random_state = 1, shuffle = True) # Defining Cross-Validation Method \n",
    "\n",
    "scores = cross_val_score(model, X, y, cv = cv, n_jobs = -1) # Evaluating the Model\n",
    "print('Average Accuracy of the Model -> ', round(mean(absolute(scores)) * 100), '%') # Printing Results"
   ]
  },
  {
   "cell_type": "markdown",
   "id": "617f6a43",
   "metadata": {},
   "source": [
    "**xxxxxxxxxxxxxxxxxxxxxxxxxxxxxxxxxxxxxxxxxxxxxxxxxxxxxxxxxxxxxxxxxxxxxxxxxxxxxxxxxxxxxxxxxxxxxxxxxxxxxxxxxxxxxxxxxxxxxxxxxxx** "
   ]
  },
  {
   "cell_type": "markdown",
   "id": "a0408d86",
   "metadata": {},
   "source": [
    "## Exploratory Data Analysis"
   ]
  },
  {
   "cell_type": "code",
   "execution_count": 21,
   "id": "c3da1a0c",
   "metadata": {},
   "outputs": [
    {
     "data": {
      "image/png": "[encoded data removed]",
      "text/plain": [
       "<Figure size 432x288 with 1 Axes>"
      ]
     },
     "metadata": {
      "needs_background": "light"
     },
     "output_type": "display_data"
    }
   ],
   "source": [
    "age = pd.DataFrame(dataset.age) # Extracting 'age' Data from the Dataset\n",
    "\n",
    "plt.hist(age, bins = 10) # Histogram\n",
    "plt.show() # Displaying the Plot"
   ]
  },
  {
   "cell_type": "code",
   "execution_count": 22,
   "id": "1969e274",
   "metadata": {},
   "outputs": [
    {
     "data": {
      "image/png": "[encoded data removed]",
      "text/plain": [
       "<Figure size 432x288 with 1 Axes>"
      ]
     },
     "metadata": {
      "needs_background": "light"
     },
     "output_type": "display_data"
    }
   ],
   "source": [
    "sex = pd.DataFrame(dataset.sex) # Extracting 'sex' Data from the Dataset\n",
    "sex.columns = ['Sex'] # Giving Column Name\n",
    "\n",
    "sns.countplot(x = 'Sex', data = sex) # Plotting The Count Graph\n",
    "plt.title('Number of Males and Females') # Giving Title To The Graph\n",
    "plt.show() # Showing The Graph"
   ]
  },
  {
   "cell_type": "markdown",
   "id": "744abd46",
   "metadata": {},
   "source": [
    "**xxxxxxxxxxxxxxxxxxxxxxxxxxxxxxxxxxxxxxxxxxxxxxxxxxxxxxxxxxxxxxxxxxxxxxxxxxxxxxxxxxxxxxxxxxxxxxxxxxxxxxxxxxxxxxxxxxxxxxxxxxx**"
   ]
  },
  {
   "cell_type": "markdown",
   "id": "19f4607e",
   "metadata": {},
   "source": [
    "## Synthetic Data Instances"
   ]
  },
  {
   "cell_type": "markdown",
   "id": "f22dba80",
   "metadata": {},
   "source": [
    "### Gaussian Copula Model"
   ]
  },
  {
   "cell_type": "code",
   "execution_count": null,
   "id": "4a378370",
   "metadata": {},
   "outputs": [],
   "source": [
    "syn_model = GaussianCopula() # Initializing the Model\n",
    "syn_model.fit(dataset) # Applying the Model on the Data"
   ]
  },
  {
   "cell_type": "markdown",
   "id": "94ae1363",
   "metadata": {},
   "source": [
    "#### Saving The Synthetic Data Generator Model"
   ]
  },
  {
   "cell_type": "code",
   "execution_count": null,
   "id": "b6e55f14",
   "metadata": {},
   "outputs": [],
   "source": [
    "syn_model.save('Saved Model/Gaussian.pkl')"
   ]
  },
  {
   "cell_type": "markdown",
   "id": "d641a4b3",
   "metadata": {},
   "source": [
    "#### Loading The Saved Synthetic Data Generator Model"
   ]
  },
  {
   "cell_type": "code",
   "execution_count": 23,
   "id": "f2c06898",
   "metadata": {},
   "outputs": [],
   "source": [
    "gaussian = GaussianCopula.load('Saved Model/Gaussian.pkl')"
   ]
  },
  {
   "cell_type": "code",
   "execution_count": 24,
   "id": "8cd48c8c",
   "metadata": {},
   "outputs": [
    {
     "data": {
      "text/html": [
       "<div>\n",
       "<style scoped>\n",
       "    .dataframe tbody tr th:only-of-type {\n",
       "        vertical-align: middle;\n",
       "    }\n",
       "\n",
       "    .dataframe tbody tr th {\n",
       "        vertical-align: top;\n",
       "    }\n",
       "\n",
       "    .dataframe thead th {\n",
       "        text-align: right;\n",
       "    }\n",
       "</style>\n",
       "<table border=\"1\" class=\"dataframe\">\n",
       "  <thead>\n",
       "    <tr style=\"text-align: right;\">\n",
       "      <th></th>\n",
       "      <th>age</th>\n",
       "      <th>sex</th>\n",
       "      <th>on_thyroxine</th>\n",
       "      <th>query_on_thyroxine</th>\n",
       "      <th>on_antithyroid_medication</th>\n",
       "      <th>sick</th>\n",
       "      <th>pregnant</th>\n",
       "      <th>thyroid_surgery</th>\n",
       "      <th>I131_treatment</th>\n",
       "      <th>query_hypothyroid</th>\n",
       "      <th>...</th>\n",
       "      <th>T3</th>\n",
       "      <th>TT4_measured</th>\n",
       "      <th>TT4</th>\n",
       "      <th>T4U_measured</th>\n",
       "      <th>T4U</th>\n",
       "      <th>FTI_measured</th>\n",
       "      <th>FTI</th>\n",
       "      <th>TBG_measured</th>\n",
       "      <th>referral_source</th>\n",
       "      <th>Class</th>\n",
       "    </tr>\n",
       "  </thead>\n",
       "  <tbody>\n",
       "    <tr>\n",
       "      <th>0</th>\n",
       "      <td>76.0</td>\n",
       "      <td>F</td>\n",
       "      <td>f</td>\n",
       "      <td>f</td>\n",
       "      <td>f</td>\n",
       "      <td>t</td>\n",
       "      <td>f</td>\n",
       "      <td>f</td>\n",
       "      <td>f</td>\n",
       "      <td>f</td>\n",
       "      <td>...</td>\n",
       "      <td>1.89</td>\n",
       "      <td>t</td>\n",
       "      <td>143.1</td>\n",
       "      <td>t</td>\n",
       "      <td>1.036</td>\n",
       "      <td>t</td>\n",
       "      <td>148.5</td>\n",
       "      <td>f</td>\n",
       "      <td>SVI</td>\n",
       "      <td>negative</td>\n",
       "    </tr>\n",
       "    <tr>\n",
       "      <th>1</th>\n",
       "      <td>79.0</td>\n",
       "      <td>F</td>\n",
       "      <td>f</td>\n",
       "      <td>f</td>\n",
       "      <td>f</td>\n",
       "      <td>f</td>\n",
       "      <td>f</td>\n",
       "      <td>f</td>\n",
       "      <td>f</td>\n",
       "      <td>f</td>\n",
       "      <td>...</td>\n",
       "      <td>1.90</td>\n",
       "      <td>t</td>\n",
       "      <td>87.3</td>\n",
       "      <td>t</td>\n",
       "      <td>0.828</td>\n",
       "      <td>t</td>\n",
       "      <td>103.5</td>\n",
       "      <td>f</td>\n",
       "      <td>SVI</td>\n",
       "      <td>negative</td>\n",
       "    </tr>\n",
       "    <tr>\n",
       "      <th>2</th>\n",
       "      <td>42.0</td>\n",
       "      <td>F</td>\n",
       "      <td>t</td>\n",
       "      <td>f</td>\n",
       "      <td>f</td>\n",
       "      <td>f</td>\n",
       "      <td>f</td>\n",
       "      <td>f</td>\n",
       "      <td>f</td>\n",
       "      <td>f</td>\n",
       "      <td>...</td>\n",
       "      <td>3.10</td>\n",
       "      <td>t</td>\n",
       "      <td>158.9</td>\n",
       "      <td>t</td>\n",
       "      <td>1.235</td>\n",
       "      <td>t</td>\n",
       "      <td>135.7</td>\n",
       "      <td>f</td>\n",
       "      <td>SVHC</td>\n",
       "      <td>sick</td>\n",
       "    </tr>\n",
       "    <tr>\n",
       "      <th>3</th>\n",
       "      <td>58.0</td>\n",
       "      <td>M</td>\n",
       "      <td>f</td>\n",
       "      <td>t</td>\n",
       "      <td>f</td>\n",
       "      <td>f</td>\n",
       "      <td>f</td>\n",
       "      <td>f</td>\n",
       "      <td>f</td>\n",
       "      <td>f</td>\n",
       "      <td>...</td>\n",
       "      <td>2.42</td>\n",
       "      <td>t</td>\n",
       "      <td>142.4</td>\n",
       "      <td>t</td>\n",
       "      <td>0.881</td>\n",
       "      <td>t</td>\n",
       "      <td>161.3</td>\n",
       "      <td>f</td>\n",
       "      <td>SVHC</td>\n",
       "      <td>negative</td>\n",
       "    </tr>\n",
       "    <tr>\n",
       "      <th>4</th>\n",
       "      <td>37.0</td>\n",
       "      <td>M</td>\n",
       "      <td>t</td>\n",
       "      <td>f</td>\n",
       "      <td>f</td>\n",
       "      <td>f</td>\n",
       "      <td>t</td>\n",
       "      <td>f</td>\n",
       "      <td>f</td>\n",
       "      <td>f</td>\n",
       "      <td>...</td>\n",
       "      <td>2.88</td>\n",
       "      <td>t</td>\n",
       "      <td>115.5</td>\n",
       "      <td>t</td>\n",
       "      <td>0.766</td>\n",
       "      <td>t</td>\n",
       "      <td>150.8</td>\n",
       "      <td>f</td>\n",
       "      <td>other</td>\n",
       "      <td>negative</td>\n",
       "    </tr>\n",
       "    <tr>\n",
       "      <th>...</th>\n",
       "      <td>...</td>\n",
       "      <td>...</td>\n",
       "      <td>...</td>\n",
       "      <td>...</td>\n",
       "      <td>...</td>\n",
       "      <td>...</td>\n",
       "      <td>...</td>\n",
       "      <td>...</td>\n",
       "      <td>...</td>\n",
       "      <td>...</td>\n",
       "      <td>...</td>\n",
       "      <td>...</td>\n",
       "      <td>...</td>\n",
       "      <td>...</td>\n",
       "      <td>...</td>\n",
       "      <td>...</td>\n",
       "      <td>...</td>\n",
       "      <td>...</td>\n",
       "      <td>...</td>\n",
       "      <td>...</td>\n",
       "      <td>...</td>\n",
       "    </tr>\n",
       "    <tr>\n",
       "      <th>195</th>\n",
       "      <td>80.0</td>\n",
       "      <td>M</td>\n",
       "      <td>f</td>\n",
       "      <td>f</td>\n",
       "      <td>f</td>\n",
       "      <td>f</td>\n",
       "      <td>f</td>\n",
       "      <td>f</td>\n",
       "      <td>f</td>\n",
       "      <td>f</td>\n",
       "      <td>...</td>\n",
       "      <td>1.86</td>\n",
       "      <td>t</td>\n",
       "      <td>140.8</td>\n",
       "      <td>t</td>\n",
       "      <td>0.775</td>\n",
       "      <td>t</td>\n",
       "      <td>172.5</td>\n",
       "      <td>f</td>\n",
       "      <td>SVI</td>\n",
       "      <td>sick</td>\n",
       "    </tr>\n",
       "    <tr>\n",
       "      <th>196</th>\n",
       "      <td>76.0</td>\n",
       "      <td>F</td>\n",
       "      <td>f</td>\n",
       "      <td>f</td>\n",
       "      <td>f</td>\n",
       "      <td>f</td>\n",
       "      <td>f</td>\n",
       "      <td>f</td>\n",
       "      <td>f</td>\n",
       "      <td>f</td>\n",
       "      <td>...</td>\n",
       "      <td>1.37</td>\n",
       "      <td>t</td>\n",
       "      <td>85.6</td>\n",
       "      <td>t</td>\n",
       "      <td>0.712</td>\n",
       "      <td>t</td>\n",
       "      <td>107.5</td>\n",
       "      <td>f</td>\n",
       "      <td>SVHD</td>\n",
       "      <td>negative</td>\n",
       "    </tr>\n",
       "    <tr>\n",
       "      <th>197</th>\n",
       "      <td>70.0</td>\n",
       "      <td>M</td>\n",
       "      <td>f</td>\n",
       "      <td>f</td>\n",
       "      <td>f</td>\n",
       "      <td>f</td>\n",
       "      <td>f</td>\n",
       "      <td>t</td>\n",
       "      <td>f</td>\n",
       "      <td>f</td>\n",
       "      <td>...</td>\n",
       "      <td>2.75</td>\n",
       "      <td>t</td>\n",
       "      <td>151.3</td>\n",
       "      <td>t</td>\n",
       "      <td>0.973</td>\n",
       "      <td>t</td>\n",
       "      <td>154.6</td>\n",
       "      <td>f</td>\n",
       "      <td>SVI</td>\n",
       "      <td>negative</td>\n",
       "    </tr>\n",
       "    <tr>\n",
       "      <th>198</th>\n",
       "      <td>37.0</td>\n",
       "      <td>M</td>\n",
       "      <td>t</td>\n",
       "      <td>f</td>\n",
       "      <td>t</td>\n",
       "      <td>f</td>\n",
       "      <td>f</td>\n",
       "      <td>f</td>\n",
       "      <td>f</td>\n",
       "      <td>f</td>\n",
       "      <td>...</td>\n",
       "      <td>1.69</td>\n",
       "      <td>t</td>\n",
       "      <td>132.6</td>\n",
       "      <td>t</td>\n",
       "      <td>1.039</td>\n",
       "      <td>t</td>\n",
       "      <td>130.2</td>\n",
       "      <td>f</td>\n",
       "      <td>other</td>\n",
       "      <td>negative</td>\n",
       "    </tr>\n",
       "    <tr>\n",
       "      <th>199</th>\n",
       "      <td>6.0</td>\n",
       "      <td>M</td>\n",
       "      <td>f</td>\n",
       "      <td>f</td>\n",
       "      <td>f</td>\n",
       "      <td>f</td>\n",
       "      <td>f</td>\n",
       "      <td>t</td>\n",
       "      <td>t</td>\n",
       "      <td>f</td>\n",
       "      <td>...</td>\n",
       "      <td>2.10</td>\n",
       "      <td>t</td>\n",
       "      <td>96.7</td>\n",
       "      <td>t</td>\n",
       "      <td>0.901</td>\n",
       "      <td>t</td>\n",
       "      <td>111.9</td>\n",
       "      <td>f</td>\n",
       "      <td>other</td>\n",
       "      <td>negative</td>\n",
       "    </tr>\n",
       "  </tbody>\n",
       "</table>\n",
       "<p>200 rows × 29 columns</p>\n",
       "</div>"
      ],
      "text/plain": [
       "      age sex on_thyroxine query_on_thyroxine on_antithyroid_medication sick  \\\n",
       "0    76.0   F            f                  f                         f    t   \n",
       "1    79.0   F            f                  f                         f    f   \n",
       "2    42.0   F            t                  f                         f    f   \n",
       "3    58.0   M            f                  t                         f    f   \n",
       "4    37.0   M            t                  f                         f    f   \n",
       "..    ...  ..          ...                ...                       ...  ...   \n",
       "195  80.0   M            f                  f                         f    f   \n",
       "196  76.0   F            f                  f                         f    f   \n",
       "197  70.0   M            f                  f                         f    f   \n",
       "198  37.0   M            t                  f                         t    f   \n",
       "199   6.0   M            f                  f                         f    f   \n",
       "\n",
       "    pregnant thyroid_surgery I131_treatment query_hypothyroid  ...    T3  \\\n",
       "0          f               f              f                 f  ...  1.89   \n",
       "1          f               f              f                 f  ...  1.90   \n",
       "2          f               f              f                 f  ...  3.10   \n",
       "3          f               f              f                 f  ...  2.42   \n",
       "4          t               f              f                 f  ...  2.88   \n",
       "..       ...             ...            ...               ...  ...   ...   \n",
       "195        f               f              f                 f  ...  1.86   \n",
       "196        f               f              f                 f  ...  1.37   \n",
       "197        f               t              f                 f  ...  2.75   \n",
       "198        f               f              f                 f  ...  1.69   \n",
       "199        f               t              t                 f  ...  2.10   \n",
       "\n",
       "    TT4_measured    TT4 T4U_measured    T4U FTI_measured    FTI  TBG_measured  \\\n",
       "0              t  143.1            t  1.036            t  148.5             f   \n",
       "1              t   87.3            t  0.828            t  103.5             f   \n",
       "2              t  158.9            t  1.235            t  135.7             f   \n",
       "3              t  142.4            t  0.881            t  161.3             f   \n",
       "4              t  115.5            t  0.766            t  150.8             f   \n",
       "..           ...    ...          ...    ...          ...    ...           ...   \n",
       "195            t  140.8            t  0.775            t  172.5             f   \n",
       "196            t   85.6            t  0.712            t  107.5             f   \n",
       "197            t  151.3            t  0.973            t  154.6             f   \n",
       "198            t  132.6            t  1.039            t  130.2             f   \n",
       "199            t   96.7            t  0.901            t  111.9             f   \n",
       "\n",
       "    referral_source     Class  \n",
       "0               SVI  negative  \n",
       "1               SVI  negative  \n",
       "2              SVHC      sick  \n",
       "3              SVHC  negative  \n",
       "4             other  negative  \n",
       "..              ...       ...  \n",
       "195             SVI      sick  \n",
       "196            SVHD  negative  \n",
       "197             SVI  negative  \n",
       "198           other  negative  \n",
       "199           other  negative  \n",
       "\n",
       "[200 rows x 29 columns]"
      ]
     },
     "execution_count": 24,
     "metadata": {},
     "output_type": "execute_result"
    }
   ],
   "source": [
    "syn_data = gaussian.sample(num_rows = 200) # Generating Synthetic Data\n",
    "syn_data # Printing the Generated Data"
   ]
  },
  {
   "cell_type": "markdown",
   "id": "4bd3ecb2",
   "metadata": {},
   "source": [
    "#### Data Pre Processing"
   ]
  },
  {
   "cell_type": "markdown",
   "id": "a19af869",
   "metadata": {},
   "source": [
    "##### Extracting Predictor & Response Variable"
   ]
  },
  {
   "cell_type": "code",
   "execution_count": 25,
   "id": "78279a7d",
   "metadata": {},
   "outputs": [],
   "source": [
    "syn_X = syn_data.iloc[:, :-1] # Predictor Variable\n",
    "syn_y = syn_data.iloc[:, -1] # Response Variable"
   ]
  },
  {
   "cell_type": "markdown",
   "id": "ecf836fe",
   "metadata": {},
   "source": [
    "##### Encoding"
   ]
  },
  {
   "cell_type": "code",
   "execution_count": 26,
   "id": "982c16ce",
   "metadata": {},
   "outputs": [],
   "source": [
    "syn_X = np.array(pd.get_dummies(syn_X)) # Encoding Predictor Varaiables\n",
    "syn_y = np.array(response_encode.fit_transform(syn_y)) # Encoding  Varaiables"
   ]
  },
  {
   "cell_type": "markdown",
   "id": "638fcc83",
   "metadata": {},
   "source": [
    "#### Evaluating Synthetic Instances"
   ]
  },
  {
   "cell_type": "markdown",
   "id": "2b45e880",
   "metadata": {},
   "source": [
    "Testing Generated Synthetic Data On The Model Trained with Original Datapoints"
   ]
  },
  {
   "cell_type": "code",
   "execution_count": 61,
   "id": "6f1939e5",
   "metadata": {
    "scrolled": true
   },
   "outputs": [
    {
     "name": "stdout",
     "output_type": "stream",
     "text": [
      "Accuracy of the Model on Synthetic Data Test Set->  74 %\n"
     ]
    }
   ],
   "source": [
    "syn_acc = model.predict(syn_X) # Prediction\n",
    "print(\"Accuracy of the Model on Synthetic Data Test Set-> \", round(accuracy_score(syn_acc, syn_y)*100), \"%\") # Average Accuracy Score of the Model"
   ]
  },
  {
   "cell_type": "markdown",
   "id": "a150e006",
   "metadata": {},
   "source": [
    "Statistical Metrics"
   ]
  },
  {
   "cell_type": "code",
   "execution_count": 28,
   "id": "e205baea",
   "metadata": {},
   "outputs": [],
   "source": [
    "general_evaluation = evaluate(syn_data, dataset) # Evaluating on All Metrics\n",
    "CS_test = evaluate(syn_data, dataset, metrics = ['CSTest']) # Chi-Squared Test\n",
    "KS_test = evaluate(syn_data, dataset, metrics = ['KSTest']) # Inverted Kolmogorov-Smirnov Test"
   ]
  },
  {
   "cell_type": "code",
   "execution_count": 29,
   "id": "f5728fe3",
   "metadata": {
    "scrolled": true
   },
   "outputs": [
    {
     "data": {
      "text/html": [
       "<div>\n",
       "<style scoped>\n",
       "    .dataframe tbody tr th:only-of-type {\n",
       "        vertical-align: middle;\n",
       "    }\n",
       "\n",
       "    .dataframe tbody tr th {\n",
       "        vertical-align: top;\n",
       "    }\n",
       "\n",
       "    .dataframe thead th {\n",
       "        text-align: right;\n",
       "    }\n",
       "</style>\n",
       "<table border=\"1\" class=\"dataframe\">\n",
       "  <thead>\n",
       "    <tr style=\"text-align: right;\">\n",
       "      <th></th>\n",
       "      <th>Results</th>\n",
       "    </tr>\n",
       "  </thead>\n",
       "  <tbody>\n",
       "    <tr>\n",
       "      <th>General Evaluation</th>\n",
       "      <td>0.580477</td>\n",
       "    </tr>\n",
       "    <tr>\n",
       "      <th>Chi-Squared Test</th>\n",
       "      <td>0.751432</td>\n",
       "    </tr>\n",
       "    <tr>\n",
       "      <th>Inverted Kolmogorov-Smirnov Test</th>\n",
       "      <td>0.790503</td>\n",
       "    </tr>\n",
       "  </tbody>\n",
       "</table>\n",
       "</div>"
      ],
      "text/plain": [
       "                                   Results\n",
       "General Evaluation                0.580477\n",
       "Chi-Squared Test                  0.751432\n",
       "Inverted Kolmogorov-Smirnov Test  0.790503"
      ]
     },
     "execution_count": 29,
     "metadata": {},
     "output_type": "execute_result"
    }
   ],
   "source": [
    "evaluation = [general_evaluation, CS_test, KS_test] # Creating a List of the Results\n",
    "evaluation = pd.DataFrame(evaluation) # Creating a Data Frame of the Results\n",
    "evaluation.columns = ['Results'] # Gicing Column Name\n",
    "evaluation.rename({0:'General Evaluation', 1:'Chi-Squared Test', 2:'Inverted Kolmogorov-Smirnov Test'}) # Renaming Row Name"
   ]
  },
  {
   "cell_type": "code",
   "execution_count": 30,
   "id": "ec882185",
   "metadata": {},
   "outputs": [],
   "source": [
    "p_CS_test = 1-CS_test # Calculating 'p-value' for Chi-Squared Test\n",
    "p_KS_test = 1-KS_test # Calculating 'p-value' for Inverted Kolmogorov-Smirnov Test"
   ]
  },
  {
   "cell_type": "code",
   "execution_count": 31,
   "id": "47e80da2",
   "metadata": {},
   "outputs": [
    {
     "data": {
      "text/html": [
       "<div>\n",
       "<style scoped>\n",
       "    .dataframe tbody tr th:only-of-type {\n",
       "        vertical-align: middle;\n",
       "    }\n",
       "\n",
       "    .dataframe tbody tr th {\n",
       "        vertical-align: top;\n",
       "    }\n",
       "\n",
       "    .dataframe thead th {\n",
       "        text-align: right;\n",
       "    }\n",
       "</style>\n",
       "<table border=\"1\" class=\"dataframe\">\n",
       "  <thead>\n",
       "    <tr style=\"text-align: right;\">\n",
       "      <th></th>\n",
       "      <th>P Values</th>\n",
       "    </tr>\n",
       "  </thead>\n",
       "  <tbody>\n",
       "    <tr>\n",
       "      <th>Chi-Squared P Value</th>\n",
       "      <td>0.248568</td>\n",
       "    </tr>\n",
       "    <tr>\n",
       "      <th>Inverted Kolmogorov-Smirnov P Value</th>\n",
       "      <td>0.209497</td>\n",
       "    </tr>\n",
       "  </tbody>\n",
       "</table>\n",
       "</div>"
      ],
      "text/plain": [
       "                                     P Values\n",
       "Chi-Squared P Value                  0.248568\n",
       "Inverted Kolmogorov-Smirnov P Value  0.209497"
      ]
     },
     "execution_count": 31,
     "metadata": {},
     "output_type": "execute_result"
    }
   ],
   "source": [
    "p_value = [p_CS_test, p_KS_test] # Creating a List of the Results\n",
    "p_value = pd.DataFrame(p_value) # Creating a Data Frame of the Results\n",
    "p_value.columns = ['P Values'] # Gicing Column Name\n",
    "p_value.rename({0:'Chi-Squared P Value', 1:'Inverted Kolmogorov-Smirnov P Value'}) # Renaming Row Name"
   ]
  },
  {
   "cell_type": "markdown",
   "id": "95025e66",
   "metadata": {},
   "source": [
    "#### Exploratory Data Analysis"
   ]
  },
  {
   "cell_type": "code",
   "execution_count": 32,
   "id": "fb93eeb1",
   "metadata": {},
   "outputs": [
    {
     "data": {
      "image/png": "[encoded data removed]",
      "text/plain": [
       "<Figure size 432x288 with 1 Axes>"
      ]
     },
     "metadata": {
      "needs_background": "light"
     },
     "output_type": "display_data"
    }
   ],
   "source": [
    "syn_age = pd.DataFrame(syn_data.age) # Extracting 'age' Data from the Dataset\n",
    "\n",
    "plt.hist(syn_age, bins = 10) # Histogram\n",
    "plt.show() # Displaying the Plot"
   ]
  },
  {
   "cell_type": "code",
   "execution_count": 33,
   "id": "06d2fb04",
   "metadata": {},
   "outputs": [
    {
     "data": {
      "image/png": "[encoded data removed]",
      "text/plain": [
       "<Figure size 432x288 with 1 Axes>"
      ]
     },
     "metadata": {
      "needs_background": "light"
     },
     "output_type": "display_data"
    }
   ],
   "source": [
    "syn_sex = pd.DataFrame(syn_data.sex)\n",
    "syn_sex.columns = ['Sex']\n",
    "\n",
    "sns.countplot(x = 'Sex', data = syn_sex) # Plotting The Count Graph\n",
    "plt.title('Number of Males and Females') # Giving Title To The Graph\n",
    "plt.show() # Showing The Graph"
   ]
  },
  {
   "cell_type": "markdown",
   "id": "e9335363",
   "metadata": {},
   "source": [
    "**xxxxxxxxxxxxxxxxxxxxxxxxxxxxxxxxxxxxxxxxxxxxxxxxxxxxxxxxxxxxxxxxxxxxxxxxxxxxxxxxxxxxxxxxxxxxxxxxxxxxxxxxxxxxxxxxxxxxxxxxxxx**"
   ]
  },
  {
   "cell_type": "markdown",
   "id": "b057280f",
   "metadata": {},
   "source": [
    "### CT GAN"
   ]
  },
  {
   "cell_type": "code",
   "execution_count": null,
   "id": "c9fcfcce",
   "metadata": {},
   "outputs": [],
   "source": [
    "syn_model2 = CTGAN() # Initializing the Model\n",
    "syn_model2.fit(dataset) # Applying the Model on the Data"
   ]
  },
  {
   "cell_type": "markdown",
   "id": "77a5385a",
   "metadata": {},
   "source": [
    "#### Saving The Synthetic Data Generator Model"
   ]
  },
  {
   "cell_type": "code",
   "execution_count": null,
   "id": "004dac4c",
   "metadata": {},
   "outputs": [],
   "source": [
    "syn_model2.save('Saved Model/CT_GAN.pkl') "
   ]
  },
  {
   "cell_type": "markdown",
   "id": "c9093cbf",
   "metadata": {},
   "source": [
    "#### Loading The Saved Synthetic Data Generator Model"
   ]
  },
  {
   "cell_type": "code",
   "execution_count": 34,
   "id": "a1bed239",
   "metadata": {},
   "outputs": [],
   "source": [
    "ct_gan = CTGAN.load('Saved Model/CT_GAN.pkl')"
   ]
  },
  {
   "cell_type": "code",
   "execution_count": 35,
   "id": "852c5917",
   "metadata": {},
   "outputs": [
    {
     "data": {
      "text/html": [
       "<div>\n",
       "<style scoped>\n",
       "    .dataframe tbody tr th:only-of-type {\n",
       "        vertical-align: middle;\n",
       "    }\n",
       "\n",
       "    .dataframe tbody tr th {\n",
       "        vertical-align: top;\n",
       "    }\n",
       "\n",
       "    .dataframe thead th {\n",
       "        text-align: right;\n",
       "    }\n",
       "</style>\n",
       "<table border=\"1\" class=\"dataframe\">\n",
       "  <thead>\n",
       "    <tr style=\"text-align: right;\">\n",
       "      <th></th>\n",
       "      <th>age</th>\n",
       "      <th>sex</th>\n",
       "      <th>on_thyroxine</th>\n",
       "      <th>query_on_thyroxine</th>\n",
       "      <th>on_antithyroid_medication</th>\n",
       "      <th>sick</th>\n",
       "      <th>pregnant</th>\n",
       "      <th>thyroid_surgery</th>\n",
       "      <th>I131_treatment</th>\n",
       "      <th>query_hypothyroid</th>\n",
       "      <th>...</th>\n",
       "      <th>T3</th>\n",
       "      <th>TT4_measured</th>\n",
       "      <th>TT4</th>\n",
       "      <th>T4U_measured</th>\n",
       "      <th>T4U</th>\n",
       "      <th>FTI_measured</th>\n",
       "      <th>FTI</th>\n",
       "      <th>TBG_measured</th>\n",
       "      <th>referral_source</th>\n",
       "      <th>Class</th>\n",
       "    </tr>\n",
       "  </thead>\n",
       "  <tbody>\n",
       "    <tr>\n",
       "      <th>0</th>\n",
       "      <td>80.0</td>\n",
       "      <td>F</td>\n",
       "      <td>f</td>\n",
       "      <td>f</td>\n",
       "      <td>f</td>\n",
       "      <td>f</td>\n",
       "      <td>t</td>\n",
       "      <td>f</td>\n",
       "      <td>f</td>\n",
       "      <td>f</td>\n",
       "      <td>...</td>\n",
       "      <td>1.70</td>\n",
       "      <td>t</td>\n",
       "      <td>71.9</td>\n",
       "      <td>t</td>\n",
       "      <td>0.975</td>\n",
       "      <td>t</td>\n",
       "      <td>117.6</td>\n",
       "      <td>f</td>\n",
       "      <td>SVHC</td>\n",
       "      <td>negative</td>\n",
       "    </tr>\n",
       "    <tr>\n",
       "      <th>1</th>\n",
       "      <td>61.0</td>\n",
       "      <td>F</td>\n",
       "      <td>f</td>\n",
       "      <td>f</td>\n",
       "      <td>f</td>\n",
       "      <td>f</td>\n",
       "      <td>f</td>\n",
       "      <td>f</td>\n",
       "      <td>f</td>\n",
       "      <td>f</td>\n",
       "      <td>...</td>\n",
       "      <td>1.15</td>\n",
       "      <td>t</td>\n",
       "      <td>129.8</td>\n",
       "      <td>t</td>\n",
       "      <td>0.883</td>\n",
       "      <td>t</td>\n",
       "      <td>109.6</td>\n",
       "      <td>f</td>\n",
       "      <td>STMW</td>\n",
       "      <td>negative</td>\n",
       "    </tr>\n",
       "    <tr>\n",
       "      <th>2</th>\n",
       "      <td>39.0</td>\n",
       "      <td>M</td>\n",
       "      <td>f</td>\n",
       "      <td>f</td>\n",
       "      <td>f</td>\n",
       "      <td>t</td>\n",
       "      <td>f</td>\n",
       "      <td>f</td>\n",
       "      <td>f</td>\n",
       "      <td>f</td>\n",
       "      <td>...</td>\n",
       "      <td>3.18</td>\n",
       "      <td>t</td>\n",
       "      <td>136.0</td>\n",
       "      <td>t</td>\n",
       "      <td>1.724</td>\n",
       "      <td>t</td>\n",
       "      <td>75.3</td>\n",
       "      <td>f</td>\n",
       "      <td>SVHC</td>\n",
       "      <td>negative</td>\n",
       "    </tr>\n",
       "    <tr>\n",
       "      <th>3</th>\n",
       "      <td>100.0</td>\n",
       "      <td>F</td>\n",
       "      <td>f</td>\n",
       "      <td>f</td>\n",
       "      <td>f</td>\n",
       "      <td>f</td>\n",
       "      <td>f</td>\n",
       "      <td>t</td>\n",
       "      <td>f</td>\n",
       "      <td>f</td>\n",
       "      <td>...</td>\n",
       "      <td>2.91</td>\n",
       "      <td>t</td>\n",
       "      <td>80.2</td>\n",
       "      <td>t</td>\n",
       "      <td>0.935</td>\n",
       "      <td>t</td>\n",
       "      <td>105.7</td>\n",
       "      <td>f</td>\n",
       "      <td>other</td>\n",
       "      <td>negative</td>\n",
       "    </tr>\n",
       "    <tr>\n",
       "      <th>4</th>\n",
       "      <td>54.0</td>\n",
       "      <td>M</td>\n",
       "      <td>f</td>\n",
       "      <td>f</td>\n",
       "      <td>f</td>\n",
       "      <td>f</td>\n",
       "      <td>f</td>\n",
       "      <td>f</td>\n",
       "      <td>f</td>\n",
       "      <td>f</td>\n",
       "      <td>...</td>\n",
       "      <td>3.24</td>\n",
       "      <td>t</td>\n",
       "      <td>126.9</td>\n",
       "      <td>t</td>\n",
       "      <td>0.746</td>\n",
       "      <td>t</td>\n",
       "      <td>25.6</td>\n",
       "      <td>f</td>\n",
       "      <td>other</td>\n",
       "      <td>negative</td>\n",
       "    </tr>\n",
       "    <tr>\n",
       "      <th>...</th>\n",
       "      <td>...</td>\n",
       "      <td>...</td>\n",
       "      <td>...</td>\n",
       "      <td>...</td>\n",
       "      <td>...</td>\n",
       "      <td>...</td>\n",
       "      <td>...</td>\n",
       "      <td>...</td>\n",
       "      <td>...</td>\n",
       "      <td>...</td>\n",
       "      <td>...</td>\n",
       "      <td>...</td>\n",
       "      <td>...</td>\n",
       "      <td>...</td>\n",
       "      <td>...</td>\n",
       "      <td>...</td>\n",
       "      <td>...</td>\n",
       "      <td>...</td>\n",
       "      <td>...</td>\n",
       "      <td>...</td>\n",
       "      <td>...</td>\n",
       "    </tr>\n",
       "    <tr>\n",
       "      <th>2008</th>\n",
       "      <td>12.0</td>\n",
       "      <td>F</td>\n",
       "      <td>f</td>\n",
       "      <td>f</td>\n",
       "      <td>f</td>\n",
       "      <td>f</td>\n",
       "      <td>f</td>\n",
       "      <td>f</td>\n",
       "      <td>f</td>\n",
       "      <td>f</td>\n",
       "      <td>...</td>\n",
       "      <td>1.27</td>\n",
       "      <td>t</td>\n",
       "      <td>226.1</td>\n",
       "      <td>t</td>\n",
       "      <td>0.917</td>\n",
       "      <td>t</td>\n",
       "      <td>75.6</td>\n",
       "      <td>f</td>\n",
       "      <td>SVHC</td>\n",
       "      <td>negative</td>\n",
       "    </tr>\n",
       "    <tr>\n",
       "      <th>2009</th>\n",
       "      <td>11.0</td>\n",
       "      <td>F</td>\n",
       "      <td>f</td>\n",
       "      <td>f</td>\n",
       "      <td>f</td>\n",
       "      <td>f</td>\n",
       "      <td>f</td>\n",
       "      <td>f</td>\n",
       "      <td>f</td>\n",
       "      <td>f</td>\n",
       "      <td>...</td>\n",
       "      <td>2.41</td>\n",
       "      <td>t</td>\n",
       "      <td>103.0</td>\n",
       "      <td>t</td>\n",
       "      <td>1.591</td>\n",
       "      <td>t</td>\n",
       "      <td>59.3</td>\n",
       "      <td>f</td>\n",
       "      <td>other</td>\n",
       "      <td>negative</td>\n",
       "    </tr>\n",
       "    <tr>\n",
       "      <th>2010</th>\n",
       "      <td>13.0</td>\n",
       "      <td>M</td>\n",
       "      <td>f</td>\n",
       "      <td>f</td>\n",
       "      <td>f</td>\n",
       "      <td>f</td>\n",
       "      <td>f</td>\n",
       "      <td>f</td>\n",
       "      <td>f</td>\n",
       "      <td>f</td>\n",
       "      <td>...</td>\n",
       "      <td>3.62</td>\n",
       "      <td>t</td>\n",
       "      <td>110.9</td>\n",
       "      <td>t</td>\n",
       "      <td>0.631</td>\n",
       "      <td>t</td>\n",
       "      <td>59.7</td>\n",
       "      <td>f</td>\n",
       "      <td>SVI</td>\n",
       "      <td>negative</td>\n",
       "    </tr>\n",
       "    <tr>\n",
       "      <th>2011</th>\n",
       "      <td>62.0</td>\n",
       "      <td>F</td>\n",
       "      <td>t</td>\n",
       "      <td>f</td>\n",
       "      <td>f</td>\n",
       "      <td>f</td>\n",
       "      <td>f</td>\n",
       "      <td>f</td>\n",
       "      <td>f</td>\n",
       "      <td>f</td>\n",
       "      <td>...</td>\n",
       "      <td>2.92</td>\n",
       "      <td>t</td>\n",
       "      <td>139.5</td>\n",
       "      <td>t</td>\n",
       "      <td>0.654</td>\n",
       "      <td>t</td>\n",
       "      <td>63.7</td>\n",
       "      <td>f</td>\n",
       "      <td>SVI</td>\n",
       "      <td>negative</td>\n",
       "    </tr>\n",
       "    <tr>\n",
       "      <th>2012</th>\n",
       "      <td>14.0</td>\n",
       "      <td>F</td>\n",
       "      <td>f</td>\n",
       "      <td>f</td>\n",
       "      <td>f</td>\n",
       "      <td>f</td>\n",
       "      <td>f</td>\n",
       "      <td>f</td>\n",
       "      <td>f</td>\n",
       "      <td>f</td>\n",
       "      <td>...</td>\n",
       "      <td>6.51</td>\n",
       "      <td>t</td>\n",
       "      <td>124.4</td>\n",
       "      <td>t</td>\n",
       "      <td>0.884</td>\n",
       "      <td>t</td>\n",
       "      <td>92.0</td>\n",
       "      <td>f</td>\n",
       "      <td>SVHC</td>\n",
       "      <td>negative</td>\n",
       "    </tr>\n",
       "  </tbody>\n",
       "</table>\n",
       "<p>2013 rows × 29 columns</p>\n",
       "</div>"
      ],
      "text/plain": [
       "        age sex on_thyroxine query_on_thyroxine on_antithyroid_medication  \\\n",
       "0      80.0   F            f                  f                         f   \n",
       "1      61.0   F            f                  f                         f   \n",
       "2      39.0   M            f                  f                         f   \n",
       "3     100.0   F            f                  f                         f   \n",
       "4      54.0   M            f                  f                         f   \n",
       "...     ...  ..          ...                ...                       ...   \n",
       "2008   12.0   F            f                  f                         f   \n",
       "2009   11.0   F            f                  f                         f   \n",
       "2010   13.0   M            f                  f                         f   \n",
       "2011   62.0   F            t                  f                         f   \n",
       "2012   14.0   F            f                  f                         f   \n",
       "\n",
       "     sick pregnant thyroid_surgery I131_treatment query_hypothyroid  ...  \\\n",
       "0       f        t               f              f                 f  ...   \n",
       "1       f        f               f              f                 f  ...   \n",
       "2       t        f               f              f                 f  ...   \n",
       "3       f        f               t              f                 f  ...   \n",
       "4       f        f               f              f                 f  ...   \n",
       "...   ...      ...             ...            ...               ...  ...   \n",
       "2008    f        f               f              f                 f  ...   \n",
       "2009    f        f               f              f                 f  ...   \n",
       "2010    f        f               f              f                 f  ...   \n",
       "2011    f        f               f              f                 f  ...   \n",
       "2012    f        f               f              f                 f  ...   \n",
       "\n",
       "        T3 TT4_measured    TT4 T4U_measured    T4U FTI_measured    FTI  \\\n",
       "0     1.70            t   71.9            t  0.975            t  117.6   \n",
       "1     1.15            t  129.8            t  0.883            t  109.6   \n",
       "2     3.18            t  136.0            t  1.724            t   75.3   \n",
       "3     2.91            t   80.2            t  0.935            t  105.7   \n",
       "4     3.24            t  126.9            t  0.746            t   25.6   \n",
       "...    ...          ...    ...          ...    ...          ...    ...   \n",
       "2008  1.27            t  226.1            t  0.917            t   75.6   \n",
       "2009  2.41            t  103.0            t  1.591            t   59.3   \n",
       "2010  3.62            t  110.9            t  0.631            t   59.7   \n",
       "2011  2.92            t  139.5            t  0.654            t   63.7   \n",
       "2012  6.51            t  124.4            t  0.884            t   92.0   \n",
       "\n",
       "      TBG_measured referral_source     Class  \n",
       "0                f            SVHC  negative  \n",
       "1                f            STMW  negative  \n",
       "2                f            SVHC  negative  \n",
       "3                f           other  negative  \n",
       "4                f           other  negative  \n",
       "...            ...             ...       ...  \n",
       "2008             f            SVHC  negative  \n",
       "2009             f           other  negative  \n",
       "2010             f             SVI  negative  \n",
       "2011             f             SVI  negative  \n",
       "2012             f            SVHC  negative  \n",
       "\n",
       "[2013 rows x 29 columns]"
      ]
     },
     "execution_count": 35,
     "metadata": {},
     "output_type": "execute_result"
    }
   ],
   "source": [
    "syn_data2 = ct_gan.sample(num_rows = 2013) # Generating Synthetic Data\n",
    "syn_data2 # Printing Generated Data"
   ]
  },
  {
   "cell_type": "markdown",
   "id": "2237b9fc",
   "metadata": {},
   "source": [
    "#### Data Pre Processing"
   ]
  },
  {
   "cell_type": "markdown",
   "id": "365c1c1e",
   "metadata": {},
   "source": [
    "##### Extracting Predictor & Response Variable"
   ]
  },
  {
   "cell_type": "code",
   "execution_count": 36,
   "id": "0bc913a7",
   "metadata": {},
   "outputs": [],
   "source": [
    "syn_X2 = syn_data2.iloc[:, :-1] # Predictor Variable\n",
    "syn_y2 = syn_data2.iloc[:, -1] # Response Variable"
   ]
  },
  {
   "cell_type": "markdown",
   "id": "514b30f4",
   "metadata": {},
   "source": [
    "##### Encoding"
   ]
  },
  {
   "cell_type": "code",
   "execution_count": 37,
   "id": "b9b820d3",
   "metadata": {},
   "outputs": [],
   "source": [
    "syn_X2 = np.array(pd.get_dummies(syn_X2)) # Encoding Predictor Varaiables\n",
    "syn_y2 = np.array(response_encode.fit_transform(syn_y2)) # Encoding  Varaiables"
   ]
  },
  {
   "cell_type": "markdown",
   "id": "52147d62",
   "metadata": {},
   "source": [
    "#### Evaluating Synthetic Instances"
   ]
  },
  {
   "cell_type": "markdown",
   "id": "4a5ff5ee",
   "metadata": {},
   "source": [
    "Testing Generated Synthetic Data On The Model Trained with Original Datapoints"
   ]
  },
  {
   "cell_type": "code",
   "execution_count": 62,
   "id": "dd53315b",
   "metadata": {
    "scrolled": true
   },
   "outputs": [
    {
     "name": "stdout",
     "output_type": "stream",
     "text": [
      "Average Accuracy of the Model->  84 %\n"
     ]
    }
   ],
   "source": [
    "syn2_acc = model.predict(syn_X2) # Prediction\n",
    "print(\"Average Accuracy of the Model-> \", round(accuracy_score(syn2_acc, syn_y2)*100), \"%\") # Average Accuracy Score of the Model"
   ]
  },
  {
   "cell_type": "markdown",
   "id": "f69ff8d2",
   "metadata": {},
   "source": [
    "Statistical Metrics"
   ]
  },
  {
   "cell_type": "code",
   "execution_count": 39,
   "id": "bba3ee1c",
   "metadata": {},
   "outputs": [],
   "source": [
    "general_evaluation2 = evaluate(syn_data2, dataset) # Evaluating on All Metrics\n",
    "CS_test2 = evaluate(syn_data2, dataset, metrics = ['CSTest']) # Chi-Squared Test\n",
    "KS_test2 = evaluate(syn_data2, dataset, metrics = ['KSTest']) # Inverted Kolmogorov-Smirnov Test"
   ]
  },
  {
   "cell_type": "code",
   "execution_count": 40,
   "id": "cd53e1b9",
   "metadata": {},
   "outputs": [
    {
     "data": {
      "text/html": [
       "<div>\n",
       "<style scoped>\n",
       "    .dataframe tbody tr th:only-of-type {\n",
       "        vertical-align: middle;\n",
       "    }\n",
       "\n",
       "    .dataframe tbody tr th {\n",
       "        vertical-align: top;\n",
       "    }\n",
       "\n",
       "    .dataframe thead th {\n",
       "        text-align: right;\n",
       "    }\n",
       "</style>\n",
       "<table border=\"1\" class=\"dataframe\">\n",
       "  <thead>\n",
       "    <tr style=\"text-align: right;\">\n",
       "      <th></th>\n",
       "      <th>Results</th>\n",
       "    </tr>\n",
       "  </thead>\n",
       "  <tbody>\n",
       "    <tr>\n",
       "      <th>General Evaluation</th>\n",
       "      <td>0.604864</td>\n",
       "    </tr>\n",
       "    <tr>\n",
       "      <th>Chi-Squared Test</th>\n",
       "      <td>0.906701</td>\n",
       "    </tr>\n",
       "    <tr>\n",
       "      <th>Inverted Kolmogorov-Smirnov Test</th>\n",
       "      <td>0.742281</td>\n",
       "    </tr>\n",
       "  </tbody>\n",
       "</table>\n",
       "</div>"
      ],
      "text/plain": [
       "                                   Results\n",
       "General Evaluation                0.604864\n",
       "Chi-Squared Test                  0.906701\n",
       "Inverted Kolmogorov-Smirnov Test  0.742281"
      ]
     },
     "execution_count": 40,
     "metadata": {},
     "output_type": "execute_result"
    }
   ],
   "source": [
    "evaluation2 = [general_evaluation2, CS_test2, KS_test2] # Creating a List of the Results\n",
    "evaluation2 = pd.DataFrame(evaluation2) # Creating a Data Frame of the Results\n",
    "evaluation2.columns = ['Results'] # Gicing Column Name\n",
    "evaluation2.rename({0:'General Evaluation', 1:'Chi-Squared Test', 2:'Inverted Kolmogorov-Smirnov Test'}) # Renaming Row Name"
   ]
  },
  {
   "cell_type": "code",
   "execution_count": 41,
   "id": "2a895dab",
   "metadata": {},
   "outputs": [],
   "source": [
    "p_CS_test2 = 1-CS_test2 # Calculating 'p-value' for Chi-Squared Test\n",
    "p_KS_test2 = 1-KS_test2 # Calculating 'p-value' for Inverted Kolmogorov-Smirnov Test"
   ]
  },
  {
   "cell_type": "code",
   "execution_count": 42,
   "id": "4c232dbb",
   "metadata": {},
   "outputs": [
    {
     "data": {
      "text/html": [
       "<div>\n",
       "<style scoped>\n",
       "    .dataframe tbody tr th:only-of-type {\n",
       "        vertical-align: middle;\n",
       "    }\n",
       "\n",
       "    .dataframe tbody tr th {\n",
       "        vertical-align: top;\n",
       "    }\n",
       "\n",
       "    .dataframe thead th {\n",
       "        text-align: right;\n",
       "    }\n",
       "</style>\n",
       "<table border=\"1\" class=\"dataframe\">\n",
       "  <thead>\n",
       "    <tr style=\"text-align: right;\">\n",
       "      <th></th>\n",
       "      <th>P Values</th>\n",
       "    </tr>\n",
       "  </thead>\n",
       "  <tbody>\n",
       "    <tr>\n",
       "      <th>Chi-Squared P Value</th>\n",
       "      <td>0.093299</td>\n",
       "    </tr>\n",
       "    <tr>\n",
       "      <th>Inverted Kolmogorov-Smirnov P Value</th>\n",
       "      <td>0.257719</td>\n",
       "    </tr>\n",
       "  </tbody>\n",
       "</table>\n",
       "</div>"
      ],
      "text/plain": [
       "                                     P Values\n",
       "Chi-Squared P Value                  0.093299\n",
       "Inverted Kolmogorov-Smirnov P Value  0.257719"
      ]
     },
     "execution_count": 42,
     "metadata": {},
     "output_type": "execute_result"
    }
   ],
   "source": [
    "p_value2 = [p_CS_test2, p_KS_test2] # Creating a List of the Results\n",
    "p_value2 = pd.DataFrame(p_value2) # Creating a Data Frame of the Results\n",
    "p_value2.columns = ['P Values'] # Gicing Column Name\n",
    "p_value2.rename({0:'Chi-Squared P Value', 1:'Inverted Kolmogorov-Smirnov P Value'}) # Renaming Row Name"
   ]
  },
  {
   "cell_type": "markdown",
   "id": "aa41225a",
   "metadata": {},
   "source": [
    "#### Exploratory Data Analysis"
   ]
  },
  {
   "cell_type": "code",
   "execution_count": 43,
   "id": "0841867c",
   "metadata": {
    "scrolled": true
   },
   "outputs": [
    {
     "data": {
      "image/png": "[encoded data removed]",
      "text/plain": [
       "<Figure size 432x288 with 1 Axes>"
      ]
     },
     "metadata": {
      "needs_background": "light"
     },
     "output_type": "display_data"
    }
   ],
   "source": [
    "syn_age2 = pd.DataFrame(syn_data2.age) # Extracting 'age' Data from the Dataset\n",
    "\n",
    "plt.hist(syn_age2, bins = 10) # Histogram\n",
    "plt.show() # Displaying the Plot"
   ]
  },
  {
   "cell_type": "code",
   "execution_count": 44,
   "id": "5ad18c10",
   "metadata": {},
   "outputs": [
    {
     "data": {
      "image/png": "[encoded data removed]",
      "text/plain": [
       "<Figure size 432x288 with 1 Axes>"
      ]
     },
     "metadata": {
      "needs_background": "light"
     },
     "output_type": "display_data"
    }
   ],
   "source": [
    "syn_sex2 = pd.DataFrame(syn_data2.sex) # Extracting 'sex' Data from the Dataset\n",
    "syn_sex2.columns = ['Sex'] # Giving Column Name\n",
    "\n",
    "sns.countplot(x = 'Sex', data = syn_sex2) # Plotting The Count Graph\n",
    "plt.title('Number of Males and Females') # Giving Title To The Graph\n",
    "plt.show() # Showing The Graph"
   ]
  },
  {
   "cell_type": "markdown",
   "id": "c1eb4167",
   "metadata": {},
   "source": [
    "**xxxxxxxxxxxxxxxxxxxxxxxxxxxxxxxxxxxxxxxxxxxxxxxxxxxxxxxxxxxxxxxxxxxxxxxxxxxxxxxxxxxxxxxxxxxxxxxxxxxxxxxxxxxxxxxxxxxxxxxxxxx**"
   ]
  },
  {
   "cell_type": "markdown",
   "id": "51cf190a",
   "metadata": {},
   "source": [
    "### Copula GAN "
   ]
  },
  {
   "cell_type": "code",
   "execution_count": null,
   "id": "a69e9966",
   "metadata": {},
   "outputs": [],
   "source": [
    "syn_model3 = CopulaGAN() # Initializing the Model\n",
    "syn_model3.fit(dataset) # Applying the Model on the Data"
   ]
  },
  {
   "cell_type": "markdown",
   "id": "ccf2642d",
   "metadata": {},
   "source": [
    "#### Saving The Synthetic Data Generator Model"
   ]
  },
  {
   "cell_type": "code",
   "execution_count": null,
   "id": "11b00667",
   "metadata": {},
   "outputs": [],
   "source": [
    "syn_model3.save('Saved Model/Copula_GAN.pkl')"
   ]
  },
  {
   "cell_type": "markdown",
   "id": "2f4644b3",
   "metadata": {},
   "source": [
    "#### Loading The Saved Synthetic Data Generator Model"
   ]
  },
  {
   "cell_type": "code",
   "execution_count": 45,
   "id": "cf997e0e",
   "metadata": {},
   "outputs": [],
   "source": [
    "copula = CopulaGAN.load('Saved Model/Copula_GAN.pkl')"
   ]
  },
  {
   "cell_type": "code",
   "execution_count": 46,
   "id": "df5b98e4",
   "metadata": {},
   "outputs": [
    {
     "data": {
      "text/html": [
       "<div>\n",
       "<style scoped>\n",
       "    .dataframe tbody tr th:only-of-type {\n",
       "        vertical-align: middle;\n",
       "    }\n",
       "\n",
       "    .dataframe tbody tr th {\n",
       "        vertical-align: top;\n",
       "    }\n",
       "\n",
       "    .dataframe thead th {\n",
       "        text-align: right;\n",
       "    }\n",
       "</style>\n",
       "<table border=\"1\" class=\"dataframe\">\n",
       "  <thead>\n",
       "    <tr style=\"text-align: right;\">\n",
       "      <th></th>\n",
       "      <th>age</th>\n",
       "      <th>sex</th>\n",
       "      <th>on_thyroxine</th>\n",
       "      <th>query_on_thyroxine</th>\n",
       "      <th>on_antithyroid_medication</th>\n",
       "      <th>sick</th>\n",
       "      <th>pregnant</th>\n",
       "      <th>thyroid_surgery</th>\n",
       "      <th>I131_treatment</th>\n",
       "      <th>query_hypothyroid</th>\n",
       "      <th>...</th>\n",
       "      <th>T3</th>\n",
       "      <th>TT4_measured</th>\n",
       "      <th>TT4</th>\n",
       "      <th>T4U_measured</th>\n",
       "      <th>T4U</th>\n",
       "      <th>FTI_measured</th>\n",
       "      <th>FTI</th>\n",
       "      <th>TBG_measured</th>\n",
       "      <th>referral_source</th>\n",
       "      <th>Class</th>\n",
       "    </tr>\n",
       "  </thead>\n",
       "  <tbody>\n",
       "    <tr>\n",
       "      <th>0</th>\n",
       "      <td>51.0</td>\n",
       "      <td>F</td>\n",
       "      <td>f</td>\n",
       "      <td>f</td>\n",
       "      <td>f</td>\n",
       "      <td>t</td>\n",
       "      <td>f</td>\n",
       "      <td>f</td>\n",
       "      <td>f</td>\n",
       "      <td>f</td>\n",
       "      <td>...</td>\n",
       "      <td>2.35</td>\n",
       "      <td>t</td>\n",
       "      <td>146.4</td>\n",
       "      <td>t</td>\n",
       "      <td>0.871</td>\n",
       "      <td>t</td>\n",
       "      <td>82.6</td>\n",
       "      <td>f</td>\n",
       "      <td>SVHC</td>\n",
       "      <td>negative</td>\n",
       "    </tr>\n",
       "    <tr>\n",
       "      <th>1</th>\n",
       "      <td>66.0</td>\n",
       "      <td>F</td>\n",
       "      <td>f</td>\n",
       "      <td>f</td>\n",
       "      <td>f</td>\n",
       "      <td>t</td>\n",
       "      <td>t</td>\n",
       "      <td>f</td>\n",
       "      <td>f</td>\n",
       "      <td>f</td>\n",
       "      <td>...</td>\n",
       "      <td>2.51</td>\n",
       "      <td>t</td>\n",
       "      <td>134.8</td>\n",
       "      <td>t</td>\n",
       "      <td>1.096</td>\n",
       "      <td>t</td>\n",
       "      <td>93.5</td>\n",
       "      <td>f</td>\n",
       "      <td>other</td>\n",
       "      <td>negative</td>\n",
       "    </tr>\n",
       "    <tr>\n",
       "      <th>2</th>\n",
       "      <td>42.0</td>\n",
       "      <td>M</td>\n",
       "      <td>f</td>\n",
       "      <td>t</td>\n",
       "      <td>f</td>\n",
       "      <td>f</td>\n",
       "      <td>f</td>\n",
       "      <td>f</td>\n",
       "      <td>f</td>\n",
       "      <td>t</td>\n",
       "      <td>...</td>\n",
       "      <td>2.36</td>\n",
       "      <td>t</td>\n",
       "      <td>122.6</td>\n",
       "      <td>t</td>\n",
       "      <td>1.106</td>\n",
       "      <td>t</td>\n",
       "      <td>139.0</td>\n",
       "      <td>f</td>\n",
       "      <td>SVHC</td>\n",
       "      <td>sick</td>\n",
       "    </tr>\n",
       "    <tr>\n",
       "      <th>3</th>\n",
       "      <td>42.0</td>\n",
       "      <td>M</td>\n",
       "      <td>f</td>\n",
       "      <td>f</td>\n",
       "      <td>f</td>\n",
       "      <td>f</td>\n",
       "      <td>f</td>\n",
       "      <td>t</td>\n",
       "      <td>f</td>\n",
       "      <td>f</td>\n",
       "      <td>...</td>\n",
       "      <td>1.29</td>\n",
       "      <td>t</td>\n",
       "      <td>125.9</td>\n",
       "      <td>t</td>\n",
       "      <td>0.895</td>\n",
       "      <td>t</td>\n",
       "      <td>86.6</td>\n",
       "      <td>f</td>\n",
       "      <td>SVHC</td>\n",
       "      <td>negative</td>\n",
       "    </tr>\n",
       "    <tr>\n",
       "      <th>4</th>\n",
       "      <td>63.0</td>\n",
       "      <td>F</td>\n",
       "      <td>f</td>\n",
       "      <td>f</td>\n",
       "      <td>f</td>\n",
       "      <td>f</td>\n",
       "      <td>f</td>\n",
       "      <td>f</td>\n",
       "      <td>f</td>\n",
       "      <td>f</td>\n",
       "      <td>...</td>\n",
       "      <td>4.42</td>\n",
       "      <td>t</td>\n",
       "      <td>91.9</td>\n",
       "      <td>t</td>\n",
       "      <td>0.948</td>\n",
       "      <td>t</td>\n",
       "      <td>125.2</td>\n",
       "      <td>f</td>\n",
       "      <td>other</td>\n",
       "      <td>negative</td>\n",
       "    </tr>\n",
       "    <tr>\n",
       "      <th>...</th>\n",
       "      <td>...</td>\n",
       "      <td>...</td>\n",
       "      <td>...</td>\n",
       "      <td>...</td>\n",
       "      <td>...</td>\n",
       "      <td>...</td>\n",
       "      <td>...</td>\n",
       "      <td>...</td>\n",
       "      <td>...</td>\n",
       "      <td>...</td>\n",
       "      <td>...</td>\n",
       "      <td>...</td>\n",
       "      <td>...</td>\n",
       "      <td>...</td>\n",
       "      <td>...</td>\n",
       "      <td>...</td>\n",
       "      <td>...</td>\n",
       "      <td>...</td>\n",
       "      <td>...</td>\n",
       "      <td>...</td>\n",
       "      <td>...</td>\n",
       "    </tr>\n",
       "    <tr>\n",
       "      <th>199</th>\n",
       "      <td>42.0</td>\n",
       "      <td>F</td>\n",
       "      <td>f</td>\n",
       "      <td>f</td>\n",
       "      <td>t</td>\n",
       "      <td>f</td>\n",
       "      <td>t</td>\n",
       "      <td>f</td>\n",
       "      <td>f</td>\n",
       "      <td>f</td>\n",
       "      <td>...</td>\n",
       "      <td>2.83</td>\n",
       "      <td>t</td>\n",
       "      <td>100.3</td>\n",
       "      <td>t</td>\n",
       "      <td>1.472</td>\n",
       "      <td>t</td>\n",
       "      <td>99.6</td>\n",
       "      <td>f</td>\n",
       "      <td>SVI</td>\n",
       "      <td>negative</td>\n",
       "    </tr>\n",
       "    <tr>\n",
       "      <th>200</th>\n",
       "      <td>50.0</td>\n",
       "      <td>F</td>\n",
       "      <td>t</td>\n",
       "      <td>f</td>\n",
       "      <td>f</td>\n",
       "      <td>f</td>\n",
       "      <td>f</td>\n",
       "      <td>f</td>\n",
       "      <td>f</td>\n",
       "      <td>f</td>\n",
       "      <td>...</td>\n",
       "      <td>6.83</td>\n",
       "      <td>t</td>\n",
       "      <td>174.5</td>\n",
       "      <td>t</td>\n",
       "      <td>0.821</td>\n",
       "      <td>t</td>\n",
       "      <td>92.0</td>\n",
       "      <td>f</td>\n",
       "      <td>STMW</td>\n",
       "      <td>negative</td>\n",
       "    </tr>\n",
       "    <tr>\n",
       "      <th>201</th>\n",
       "      <td>49.0</td>\n",
       "      <td>F</td>\n",
       "      <td>f</td>\n",
       "      <td>f</td>\n",
       "      <td>t</td>\n",
       "      <td>f</td>\n",
       "      <td>f</td>\n",
       "      <td>f</td>\n",
       "      <td>f</td>\n",
       "      <td>f</td>\n",
       "      <td>...</td>\n",
       "      <td>1.41</td>\n",
       "      <td>t</td>\n",
       "      <td>339.2</td>\n",
       "      <td>t</td>\n",
       "      <td>1.003</td>\n",
       "      <td>t</td>\n",
       "      <td>155.5</td>\n",
       "      <td>f</td>\n",
       "      <td>SVI</td>\n",
       "      <td>negative</td>\n",
       "    </tr>\n",
       "    <tr>\n",
       "      <th>202</th>\n",
       "      <td>52.0</td>\n",
       "      <td>M</td>\n",
       "      <td>t</td>\n",
       "      <td>f</td>\n",
       "      <td>f</td>\n",
       "      <td>t</td>\n",
       "      <td>f</td>\n",
       "      <td>f</td>\n",
       "      <td>f</td>\n",
       "      <td>f</td>\n",
       "      <td>...</td>\n",
       "      <td>2.77</td>\n",
       "      <td>t</td>\n",
       "      <td>145.0</td>\n",
       "      <td>t</td>\n",
       "      <td>1.783</td>\n",
       "      <td>t</td>\n",
       "      <td>194.1</td>\n",
       "      <td>f</td>\n",
       "      <td>other</td>\n",
       "      <td>negative</td>\n",
       "    </tr>\n",
       "    <tr>\n",
       "      <th>203</th>\n",
       "      <td>40.0</td>\n",
       "      <td>F</td>\n",
       "      <td>f</td>\n",
       "      <td>f</td>\n",
       "      <td>f</td>\n",
       "      <td>f</td>\n",
       "      <td>f</td>\n",
       "      <td>f</td>\n",
       "      <td>f</td>\n",
       "      <td>t</td>\n",
       "      <td>...</td>\n",
       "      <td>0.91</td>\n",
       "      <td>t</td>\n",
       "      <td>118.5</td>\n",
       "      <td>t</td>\n",
       "      <td>1.106</td>\n",
       "      <td>t</td>\n",
       "      <td>136.9</td>\n",
       "      <td>f</td>\n",
       "      <td>SVI</td>\n",
       "      <td>negative</td>\n",
       "    </tr>\n",
       "  </tbody>\n",
       "</table>\n",
       "<p>204 rows × 29 columns</p>\n",
       "</div>"
      ],
      "text/plain": [
       "      age sex on_thyroxine query_on_thyroxine on_antithyroid_medication sick  \\\n",
       "0    51.0   F            f                  f                         f    t   \n",
       "1    66.0   F            f                  f                         f    t   \n",
       "2    42.0   M            f                  t                         f    f   \n",
       "3    42.0   M            f                  f                         f    f   \n",
       "4    63.0   F            f                  f                         f    f   \n",
       "..    ...  ..          ...                ...                       ...  ...   \n",
       "199  42.0   F            f                  f                         t    f   \n",
       "200  50.0   F            t                  f                         f    f   \n",
       "201  49.0   F            f                  f                         t    f   \n",
       "202  52.0   M            t                  f                         f    t   \n",
       "203  40.0   F            f                  f                         f    f   \n",
       "\n",
       "    pregnant thyroid_surgery I131_treatment query_hypothyroid  ...    T3  \\\n",
       "0          f               f              f                 f  ...  2.35   \n",
       "1          t               f              f                 f  ...  2.51   \n",
       "2          f               f              f                 t  ...  2.36   \n",
       "3          f               t              f                 f  ...  1.29   \n",
       "4          f               f              f                 f  ...  4.42   \n",
       "..       ...             ...            ...               ...  ...   ...   \n",
       "199        t               f              f                 f  ...  2.83   \n",
       "200        f               f              f                 f  ...  6.83   \n",
       "201        f               f              f                 f  ...  1.41   \n",
       "202        f               f              f                 f  ...  2.77   \n",
       "203        f               f              f                 t  ...  0.91   \n",
       "\n",
       "    TT4_measured    TT4 T4U_measured    T4U FTI_measured    FTI  TBG_measured  \\\n",
       "0              t  146.4            t  0.871            t   82.6             f   \n",
       "1              t  134.8            t  1.096            t   93.5             f   \n",
       "2              t  122.6            t  1.106            t  139.0             f   \n",
       "3              t  125.9            t  0.895            t   86.6             f   \n",
       "4              t   91.9            t  0.948            t  125.2             f   \n",
       "..           ...    ...          ...    ...          ...    ...           ...   \n",
       "199            t  100.3            t  1.472            t   99.6             f   \n",
       "200            t  174.5            t  0.821            t   92.0             f   \n",
       "201            t  339.2            t  1.003            t  155.5             f   \n",
       "202            t  145.0            t  1.783            t  194.1             f   \n",
       "203            t  118.5            t  1.106            t  136.9             f   \n",
       "\n",
       "    referral_source     Class  \n",
       "0              SVHC  negative  \n",
       "1             other  negative  \n",
       "2              SVHC      sick  \n",
       "3              SVHC  negative  \n",
       "4             other  negative  \n",
       "..              ...       ...  \n",
       "199             SVI  negative  \n",
       "200            STMW  negative  \n",
       "201             SVI  negative  \n",
       "202           other  negative  \n",
       "203             SVI  negative  \n",
       "\n",
       "[204 rows x 29 columns]"
      ]
     },
     "execution_count": 46,
     "metadata": {},
     "output_type": "execute_result"
    }
   ],
   "source": [
    "syn_data3 = copula.sample(num_rows = 204) # Generating Synthetic Data\n",
    "syn_data3 # Printing Generated Data"
   ]
  },
  {
   "cell_type": "markdown",
   "id": "aeb06e6e",
   "metadata": {},
   "source": [
    "#### Data Pre Processing"
   ]
  },
  {
   "cell_type": "markdown",
   "id": "0cdad125",
   "metadata": {},
   "source": [
    "##### Extracting Predictor & Response Variable"
   ]
  },
  {
   "cell_type": "code",
   "execution_count": 47,
   "id": "5b8549bc",
   "metadata": {},
   "outputs": [],
   "source": [
    "syn_X3 = syn_data3.iloc[:, :-1] # Predictor Variable\n",
    "syn_y3 = syn_data3.iloc[:, -1] # Response Variable"
   ]
  },
  {
   "cell_type": "markdown",
   "id": "ad067980",
   "metadata": {},
   "source": [
    "##### Encoding"
   ]
  },
  {
   "cell_type": "code",
   "execution_count": 48,
   "id": "9dff3b1b",
   "metadata": {},
   "outputs": [],
   "source": [
    "syn_X3 = np.array(pd.get_dummies(syn_X3)) # Encoding Predictor Varaiables\n",
    "syn_y3 = np.array(response_encode.fit_transform(syn_y3)) # Encoding  Varaiables"
   ]
  },
  {
   "cell_type": "markdown",
   "id": "3a75090a",
   "metadata": {},
   "source": [
    "#### Evaluating Synthetic Instances"
   ]
  },
  {
   "cell_type": "markdown",
   "id": "69772a96",
   "metadata": {},
   "source": [
    "Testing Generated Synthetic Data On The Model Trained with Original Datapoints"
   ]
  },
  {
   "cell_type": "code",
   "execution_count": 66,
   "id": "88bec277",
   "metadata": {},
   "outputs": [
    {
     "name": "stdout",
     "output_type": "stream",
     "text": [
      "Average Accuracy of the Model->  79 %\n"
     ]
    }
   ],
   "source": [
    "syn3_acc = model.predict(syn_X3) # Prediction\n",
    "print(\"Average Accuracy of the Model-> \", round(accuracy_score(syn3_acc, syn_y3)*100), \"%\") # Average Accuracy Score of the Model"
   ]
  },
  {
   "cell_type": "markdown",
   "id": "f567791b",
   "metadata": {},
   "source": [
    "Statistical Metrics"
   ]
  },
  {
   "cell_type": "code",
   "execution_count": 50,
   "id": "4a1748e7",
   "metadata": {},
   "outputs": [],
   "source": [
    "general_evaluation3 = evaluate(syn_data3, dataset) # Evaluating on All Metrics\n",
    "CS_test3 = evaluate(syn_data3, dataset, metrics = ['CSTest']) # Chi-Squared Test\n",
    "KS_test3 = evaluate(syn_data3, dataset, metrics = ['KSTest']) # Inverted Kolmogorov-Smirnov Test"
   ]
  },
  {
   "cell_type": "code",
   "execution_count": 51,
   "id": "2eacb945",
   "metadata": {
    "scrolled": true
   },
   "outputs": [
    {
     "data": {
      "text/html": [
       "<div>\n",
       "<style scoped>\n",
       "    .dataframe tbody tr th:only-of-type {\n",
       "        vertical-align: middle;\n",
       "    }\n",
       "\n",
       "    .dataframe tbody tr th {\n",
       "        vertical-align: top;\n",
       "    }\n",
       "\n",
       "    .dataframe thead th {\n",
       "        text-align: right;\n",
       "    }\n",
       "</style>\n",
       "<table border=\"1\" class=\"dataframe\">\n",
       "  <thead>\n",
       "    <tr style=\"text-align: right;\">\n",
       "      <th></th>\n",
       "      <th>Results</th>\n",
       "    </tr>\n",
       "  </thead>\n",
       "  <tbody>\n",
       "    <tr>\n",
       "      <th>General Evaluation</th>\n",
       "      <td>0.448113</td>\n",
       "    </tr>\n",
       "    <tr>\n",
       "      <th>Chi-Squared Test</th>\n",
       "      <td>0.587050</td>\n",
       "    </tr>\n",
       "    <tr>\n",
       "      <th>Inverted Kolmogorov-Smirnov Test</th>\n",
       "      <td>0.719944</td>\n",
       "    </tr>\n",
       "  </tbody>\n",
       "</table>\n",
       "</div>"
      ],
      "text/plain": [
       "                                   Results\n",
       "General Evaluation                0.448113\n",
       "Chi-Squared Test                  0.587050\n",
       "Inverted Kolmogorov-Smirnov Test  0.719944"
      ]
     },
     "execution_count": 51,
     "metadata": {},
     "output_type": "execute_result"
    }
   ],
   "source": [
    "evaluation3 = [general_evaluation3, CS_test3, KS_test3] # Creating a List of the Results\n",
    "evaluation3 = pd.DataFrame(evaluation3) # Creating a Data Frame of the Results\n",
    "evaluation3.columns = ['Results'] # Gicing Column Name\n",
    "evaluation3.rename({0:'General Evaluation', 1:'Chi-Squared Test', 2:'Inverted Kolmogorov-Smirnov Test'}) # Renaming Row Name"
   ]
  },
  {
   "cell_type": "code",
   "execution_count": 52,
   "id": "0b21ba76",
   "metadata": {},
   "outputs": [],
   "source": [
    "p_CS_test3 = 1-CS_test3 # Calculating 'p-value' for Chi-Squared Test\n",
    "p_KS_test3 = 1-KS_test3 # Calculating 'p-value' for Inverted Kolmogorov-Smirnov Test"
   ]
  },
  {
   "cell_type": "code",
   "execution_count": 53,
   "id": "9668a55d",
   "metadata": {},
   "outputs": [
    {
     "data": {
      "text/html": [
       "<div>\n",
       "<style scoped>\n",
       "    .dataframe tbody tr th:only-of-type {\n",
       "        vertical-align: middle;\n",
       "    }\n",
       "\n",
       "    .dataframe tbody tr th {\n",
       "        vertical-align: top;\n",
       "    }\n",
       "\n",
       "    .dataframe thead th {\n",
       "        text-align: right;\n",
       "    }\n",
       "</style>\n",
       "<table border=\"1\" class=\"dataframe\">\n",
       "  <thead>\n",
       "    <tr style=\"text-align: right;\">\n",
       "      <th></th>\n",
       "      <th>P Values</th>\n",
       "    </tr>\n",
       "  </thead>\n",
       "  <tbody>\n",
       "    <tr>\n",
       "      <th>Chi-Squared P Value</th>\n",
       "      <td>0.412950</td>\n",
       "    </tr>\n",
       "    <tr>\n",
       "      <th>Inverted Kolmogorov-Smirnov P Value</th>\n",
       "      <td>0.280056</td>\n",
       "    </tr>\n",
       "  </tbody>\n",
       "</table>\n",
       "</div>"
      ],
      "text/plain": [
       "                                     P Values\n",
       "Chi-Squared P Value                  0.412950\n",
       "Inverted Kolmogorov-Smirnov P Value  0.280056"
      ]
     },
     "execution_count": 53,
     "metadata": {},
     "output_type": "execute_result"
    }
   ],
   "source": [
    "p_value3 = [p_CS_test3, p_KS_test3] # Creating a List of the Results\n",
    "p_value3 = pd.DataFrame(p_value3) # Creating a Data Frame of the Results\n",
    "p_value3.columns = ['P Values'] # Gicing Column Name\n",
    "p_value3.rename({0:'Chi-Squared P Value', 1:'Inverted Kolmogorov-Smirnov P Value'}) # Renaming Row Name"
   ]
  },
  {
   "cell_type": "markdown",
   "id": "508fd001",
   "metadata": {},
   "source": [
    "#### Exploratory Data Analysis"
   ]
  },
  {
   "cell_type": "code",
   "execution_count": 54,
   "id": "161fdfa5",
   "metadata": {},
   "outputs": [
    {
     "data": {
      "image/png": "[encoded data removed]",
      "text/plain": [
       "<Figure size 432x288 with 1 Axes>"
      ]
     },
     "metadata": {
      "needs_background": "light"
     },
     "output_type": "display_data"
    }
   ],
   "source": [
    "syn_age3 = pd.DataFrame(syn_data3.age) # Extracting 'age' Data from the Dataset\n",
    "\n",
    "plt.hist(syn_age3, bins = 10) # Histogram\n",
    "plt.show() # Displaying the Plot"
   ]
  },
  {
   "cell_type": "code",
   "execution_count": 55,
   "id": "6d27309b",
   "metadata": {},
   "outputs": [
    {
     "data": {
      "image/png": "[encoded data removed]",
      "text/plain": [
       "<Figure size 432x288 with 1 Axes>"
      ]
     },
     "metadata": {
      "needs_background": "light"
     },
     "output_type": "display_data"
    }
   ],
   "source": [
    "syn_sex3 = pd.DataFrame(syn_data3.sex) # Extracting 'sex' Data from the Dataset\n",
    "syn_sex3.columns = ['Sex'] # Giving Column Name\n",
    "\n",
    "sns.countplot(x = 'Sex', data = syn_sex3) # Plotting The Count Graph\n",
    "plt.title('Number of Males and Females') # Giving Title To The Graph\n",
    "plt.show() # Showing The Graph"
   ]
  },
  {
   "cell_type": "markdown",
   "id": "608149d6",
   "metadata": {},
   "source": [
    "**xxxxxxxxxxxxxxxxxxxxxxxxxxxxxxxxxxxxxxxxxxxxxxxxxxxxxxxxxxxxxxxxxxxxxxxxxxxxxxxxxxxxxxxxxxxxxxxxxxxxxxxxxxxxxxxxxxxxxxxxxxx**"
   ]
  }
 ],
 "metadata": {
  "kernelspec": {
   "display_name": "Python 3 (ipykernel)",
   "language": "python",
   "name": "python3"
  },
  "language_info": {
   "codemirror_mode": {
    "name": "ipython",
    "version": 3
   },
   "file_extension": ".py",
   "mimetype": "text/x-python",
   "name": "python",
   "nbconvert_exporter": "python",
   "pygments_lexer": "ipython3",
   "version": "3.9.7"
  }
 },
 "nbformat": 4,
 "nbformat_minor": 5
}
