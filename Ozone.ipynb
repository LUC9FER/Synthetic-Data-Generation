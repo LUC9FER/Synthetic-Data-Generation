{
 "cells": [
  {
   "cell_type": "markdown",
   "id": "cedabfbc",
   "metadata": {},
   "source": [
    "## Downloading Dataset"
   ]
  },
  {
   "cell_type": "code",
   "execution_count": 1,
   "id": "23ddd4d3",
   "metadata": {},
   "outputs": [],
   "source": [
    "from mit_d3m import load_dataset # Importing Dataset\n",
    "ozone = load_dataset('LL0_1487_ozone_level_8hr') # Loading Dataset"
   ]
  },
  {
   "cell_type": "markdown",
   "id": "69ae2b4f",
   "metadata": {},
   "source": [
    "**xxxxxxxxxxxxxxxxxxxxxxxxxxxxxxxxxxxxxxxxxxxxxxxxxxxxxxxxxxxxxxxxxxxxxxxxxxxxxxxxxxxxxxxxxxxxxxxxxxxxxxxxxxxxxxxxxxxxxxxxxxx**"
   ]
  },
  {
   "cell_type": "markdown",
   "id": "9ae94db5",
   "metadata": {},
   "source": [
    "## Dataset Context"
   ]
  },
  {
   "cell_type": "code",
   "execution_count": 2,
   "id": "22b704ad",
   "metadata": {},
   "outputs": [
    {
     "data": {
      "text/plain": [
       "{'target_entity': 'learningData',\n",
       " 'entities': {'learningData': (          d3mIndex   V1   V2   V3   V4   V5   V6   V7   V8   V9  ...   V63  \\\n",
       "   d3mIndex                                                         ...         \n",
       "   0                0  0.8  1.8  2.4  2.1  2.0  2.1  1.5  1.7  1.9  ... -15.5   \n",
       "   2                2  2.9  2.8  2.6  2.1  2.2  2.5  2.5  2.7  2.2  ... -15.9   \n",
       "   3                3  4.7  3.8  3.7  3.8  2.9  3.1  2.8  2.5  2.4  ... -16.8   \n",
       "   5                5  3.1  3.5  3.3  2.5  1.6  1.7  1.6  1.6  2.3  ... -11.8   \n",
       "   6                6  3.7  3.2  3.8  5.1  6.0  7.0  6.3  6.4  6.3  ... -11.8   \n",
       "   ...            ...  ...  ...  ...  ...  ...  ...  ...  ...  ...  ...   ...   \n",
       "   2528          2528  0.9  0.4  0.3  0.2  0.3  0.2  0.3  0.3  0.3  ... -17.1   \n",
       "   2529          2529  0.3  0.4  0.5  0.5  0.2  0.3  0.4  0.4  1.3  ... -12.4   \n",
       "   2530          2530  1.0  1.4  1.1  1.7  1.5  1.7  1.8  1.5  2.1  ... -12.0   \n",
       "   2531          2531  0.8  0.8  1.2  0.9  0.4  0.6  0.8  1.1  1.5  ... -11.8   \n",
       "   2532          2532  1.3  0.9  1.5  1.2  1.6  1.8  1.1  1.0  1.9  ... -10.8   \n",
       "   \n",
       "              V64    V65    V66     V67    V68    V69      V70        V71   V72  \n",
       "   d3mIndex                                                                      \n",
       "   0         0.15  10.67  -1.56  5795.0 -12.10  17.90  10330.0 -55.000000  0.00  \n",
       "   2         0.60   6.94   9.80  5790.0  17.90  41.30  10235.0 -40.000000  0.00  \n",
       "   3         0.49   8.73  10.54  5775.0  31.15  51.70  10195.0 -40.000000  2.08  \n",
       "   5         0.09  11.98  11.28  5770.0  27.95  46.25  10120.0  -0.119949  5.84  \n",
       "   6         0.84   6.86  25.60  5695.0  26.75  48.45  10040.0 -80.000000  0.18  \n",
       "   ...        ...    ...    ...     ...    ...    ...      ...        ...   ...  \n",
       "   2528      0.13   8.77 -11.98  5670.0  -6.60  25.50  10230.0  10.000000  0.00  \n",
       "   2529      0.07   7.93  -4.41  5800.0 -25.60  21.80  10295.0  65.000000  0.00  \n",
       "   2530      0.04   5.95  -1.14  5845.0 -19.40  19.10  10310.0  15.000000  0.00  \n",
       "   2531      0.06   7.80  -0.64  5845.0  -9.60  35.20  10275.0 -35.000000  0.00  \n",
       "   2532      0.25   7.72  -0.89  5845.0 -19.60  34.20  10245.0 -30.000000  0.05  \n",
       "   \n",
       "   [2028 rows x 73 columns],\n",
       "   'd3mIndex',\n",
       "   None)},\n",
       " 'relationships': []}"
      ]
     },
     "execution_count": 2,
     "metadata": {},
     "output_type": "execute_result"
    }
   ],
   "source": [
    "ozone.context"
   ]
  },
  {
   "cell_type": "markdown",
   "id": "e9305284",
   "metadata": {},
   "source": [
    "**xxxxxxxxxxxxxxxxxxxxxxxxxxxxxxxxxxxxxxxxxxxxxxxxxxxxxxxxxxxxxxxxxxxxxxxxxxxxxxxxxxxxxxxxxxxxxxxxxxxxxxxxxxxxxxxxxxxxxxxxxxx**"
   ]
  },
  {
   "cell_type": "markdown",
   "id": "4d8880bb",
   "metadata": {},
   "source": [
    "## Importing Libraries"
   ]
  },
  {
   "cell_type": "code",
   "execution_count": 3,
   "id": "fc589faf",
   "metadata": {},
   "outputs": [],
   "source": [
    "import numpy as np \n",
    "import pandas as pd\n",
    "import matplotlib.pyplot as plt\n",
    "import seaborn as sns\n",
    "import pickle \n",
    "import warnings"
   ]
  },
  {
   "cell_type": "markdown",
   "id": "78f61840",
   "metadata": {},
   "source": [
    "### Data Preprocessing"
   ]
  },
  {
   "cell_type": "code",
   "execution_count": 4,
   "id": "532d0f89",
   "metadata": {},
   "outputs": [],
   "source": [
    "from sklearn.model_selection import train_test_split, KFold, cross_val_score # Importing Library for Splitting the Dataset into Train & Test Set\n",
    "from imblearn.over_sampling import SMOTE # Importing 'SMOTE' to Handel Imbalance Dataset"
   ]
  },
  {
   "cell_type": "markdown",
   "id": "63c99b6a",
   "metadata": {},
   "source": [
    "### Models"
   ]
  },
  {
   "cell_type": "code",
   "execution_count": 45,
   "id": "6b8fdf2d",
   "metadata": {},
   "outputs": [],
   "source": [
    "from sklearn.linear_model import LogisticRegression # Importing 'LogistocRegression' Machine Learning Model\n",
    "from sdv.tabular import GaussianCopula # Importing 'GaussianCoupla' Model\n",
    "from sdv.tabular import CTGAN # Importing 'CTGAN' Model\n",
    "from sdv.tabular import CopulaGAN # Importing 'CopulaGAN' Model"
   ]
  },
  {
   "cell_type": "markdown",
   "id": "c4fc8bab",
   "metadata": {},
   "source": [
    "### Evaluation Metrics"
   ]
  },
  {
   "cell_type": "code",
   "execution_count": 6,
   "id": "ce102c63",
   "metadata": {},
   "outputs": [],
   "source": [
    "from sklearn.metrics import accuracy_score# Importing 'accuracy_score' Class for Model Evaluation \n",
    "from numpy import mean, absolute # Importing 'mean' & 'absolute' to Calculate Accuracy Score\n",
    "from sdv.evaluation import evaluate # Importing 'evaluate' Class for Synthetic Dataset Evaluation"
   ]
  },
  {
   "cell_type": "markdown",
   "id": "6e03d0cc",
   "metadata": {},
   "source": [
    "**xxxxxxxxxxxxxxxxxxxxxxxxxxxxxxxxxxxxxxxxxxxxxxxxxxxxxxxxxxxxxxxxxxxxxxxxxxxxxxxxxxxxxxxxxxxxxxxxxxxxxxxxxxxxxxxxxxxxxxxxxxx**"
   ]
  },
  {
   "cell_type": "markdown",
   "id": "d212a81f",
   "metadata": {},
   "source": [
    "## Removing Warning Messages"
   ]
  },
  {
   "cell_type": "code",
   "execution_count": 7,
   "id": "7d76ff0b",
   "metadata": {},
   "outputs": [],
   "source": [
    "warnings.filterwarnings(action = 'ignore')"
   ]
  },
  {
   "cell_type": "markdown",
   "id": "e4a8cd2f",
   "metadata": {},
   "source": [
    "**xxxxxxxxxxxxxxxxxxxxxxxxxxxxxxxxxxxxxxxxxxxxxxxxxxxxxxxxxxxxxxxxxxxxxxxxxxxxxxxxxxxxxxxxxxxxxxxxxxxxxxxxxxxxxxxxxxxxxxxxxxx**"
   ]
  },
  {
   "cell_type": "markdown",
   "id": "c7940ca3",
   "metadata": {},
   "source": [
    "## Predictor & Response Variable"
   ]
  },
  {
   "cell_type": "code",
   "execution_count": 8,
   "id": "47fabe0a",
   "metadata": {},
   "outputs": [],
   "source": [
    "X = ozone.X # Predictor Variables\n",
    "y = ozone.y # Response Variables"
   ]
  },
  {
   "cell_type": "markdown",
   "id": "fe4df2dc",
   "metadata": {},
   "source": [
    "## Data Pre-Processing"
   ]
  },
  {
   "cell_type": "code",
   "execution_count": 9,
   "id": "e8ea6e84",
   "metadata": {},
   "outputs": [
    {
     "data": {
      "text/plain": [
       "d3mIndex    0\n",
       "V1          0\n",
       "V2          0\n",
       "V3          0\n",
       "V4          0\n",
       "           ..\n",
       "V69         0\n",
       "V70         0\n",
       "V71         0\n",
       "V72         0\n",
       "Class       0\n",
       "Length: 74, dtype: int64"
      ]
     },
     "execution_count": 9,
     "metadata": {},
     "output_type": "execute_result"
    }
   ],
   "source": [
    "dataset = pd.concat([X,y], axis = 1) # Joining 'X' & 'y' in a Single Data Frame\n",
    "dataset.isnull().sum() # Printing Total 'NULL' Values in the Dataset"
   ]
  },
  {
   "cell_type": "code",
   "execution_count": 10,
   "id": "728ee327",
   "metadata": {},
   "outputs": [],
   "source": [
    "dataset = dataset.drop(['d3mIndex'], axis = 1) # Removing Number Index"
   ]
  },
  {
   "cell_type": "markdown",
   "id": "c36c20d8",
   "metadata": {},
   "source": [
    "### Extracting Predictor & Response Variable "
   ]
  },
  {
   "cell_type": "code",
   "execution_count": 11,
   "id": "7da3c56b",
   "metadata": {},
   "outputs": [],
   "source": [
    "X = dataset.iloc[:, :-1] # Extracting Predictor Variables\n",
    "y = dataset.iloc[:, -1] # Extracting Response Variables"
   ]
  },
  {
   "cell_type": "markdown",
   "id": "be7bf4c4",
   "metadata": {},
   "source": [
    "### Checking Class Imbalance"
   ]
  },
  {
   "cell_type": "code",
   "execution_count": 12,
   "id": "fc1a1849",
   "metadata": {},
   "outputs": [
    {
     "data": {
      "image/png": "[encoded data removed]",
      "text/plain": [
       "<Figure size 432x288 with 1 Axes>"
      ]
     },
     "metadata": {
      "needs_background": "light"
     },
     "output_type": "display_data"
    }
   ],
   "source": [
    "before = pd.DataFrame(y) # Converting Response Variable into a Dataframe\n",
    "before.columns = ['Catagories'] # Giving Column Name \n",
    "\n",
    "sns.countplot(x = 'Catagories', data = before) # Plotting The Count Graph\n",
    "plt.title('Distribution of Category in Dataset (Before Pre-Processing)') # Giving Title To The Graph\n",
    "plt.show() # Showing The Graph"
   ]
  },
  {
   "cell_type": "markdown",
   "id": "89565b01",
   "metadata": {},
   "source": [
    "### Balancing Dataset"
   ]
  },
  {
   "cell_type": "code",
   "execution_count": 13,
   "id": "28314f99",
   "metadata": {},
   "outputs": [],
   "source": [
    "smote = SMOTE() # Applying Synthteic Minority Oversampling Technique to Balance the Dataset\n",
    "X, y = smote.fit_resample(X, y) # Applying the Model"
   ]
  },
  {
   "cell_type": "code",
   "execution_count": 14,
   "id": "d293b960",
   "metadata": {
    "scrolled": true
   },
   "outputs": [
    {
     "data": {
      "image/png": "[encoded data removed]",
      "text/plain": [
       "<Figure size 432x288 with 1 Axes>"
      ]
     },
     "metadata": {
      "needs_background": "light"
     },
     "output_type": "display_data"
    }
   ],
   "source": [
    "after = pd.DataFrame(y) # Converting Response Variable into a Dataframe\n",
    "after.columns = ['Catagories'] # Giving Column Name\n",
    "\n",
    "sns.countplot(x = 'Catagories', data = after) # Plotting The Count Graph\n",
    "plt.title('Distribution of Category in Dataset (After Pre-Processing)') # Giving Title To The Graph\n",
    "plt.show() # Showing The Graph"
   ]
  },
  {
   "cell_type": "markdown",
   "id": "39d96869",
   "metadata": {},
   "source": [
    "### Training & Test Set Split"
   ]
  },
  {
   "cell_type": "code",
   "execution_count": 15,
   "id": "946f2f39",
   "metadata": {},
   "outputs": [],
   "source": [
    "X_train, X_test, y_train, y_test = train_test_split(X, y, test_size = 0.3, random_state = 0)"
   ]
  },
  {
   "cell_type": "markdown",
   "id": "dfcfcfdf",
   "metadata": {},
   "source": [
    "**xxxxxxxxxxxxxxxxxxxxxxxxxxxxxxxxxxxxxxxxxxxxxxxxxxxxxxxxxxxxxxxxxxxxxxxxxxxxxxxxxxxxxxxxxxxxxxxxxxxxxxxxxxxxxxxxxxxxxxxxxxx**"
   ]
  },
  {
   "cell_type": "markdown",
   "id": "26882f1e",
   "metadata": {},
   "source": [
    "## XG Boost Classification Model"
   ]
  },
  {
   "cell_type": "code",
   "execution_count": 46,
   "id": "fd547216",
   "metadata": {},
   "outputs": [
    {
     "data": {
      "text/plain": [
       "LogisticRegression()"
      ]
     },
     "execution_count": 46,
     "metadata": {},
     "output_type": "execute_result"
    }
   ],
   "source": [
    "model = LogisticRegression() # Initializing the Classification Model\n",
    "model.fit(X_train, y_train)"
   ]
  },
  {
   "cell_type": "markdown",
   "id": "14e1f18b",
   "metadata": {},
   "source": [
    "### Evaluating Model"
   ]
  },
  {
   "cell_type": "code",
   "execution_count": 47,
   "id": "a9ccd9dc",
   "metadata": {},
   "outputs": [
    {
     "name": "stdout",
     "output_type": "stream",
     "text": [
      "Average Accuracy of the Model ->  84 %\n"
     ]
    }
   ],
   "source": [
    "cv = KFold(n_splits=10, random_state = 1, shuffle = True) # Defining Cross-Validation Method \n",
    "\n",
    "scores = cross_val_score(model, X, y, cv = cv, n_jobs = -1) # Evaluating the Model\n",
    "print('Average Accuracy of the Model -> ', round(mean(absolute(scores)) * 100), '%') # Printing Results"
   ]
  },
  {
   "cell_type": "markdown",
   "id": "2fb531c7",
   "metadata": {},
   "source": [
    "**xxxxxxxxxxxxxxxxxxxxxxxxxxxxxxxxxxxxxxxxxxxxxxxxxxxxxxxxxxxxxxxxxxxxxxxxxxxxxxxxxxxxxxxxxxxxxxxxxxxxxxxxxxxxxxxxxxxxxxxxxxx**"
   ]
  },
  {
   "cell_type": "markdown",
   "id": "043bf654",
   "metadata": {},
   "source": [
    "## Synthetic Data Instances"
   ]
  },
  {
   "cell_type": "markdown",
   "id": "d23e802d",
   "metadata": {},
   "source": [
    "### Gaussian Copula Model\n"
   ]
  },
  {
   "cell_type": "code",
   "execution_count": null,
   "id": "4a9acb46",
   "metadata": {},
   "outputs": [],
   "source": [
    "syn_model = GaussianCopula() # Initializing the Model\n",
    "syn_model.fit(dataset) # Applying the Model on the Data"
   ]
  },
  {
   "cell_type": "markdown",
   "id": "2e6d4a0c",
   "metadata": {},
   "source": [
    "#### Saving The Synthetic Data Generator Model"
   ]
  },
  {
   "cell_type": "code",
   "execution_count": null,
   "id": "3ee5a131",
   "metadata": {},
   "outputs": [],
   "source": [
    "syn_model.save('Saved Model/Copula.pkl')"
   ]
  },
  {
   "cell_type": "markdown",
   "id": "82cc544b",
   "metadata": {},
   "source": [
    "#### Loading The Saved Synthetic Data Generator Model"
   ]
  },
  {
   "cell_type": "code",
   "execution_count": 18,
   "id": "63e8caf8",
   "metadata": {},
   "outputs": [],
   "source": [
    "gaussian = GaussianCopula.load('Saved Model/Gaussian.pkl')"
   ]
  },
  {
   "cell_type": "code",
   "execution_count": 19,
   "id": "9917c4f0",
   "metadata": {},
   "outputs": [
    {
     "data": {
      "text/html": [
       "<div>\n",
       "<style scoped>\n",
       "    .dataframe tbody tr th:only-of-type {\n",
       "        vertical-align: middle;\n",
       "    }\n",
       "\n",
       "    .dataframe tbody tr th {\n",
       "        vertical-align: top;\n",
       "    }\n",
       "\n",
       "    .dataframe thead th {\n",
       "        text-align: right;\n",
       "    }\n",
       "</style>\n",
       "<table border=\"1\" class=\"dataframe\">\n",
       "  <thead>\n",
       "    <tr style=\"text-align: right;\">\n",
       "      <th></th>\n",
       "      <th>V1</th>\n",
       "      <th>V2</th>\n",
       "      <th>V3</th>\n",
       "      <th>V4</th>\n",
       "      <th>V5</th>\n",
       "      <th>V6</th>\n",
       "      <th>V7</th>\n",
       "      <th>V8</th>\n",
       "      <th>V9</th>\n",
       "      <th>V10</th>\n",
       "      <th>...</th>\n",
       "      <th>V64</th>\n",
       "      <th>V65</th>\n",
       "      <th>V66</th>\n",
       "      <th>V67</th>\n",
       "      <th>V68</th>\n",
       "      <th>V69</th>\n",
       "      <th>V70</th>\n",
       "      <th>V71</th>\n",
       "      <th>V72</th>\n",
       "      <th>Class</th>\n",
       "    </tr>\n",
       "  </thead>\n",
       "  <tbody>\n",
       "    <tr>\n",
       "      <th>0</th>\n",
       "      <td>1.625492</td>\n",
       "      <td>2.367953</td>\n",
       "      <td>1.70864</td>\n",
       "      <td>2.270905</td>\n",
       "      <td>2.720547</td>\n",
       "      <td>4.812224</td>\n",
       "      <td>5.175530</td>\n",
       "      <td>5.057845</td>\n",
       "      <td>4.996732</td>\n",
       "      <td>4.752012</td>\n",
       "      <td>...</td>\n",
       "      <td>0.217566</td>\n",
       "      <td>28.831074</td>\n",
       "      <td>5.470561</td>\n",
       "      <td>5757.715568</td>\n",
       "      <td>19.113561</td>\n",
       "      <td>40.504650</td>\n",
       "      <td>10151.489123</td>\n",
       "      <td>-59.786142</td>\n",
       "      <td>1.689368</td>\n",
       "      <td>1</td>\n",
       "    </tr>\n",
       "    <tr>\n",
       "      <th>1</th>\n",
       "      <td>0.263729</td>\n",
       "      <td>0.369777</td>\n",
       "      <td>0.14327</td>\n",
       "      <td>0.103816</td>\n",
       "      <td>0.441673</td>\n",
       "      <td>0.244586</td>\n",
       "      <td>0.638592</td>\n",
       "      <td>0.665057</td>\n",
       "      <td>1.278793</td>\n",
       "      <td>1.494432</td>\n",
       "      <td>...</td>\n",
       "      <td>0.356054</td>\n",
       "      <td>9.094421</td>\n",
       "      <td>-1.951533</td>\n",
       "      <td>5761.041728</td>\n",
       "      <td>26.242184</td>\n",
       "      <td>45.598197</td>\n",
       "      <td>10089.651812</td>\n",
       "      <td>-33.727342</td>\n",
       "      <td>0.732303</td>\n",
       "      <td>1</td>\n",
       "    </tr>\n",
       "    <tr>\n",
       "      <th>2</th>\n",
       "      <td>0.859618</td>\n",
       "      <td>0.352135</td>\n",
       "      <td>0.57122</td>\n",
       "      <td>0.503327</td>\n",
       "      <td>0.701434</td>\n",
       "      <td>0.648381</td>\n",
       "      <td>0.602651</td>\n",
       "      <td>1.255204</td>\n",
       "      <td>1.723815</td>\n",
       "      <td>2.445703</td>\n",
       "      <td>...</td>\n",
       "      <td>0.243555</td>\n",
       "      <td>10.607444</td>\n",
       "      <td>9.424020</td>\n",
       "      <td>5764.506413</td>\n",
       "      <td>-4.126655</td>\n",
       "      <td>31.959178</td>\n",
       "      <td>10128.229553</td>\n",
       "      <td>15.295416</td>\n",
       "      <td>2.872779</td>\n",
       "      <td>1</td>\n",
       "    </tr>\n",
       "    <tr>\n",
       "      <th>3</th>\n",
       "      <td>1.274931</td>\n",
       "      <td>0.530609</td>\n",
       "      <td>1.80715</td>\n",
       "      <td>0.516159</td>\n",
       "      <td>0.269072</td>\n",
       "      <td>0.727361</td>\n",
       "      <td>1.266514</td>\n",
       "      <td>0.867731</td>\n",
       "      <td>1.565008</td>\n",
       "      <td>2.963409</td>\n",
       "      <td>...</td>\n",
       "      <td>0.652213</td>\n",
       "      <td>-3.124255</td>\n",
       "      <td>-1.829184</td>\n",
       "      <td>5893.271958</td>\n",
       "      <td>32.720264</td>\n",
       "      <td>53.305073</td>\n",
       "      <td>10180.342370</td>\n",
       "      <td>-21.676833</td>\n",
       "      <td>2.962825</td>\n",
       "      <td>1</td>\n",
       "    </tr>\n",
       "    <tr>\n",
       "      <th>4</th>\n",
       "      <td>1.058355</td>\n",
       "      <td>1.199907</td>\n",
       "      <td>2.11491</td>\n",
       "      <td>0.678200</td>\n",
       "      <td>1.239763</td>\n",
       "      <td>0.624763</td>\n",
       "      <td>1.620778</td>\n",
       "      <td>2.361045</td>\n",
       "      <td>2.810678</td>\n",
       "      <td>2.133299</td>\n",
       "      <td>...</td>\n",
       "      <td>0.363263</td>\n",
       "      <td>15.258908</td>\n",
       "      <td>-4.558745</td>\n",
       "      <td>5823.568314</td>\n",
       "      <td>21.222455</td>\n",
       "      <td>40.540154</td>\n",
       "      <td>10146.442496</td>\n",
       "      <td>-47.792224</td>\n",
       "      <td>0.423452</td>\n",
       "      <td>1</td>\n",
       "    </tr>\n",
       "    <tr>\n",
       "      <th>...</th>\n",
       "      <td>...</td>\n",
       "      <td>...</td>\n",
       "      <td>...</td>\n",
       "      <td>...</td>\n",
       "      <td>...</td>\n",
       "      <td>...</td>\n",
       "      <td>...</td>\n",
       "      <td>...</td>\n",
       "      <td>...</td>\n",
       "      <td>...</td>\n",
       "      <td>...</td>\n",
       "      <td>...</td>\n",
       "      <td>...</td>\n",
       "      <td>...</td>\n",
       "      <td>...</td>\n",
       "      <td>...</td>\n",
       "      <td>...</td>\n",
       "      <td>...</td>\n",
       "      <td>...</td>\n",
       "      <td>...</td>\n",
       "      <td>...</td>\n",
       "    </tr>\n",
       "    <tr>\n",
       "      <th>295</th>\n",
       "      <td>3.928280</td>\n",
       "      <td>3.541703</td>\n",
       "      <td>3.40129</td>\n",
       "      <td>2.629617</td>\n",
       "      <td>2.223892</td>\n",
       "      <td>3.197919</td>\n",
       "      <td>2.829379</td>\n",
       "      <td>1.867077</td>\n",
       "      <td>2.435578</td>\n",
       "      <td>3.084469</td>\n",
       "      <td>...</td>\n",
       "      <td>0.090965</td>\n",
       "      <td>12.188304</td>\n",
       "      <td>-3.068819</td>\n",
       "      <td>5737.172364</td>\n",
       "      <td>-4.883315</td>\n",
       "      <td>37.170681</td>\n",
       "      <td>10144.065215</td>\n",
       "      <td>-9.451366</td>\n",
       "      <td>0.927657</td>\n",
       "      <td>1</td>\n",
       "    </tr>\n",
       "    <tr>\n",
       "      <th>296</th>\n",
       "      <td>3.742804</td>\n",
       "      <td>2.866903</td>\n",
       "      <td>3.07566</td>\n",
       "      <td>2.428746</td>\n",
       "      <td>2.553248</td>\n",
       "      <td>2.425117</td>\n",
       "      <td>2.323426</td>\n",
       "      <td>2.753962</td>\n",
       "      <td>5.226692</td>\n",
       "      <td>4.560877</td>\n",
       "      <td>...</td>\n",
       "      <td>0.316725</td>\n",
       "      <td>13.965056</td>\n",
       "      <td>6.974146</td>\n",
       "      <td>5705.907398</td>\n",
       "      <td>19.474642</td>\n",
       "      <td>49.296131</td>\n",
       "      <td>10021.367043</td>\n",
       "      <td>41.909422</td>\n",
       "      <td>0.776724</td>\n",
       "      <td>1</td>\n",
       "    </tr>\n",
       "    <tr>\n",
       "      <th>297</th>\n",
       "      <td>0.445974</td>\n",
       "      <td>0.145936</td>\n",
       "      <td>0.50622</td>\n",
       "      <td>0.421824</td>\n",
       "      <td>0.901777</td>\n",
       "      <td>2.750588</td>\n",
       "      <td>2.140925</td>\n",
       "      <td>2.694773</td>\n",
       "      <td>2.163308</td>\n",
       "      <td>1.710217</td>\n",
       "      <td>...</td>\n",
       "      <td>0.033210</td>\n",
       "      <td>2.665599</td>\n",
       "      <td>1.004985</td>\n",
       "      <td>5772.467728</td>\n",
       "      <td>3.684367</td>\n",
       "      <td>28.878385</td>\n",
       "      <td>10185.336568</td>\n",
       "      <td>0.954797</td>\n",
       "      <td>0.248343</td>\n",
       "      <td>2</td>\n",
       "    </tr>\n",
       "    <tr>\n",
       "      <th>298</th>\n",
       "      <td>0.112763</td>\n",
       "      <td>0.216256</td>\n",
       "      <td>0.54094</td>\n",
       "      <td>0.246007</td>\n",
       "      <td>0.083240</td>\n",
       "      <td>0.313121</td>\n",
       "      <td>0.403483</td>\n",
       "      <td>0.820887</td>\n",
       "      <td>2.055543</td>\n",
       "      <td>3.218749</td>\n",
       "      <td>...</td>\n",
       "      <td>0.240504</td>\n",
       "      <td>15.497757</td>\n",
       "      <td>-3.264033</td>\n",
       "      <td>5677.233125</td>\n",
       "      <td>-11.022749</td>\n",
       "      <td>41.157314</td>\n",
       "      <td>10102.265019</td>\n",
       "      <td>23.677046</td>\n",
       "      <td>0.122683</td>\n",
       "      <td>1</td>\n",
       "    </tr>\n",
       "    <tr>\n",
       "      <th>299</th>\n",
       "      <td>0.211056</td>\n",
       "      <td>1.079296</td>\n",
       "      <td>0.97803</td>\n",
       "      <td>0.402640</td>\n",
       "      <td>0.257897</td>\n",
       "      <td>0.071538</td>\n",
       "      <td>0.591542</td>\n",
       "      <td>0.864776</td>\n",
       "      <td>1.465296</td>\n",
       "      <td>1.391316</td>\n",
       "      <td>...</td>\n",
       "      <td>0.145717</td>\n",
       "      <td>-6.923967</td>\n",
       "      <td>-5.665566</td>\n",
       "      <td>5946.448752</td>\n",
       "      <td>28.421917</td>\n",
       "      <td>39.666541</td>\n",
       "      <td>10140.774644</td>\n",
       "      <td>-47.967370</td>\n",
       "      <td>0.486510</td>\n",
       "      <td>1</td>\n",
       "    </tr>\n",
       "  </tbody>\n",
       "</table>\n",
       "<p>300 rows × 73 columns</p>\n",
       "</div>"
      ],
      "text/plain": [
       "           V1        V2       V3        V4        V5        V6        V7  \\\n",
       "0    1.625492  2.367953  1.70864  2.270905  2.720547  4.812224  5.175530   \n",
       "1    0.263729  0.369777  0.14327  0.103816  0.441673  0.244586  0.638592   \n",
       "2    0.859618  0.352135  0.57122  0.503327  0.701434  0.648381  0.602651   \n",
       "3    1.274931  0.530609  1.80715  0.516159  0.269072  0.727361  1.266514   \n",
       "4    1.058355  1.199907  2.11491  0.678200  1.239763  0.624763  1.620778   \n",
       "..        ...       ...      ...       ...       ...       ...       ...   \n",
       "295  3.928280  3.541703  3.40129  2.629617  2.223892  3.197919  2.829379   \n",
       "296  3.742804  2.866903  3.07566  2.428746  2.553248  2.425117  2.323426   \n",
       "297  0.445974  0.145936  0.50622  0.421824  0.901777  2.750588  2.140925   \n",
       "298  0.112763  0.216256  0.54094  0.246007  0.083240  0.313121  0.403483   \n",
       "299  0.211056  1.079296  0.97803  0.402640  0.257897  0.071538  0.591542   \n",
       "\n",
       "           V8        V9       V10  ...       V64        V65       V66  \\\n",
       "0    5.057845  4.996732  4.752012  ...  0.217566  28.831074  5.470561   \n",
       "1    0.665057  1.278793  1.494432  ...  0.356054   9.094421 -1.951533   \n",
       "2    1.255204  1.723815  2.445703  ...  0.243555  10.607444  9.424020   \n",
       "3    0.867731  1.565008  2.963409  ...  0.652213  -3.124255 -1.829184   \n",
       "4    2.361045  2.810678  2.133299  ...  0.363263  15.258908 -4.558745   \n",
       "..        ...       ...       ...  ...       ...        ...       ...   \n",
       "295  1.867077  2.435578  3.084469  ...  0.090965  12.188304 -3.068819   \n",
       "296  2.753962  5.226692  4.560877  ...  0.316725  13.965056  6.974146   \n",
       "297  2.694773  2.163308  1.710217  ...  0.033210   2.665599  1.004985   \n",
       "298  0.820887  2.055543  3.218749  ...  0.240504  15.497757 -3.264033   \n",
       "299  0.864776  1.465296  1.391316  ...  0.145717  -6.923967 -5.665566   \n",
       "\n",
       "             V67        V68        V69           V70        V71       V72  \\\n",
       "0    5757.715568  19.113561  40.504650  10151.489123 -59.786142  1.689368   \n",
       "1    5761.041728  26.242184  45.598197  10089.651812 -33.727342  0.732303   \n",
       "2    5764.506413  -4.126655  31.959178  10128.229553  15.295416  2.872779   \n",
       "3    5893.271958  32.720264  53.305073  10180.342370 -21.676833  2.962825   \n",
       "4    5823.568314  21.222455  40.540154  10146.442496 -47.792224  0.423452   \n",
       "..           ...        ...        ...           ...        ...       ...   \n",
       "295  5737.172364  -4.883315  37.170681  10144.065215  -9.451366  0.927657   \n",
       "296  5705.907398  19.474642  49.296131  10021.367043  41.909422  0.776724   \n",
       "297  5772.467728   3.684367  28.878385  10185.336568   0.954797  0.248343   \n",
       "298  5677.233125 -11.022749  41.157314  10102.265019  23.677046  0.122683   \n",
       "299  5946.448752  28.421917  39.666541  10140.774644 -47.967370  0.486510   \n",
       "\n",
       "     Class  \n",
       "0        1  \n",
       "1        1  \n",
       "2        1  \n",
       "3        1  \n",
       "4        1  \n",
       "..     ...  \n",
       "295      1  \n",
       "296      1  \n",
       "297      2  \n",
       "298      1  \n",
       "299      1  \n",
       "\n",
       "[300 rows x 73 columns]"
      ]
     },
     "execution_count": 19,
     "metadata": {},
     "output_type": "execute_result"
    }
   ],
   "source": [
    "syn_data = gaussian.sample(num_rows = 300) # Generating Synthetic Data\n",
    "syn_data # Printing the Generated Data"
   ]
  },
  {
   "cell_type": "markdown",
   "id": "2bd19aa5",
   "metadata": {},
   "source": [
    "#### Data Pre Processing"
   ]
  },
  {
   "cell_type": "markdown",
   "id": "61add230",
   "metadata": {},
   "source": [
    "##### Extracting Predictor & Response Variable"
   ]
  },
  {
   "cell_type": "code",
   "execution_count": 20,
   "id": "0add1a90",
   "metadata": {},
   "outputs": [],
   "source": [
    "syn_X = syn_data.iloc[:, :-1] # Predictor Variable\n",
    "syn_y = syn_data.iloc[:, -1] # Response Variable"
   ]
  },
  {
   "cell_type": "markdown",
   "id": "41465601",
   "metadata": {},
   "source": [
    "#### Evaluating Synthetic Instances"
   ]
  },
  {
   "cell_type": "markdown",
   "id": "dedcf389",
   "metadata": {},
   "source": [
    "Testing Generated Synthetic Data On The Model Trained with Original Datapoints"
   ]
  },
  {
   "cell_type": "code",
   "execution_count": 48,
   "id": "0194b04f",
   "metadata": {},
   "outputs": [
    {
     "name": "stdout",
     "output_type": "stream",
     "text": [
      "Average Accuracy of the Model->  75 %\n"
     ]
    }
   ],
   "source": [
    "syn_acc = model.predict(syn_X) # Prediction\n",
    "print(\"Average Accuracy of the Model-> \", round(accuracy_score(syn_acc, syn_y)*100), \"%\") # Average Accuracy Score of the Model"
   ]
  },
  {
   "cell_type": "markdown",
   "id": "ebeaaf1d",
   "metadata": {},
   "source": [
    "Statistical Metrics"
   ]
  },
  {
   "cell_type": "code",
   "execution_count": 26,
   "id": "036d9c32",
   "metadata": {},
   "outputs": [],
   "source": [
    "general_evaluation = evaluate(syn_data, dataset) # Evaluating on All Metrics\n",
    "KS_test = evaluate(syn_data, dataset, metrics = ['KSTest']) # Inverted Kolmogorov-Smirnov Test"
   ]
  },
  {
   "cell_type": "code",
   "execution_count": 27,
   "id": "82bc6e4c",
   "metadata": {
    "scrolled": true
   },
   "outputs": [
    {
     "data": {
      "text/html": [
       "<div>\n",
       "<style scoped>\n",
       "    .dataframe tbody tr th:only-of-type {\n",
       "        vertical-align: middle;\n",
       "    }\n",
       "\n",
       "    .dataframe tbody tr th {\n",
       "        vertical-align: top;\n",
       "    }\n",
       "\n",
       "    .dataframe thead th {\n",
       "        text-align: right;\n",
       "    }\n",
       "</style>\n",
       "<table border=\"1\" class=\"dataframe\">\n",
       "  <thead>\n",
       "    <tr style=\"text-align: right;\">\n",
       "      <th></th>\n",
       "      <th>Results</th>\n",
       "    </tr>\n",
       "  </thead>\n",
       "  <tbody>\n",
       "    <tr>\n",
       "      <th>General Evaluation</th>\n",
       "      <td>0.565483</td>\n",
       "    </tr>\n",
       "    <tr>\n",
       "      <th>Inverted Kolmogorov-Smirnov Test</th>\n",
       "      <td>0.907677</td>\n",
       "    </tr>\n",
       "  </tbody>\n",
       "</table>\n",
       "</div>"
      ],
      "text/plain": [
       "                                   Results\n",
       "General Evaluation                0.565483\n",
       "Inverted Kolmogorov-Smirnov Test  0.907677"
      ]
     },
     "execution_count": 27,
     "metadata": {},
     "output_type": "execute_result"
    }
   ],
   "source": [
    "evaluation = [general_evaluation, KS_test] # Creating a List of the Results\n",
    "evaluation = pd.DataFrame(evaluation) # Creating a Data Frame of the Results\n",
    "evaluation.columns = ['Results'] # Gicing Column Name\n",
    "evaluation.rename({0:'General Evaluation', 1:'Inverted Kolmogorov-Smirnov Test'}) # Renaming Row Name"
   ]
  },
  {
   "cell_type": "code",
   "execution_count": 24,
   "id": "0ca76ab4",
   "metadata": {},
   "outputs": [],
   "source": [
    "p_KS_test = 1-KS_test # Calculating 'p-value' for Inverted Kolmogorov-Smirnov Test"
   ]
  },
  {
   "cell_type": "code",
   "execution_count": 28,
   "id": "1a8e8d00",
   "metadata": {},
   "outputs": [
    {
     "data": {
      "text/html": [
       "<div>\n",
       "<style scoped>\n",
       "    .dataframe tbody tr th:only-of-type {\n",
       "        vertical-align: middle;\n",
       "    }\n",
       "\n",
       "    .dataframe tbody tr th {\n",
       "        vertical-align: top;\n",
       "    }\n",
       "\n",
       "    .dataframe thead th {\n",
       "        text-align: right;\n",
       "    }\n",
       "</style>\n",
       "<table border=\"1\" class=\"dataframe\">\n",
       "  <thead>\n",
       "    <tr style=\"text-align: right;\">\n",
       "      <th></th>\n",
       "      <th>P Values</th>\n",
       "    </tr>\n",
       "  </thead>\n",
       "  <tbody>\n",
       "    <tr>\n",
       "      <th>Inverted Kolmogorov-Smirnov P Value</th>\n",
       "      <td>0.092323</td>\n",
       "    </tr>\n",
       "  </tbody>\n",
       "</table>\n",
       "</div>"
      ],
      "text/plain": [
       "                                     P Values\n",
       "Inverted Kolmogorov-Smirnov P Value  0.092323"
      ]
     },
     "execution_count": 28,
     "metadata": {},
     "output_type": "execute_result"
    }
   ],
   "source": [
    "p_value = [p_KS_test] # Creating a List of the Results\n",
    "p_value = pd.DataFrame(p_value) # Creating a Data Frame of the Results\n",
    "p_value.columns = ['P Values'] # Gicing Column Name\n",
    "p_value.rename({0:'Inverted Kolmogorov-Smirnov P Value'}) # Renaming Row Name"
   ]
  },
  {
   "cell_type": "markdown",
   "id": "9a187e53",
   "metadata": {},
   "source": [
    "### CT GAN"
   ]
  },
  {
   "cell_type": "code",
   "execution_count": null,
   "id": "eb9c2c0e",
   "metadata": {},
   "outputs": [],
   "source": [
    "syn_model2 = CTGAN() # Initializing the Model\n",
    "syn_model2.fit(dataset) # Applying the Model on the Data"
   ]
  },
  {
   "cell_type": "markdown",
   "id": "2f1d3a47",
   "metadata": {},
   "source": [
    "#### Saving The Synthetic Data Generator Model"
   ]
  },
  {
   "cell_type": "code",
   "execution_count": null,
   "id": "bb6111ed",
   "metadata": {},
   "outputs": [],
   "source": [
    "syn_model2.save('Saved Model/CT_GAN.pkl')"
   ]
  },
  {
   "cell_type": "markdown",
   "id": "737306d1",
   "metadata": {},
   "source": [
    "#### Loading The Saved Synthetic Data Generator Model"
   ]
  },
  {
   "cell_type": "code",
   "execution_count": 29,
   "id": "67b47f9e",
   "metadata": {},
   "outputs": [],
   "source": [
    "ct_gan = CTGAN.load('Saved Model/CT_GAN.pkl')"
   ]
  },
  {
   "cell_type": "code",
   "execution_count": 30,
   "id": "c8c5f3ed",
   "metadata": {},
   "outputs": [
    {
     "data": {
      "text/html": [
       "<div>\n",
       "<style scoped>\n",
       "    .dataframe tbody tr th:only-of-type {\n",
       "        vertical-align: middle;\n",
       "    }\n",
       "\n",
       "    .dataframe tbody tr th {\n",
       "        vertical-align: top;\n",
       "    }\n",
       "\n",
       "    .dataframe thead th {\n",
       "        text-align: right;\n",
       "    }\n",
       "</style>\n",
       "<table border=\"1\" class=\"dataframe\">\n",
       "  <thead>\n",
       "    <tr style=\"text-align: right;\">\n",
       "      <th></th>\n",
       "      <th>V1</th>\n",
       "      <th>V2</th>\n",
       "      <th>V3</th>\n",
       "      <th>V4</th>\n",
       "      <th>V5</th>\n",
       "      <th>V6</th>\n",
       "      <th>V7</th>\n",
       "      <th>V8</th>\n",
       "      <th>V9</th>\n",
       "      <th>V10</th>\n",
       "      <th>...</th>\n",
       "      <th>V64</th>\n",
       "      <th>V65</th>\n",
       "      <th>V66</th>\n",
       "      <th>V67</th>\n",
       "      <th>V68</th>\n",
       "      <th>V69</th>\n",
       "      <th>V70</th>\n",
       "      <th>V71</th>\n",
       "      <th>V72</th>\n",
       "      <th>Class</th>\n",
       "    </tr>\n",
       "  </thead>\n",
       "  <tbody>\n",
       "    <tr>\n",
       "      <th>0</th>\n",
       "      <td>2.709564</td>\n",
       "      <td>0.000000</td>\n",
       "      <td>0.93316</td>\n",
       "      <td>0.847588</td>\n",
       "      <td>1.560414</td>\n",
       "      <td>0.440079</td>\n",
       "      <td>1.273094</td>\n",
       "      <td>2.344100</td>\n",
       "      <td>2.840955</td>\n",
       "      <td>0.356398</td>\n",
       "      <td>...</td>\n",
       "      <td>0.341105</td>\n",
       "      <td>6.244598</td>\n",
       "      <td>-0.255093</td>\n",
       "      <td>5817.952521</td>\n",
       "      <td>15.143274</td>\n",
       "      <td>41.323107</td>\n",
       "      <td>10214.364415</td>\n",
       "      <td>-65.317605</td>\n",
       "      <td>0.000000</td>\n",
       "      <td>1</td>\n",
       "    </tr>\n",
       "    <tr>\n",
       "      <th>1</th>\n",
       "      <td>0.357907</td>\n",
       "      <td>0.936338</td>\n",
       "      <td>0.76196</td>\n",
       "      <td>1.181035</td>\n",
       "      <td>0.930354</td>\n",
       "      <td>2.338969</td>\n",
       "      <td>1.857616</td>\n",
       "      <td>0.000000</td>\n",
       "      <td>5.286132</td>\n",
       "      <td>0.826881</td>\n",
       "      <td>...</td>\n",
       "      <td>0.106597</td>\n",
       "      <td>12.696673</td>\n",
       "      <td>-3.203806</td>\n",
       "      <td>5847.717176</td>\n",
       "      <td>38.889346</td>\n",
       "      <td>47.730825</td>\n",
       "      <td>10303.304138</td>\n",
       "      <td>12.368277</td>\n",
       "      <td>0.000000</td>\n",
       "      <td>1</td>\n",
       "    </tr>\n",
       "    <tr>\n",
       "      <th>2</th>\n",
       "      <td>0.897101</td>\n",
       "      <td>0.746752</td>\n",
       "      <td>2.31051</td>\n",
       "      <td>2.887267</td>\n",
       "      <td>0.902585</td>\n",
       "      <td>1.048658</td>\n",
       "      <td>1.583573</td>\n",
       "      <td>0.414910</td>\n",
       "      <td>2.961022</td>\n",
       "      <td>4.539250</td>\n",
       "      <td>...</td>\n",
       "      <td>0.632944</td>\n",
       "      <td>5.687053</td>\n",
       "      <td>-0.982077</td>\n",
       "      <td>5899.227722</td>\n",
       "      <td>24.933722</td>\n",
       "      <td>46.554063</td>\n",
       "      <td>10180.718868</td>\n",
       "      <td>43.763752</td>\n",
       "      <td>0.000000</td>\n",
       "      <td>1</td>\n",
       "    </tr>\n",
       "    <tr>\n",
       "      <th>3</th>\n",
       "      <td>2.049287</td>\n",
       "      <td>0.014528</td>\n",
       "      <td>1.88661</td>\n",
       "      <td>0.605937</td>\n",
       "      <td>0.933053</td>\n",
       "      <td>1.304435</td>\n",
       "      <td>4.748568</td>\n",
       "      <td>2.534742</td>\n",
       "      <td>2.896703</td>\n",
       "      <td>4.163181</td>\n",
       "      <td>...</td>\n",
       "      <td>0.165241</td>\n",
       "      <td>12.771201</td>\n",
       "      <td>-3.665011</td>\n",
       "      <td>5924.446085</td>\n",
       "      <td>32.630856</td>\n",
       "      <td>42.221102</td>\n",
       "      <td>10197.985554</td>\n",
       "      <td>7.672125</td>\n",
       "      <td>0.000000</td>\n",
       "      <td>1</td>\n",
       "    </tr>\n",
       "    <tr>\n",
       "      <th>4</th>\n",
       "      <td>1.085887</td>\n",
       "      <td>0.000000</td>\n",
       "      <td>1.62404</td>\n",
       "      <td>1.450536</td>\n",
       "      <td>0.635242</td>\n",
       "      <td>1.099968</td>\n",
       "      <td>1.146439</td>\n",
       "      <td>2.420304</td>\n",
       "      <td>4.889098</td>\n",
       "      <td>2.815703</td>\n",
       "      <td>...</td>\n",
       "      <td>0.034793</td>\n",
       "      <td>11.858556</td>\n",
       "      <td>5.931762</td>\n",
       "      <td>5862.526594</td>\n",
       "      <td>22.878938</td>\n",
       "      <td>59.150000</td>\n",
       "      <td>10218.373965</td>\n",
       "      <td>-60.098880</td>\n",
       "      <td>0.000000</td>\n",
       "      <td>1</td>\n",
       "    </tr>\n",
       "    <tr>\n",
       "      <th>...</th>\n",
       "      <td>...</td>\n",
       "      <td>...</td>\n",
       "      <td>...</td>\n",
       "      <td>...</td>\n",
       "      <td>...</td>\n",
       "      <td>...</td>\n",
       "      <td>...</td>\n",
       "      <td>...</td>\n",
       "      <td>...</td>\n",
       "      <td>...</td>\n",
       "      <td>...</td>\n",
       "      <td>...</td>\n",
       "      <td>...</td>\n",
       "      <td>...</td>\n",
       "      <td>...</td>\n",
       "      <td>...</td>\n",
       "      <td>...</td>\n",
       "      <td>...</td>\n",
       "      <td>...</td>\n",
       "      <td>...</td>\n",
       "      <td>...</td>\n",
       "    </tr>\n",
       "    <tr>\n",
       "      <th>198</th>\n",
       "      <td>0.738721</td>\n",
       "      <td>0.000000</td>\n",
       "      <td>0.77530</td>\n",
       "      <td>0.694250</td>\n",
       "      <td>0.439796</td>\n",
       "      <td>2.099059</td>\n",
       "      <td>2.367157</td>\n",
       "      <td>1.145140</td>\n",
       "      <td>2.085821</td>\n",
       "      <td>1.838841</td>\n",
       "      <td>...</td>\n",
       "      <td>0.283546</td>\n",
       "      <td>8.593764</td>\n",
       "      <td>-10.914320</td>\n",
       "      <td>5904.149943</td>\n",
       "      <td>27.764818</td>\n",
       "      <td>48.784116</td>\n",
       "      <td>10224.648752</td>\n",
       "      <td>2.671621</td>\n",
       "      <td>0.000000</td>\n",
       "      <td>2</td>\n",
       "    </tr>\n",
       "    <tr>\n",
       "      <th>199</th>\n",
       "      <td>1.778360</td>\n",
       "      <td>2.875993</td>\n",
       "      <td>1.99398</td>\n",
       "      <td>4.021730</td>\n",
       "      <td>5.468124</td>\n",
       "      <td>1.707957</td>\n",
       "      <td>1.781843</td>\n",
       "      <td>1.225993</td>\n",
       "      <td>2.211762</td>\n",
       "      <td>5.011561</td>\n",
       "      <td>...</td>\n",
       "      <td>0.103858</td>\n",
       "      <td>16.641021</td>\n",
       "      <td>20.949490</td>\n",
       "      <td>5761.393448</td>\n",
       "      <td>22.200980</td>\n",
       "      <td>23.440932</td>\n",
       "      <td>10210.073680</td>\n",
       "      <td>-135.000000</td>\n",
       "      <td>0.000000</td>\n",
       "      <td>1</td>\n",
       "    </tr>\n",
       "    <tr>\n",
       "      <th>200</th>\n",
       "      <td>1.376264</td>\n",
       "      <td>5.196854</td>\n",
       "      <td>1.22008</td>\n",
       "      <td>3.848337</td>\n",
       "      <td>1.873218</td>\n",
       "      <td>0.988186</td>\n",
       "      <td>4.407274</td>\n",
       "      <td>4.249009</td>\n",
       "      <td>2.744315</td>\n",
       "      <td>7.487010</td>\n",
       "      <td>...</td>\n",
       "      <td>0.124523</td>\n",
       "      <td>1.219879</td>\n",
       "      <td>14.026149</td>\n",
       "      <td>5909.861863</td>\n",
       "      <td>29.447525</td>\n",
       "      <td>11.059664</td>\n",
       "      <td>10286.056938</td>\n",
       "      <td>-58.659713</td>\n",
       "      <td>0.000000</td>\n",
       "      <td>1</td>\n",
       "    </tr>\n",
       "    <tr>\n",
       "      <th>201</th>\n",
       "      <td>0.380280</td>\n",
       "      <td>1.663194</td>\n",
       "      <td>3.32227</td>\n",
       "      <td>1.233732</td>\n",
       "      <td>7.200000</td>\n",
       "      <td>1.106104</td>\n",
       "      <td>0.798480</td>\n",
       "      <td>1.606920</td>\n",
       "      <td>3.255026</td>\n",
       "      <td>3.091461</td>\n",
       "      <td>...</td>\n",
       "      <td>0.273037</td>\n",
       "      <td>8.201325</td>\n",
       "      <td>19.234148</td>\n",
       "      <td>5853.537081</td>\n",
       "      <td>8.202969</td>\n",
       "      <td>43.059197</td>\n",
       "      <td>10111.379861</td>\n",
       "      <td>-93.917503</td>\n",
       "      <td>0.059256</td>\n",
       "      <td>1</td>\n",
       "    </tr>\n",
       "    <tr>\n",
       "      <th>202</th>\n",
       "      <td>1.592654</td>\n",
       "      <td>2.809373</td>\n",
       "      <td>0.86958</td>\n",
       "      <td>1.691911</td>\n",
       "      <td>0.556660</td>\n",
       "      <td>1.269265</td>\n",
       "      <td>0.584347</td>\n",
       "      <td>0.307122</td>\n",
       "      <td>6.734215</td>\n",
       "      <td>2.437087</td>\n",
       "      <td>...</td>\n",
       "      <td>0.079462</td>\n",
       "      <td>-2.151780</td>\n",
       "      <td>1.642490</td>\n",
       "      <td>5846.439890</td>\n",
       "      <td>38.000134</td>\n",
       "      <td>50.104260</td>\n",
       "      <td>10209.359132</td>\n",
       "      <td>-133.886031</td>\n",
       "      <td>0.000000</td>\n",
       "      <td>1</td>\n",
       "    </tr>\n",
       "  </tbody>\n",
       "</table>\n",
       "<p>203 rows × 73 columns</p>\n",
       "</div>"
      ],
      "text/plain": [
       "           V1        V2       V3        V4        V5        V6        V7  \\\n",
       "0    2.709564  0.000000  0.93316  0.847588  1.560414  0.440079  1.273094   \n",
       "1    0.357907  0.936338  0.76196  1.181035  0.930354  2.338969  1.857616   \n",
       "2    0.897101  0.746752  2.31051  2.887267  0.902585  1.048658  1.583573   \n",
       "3    2.049287  0.014528  1.88661  0.605937  0.933053  1.304435  4.748568   \n",
       "4    1.085887  0.000000  1.62404  1.450536  0.635242  1.099968  1.146439   \n",
       "..        ...       ...      ...       ...       ...       ...       ...   \n",
       "198  0.738721  0.000000  0.77530  0.694250  0.439796  2.099059  2.367157   \n",
       "199  1.778360  2.875993  1.99398  4.021730  5.468124  1.707957  1.781843   \n",
       "200  1.376264  5.196854  1.22008  3.848337  1.873218  0.988186  4.407274   \n",
       "201  0.380280  1.663194  3.32227  1.233732  7.200000  1.106104  0.798480   \n",
       "202  1.592654  2.809373  0.86958  1.691911  0.556660  1.269265  0.584347   \n",
       "\n",
       "           V8        V9       V10  ...       V64        V65        V66  \\\n",
       "0    2.344100  2.840955  0.356398  ...  0.341105   6.244598  -0.255093   \n",
       "1    0.000000  5.286132  0.826881  ...  0.106597  12.696673  -3.203806   \n",
       "2    0.414910  2.961022  4.539250  ...  0.632944   5.687053  -0.982077   \n",
       "3    2.534742  2.896703  4.163181  ...  0.165241  12.771201  -3.665011   \n",
       "4    2.420304  4.889098  2.815703  ...  0.034793  11.858556   5.931762   \n",
       "..        ...       ...       ...  ...       ...        ...        ...   \n",
       "198  1.145140  2.085821  1.838841  ...  0.283546   8.593764 -10.914320   \n",
       "199  1.225993  2.211762  5.011561  ...  0.103858  16.641021  20.949490   \n",
       "200  4.249009  2.744315  7.487010  ...  0.124523   1.219879  14.026149   \n",
       "201  1.606920  3.255026  3.091461  ...  0.273037   8.201325  19.234148   \n",
       "202  0.307122  6.734215  2.437087  ...  0.079462  -2.151780   1.642490   \n",
       "\n",
       "             V67        V68        V69           V70         V71       V72  \\\n",
       "0    5817.952521  15.143274  41.323107  10214.364415  -65.317605  0.000000   \n",
       "1    5847.717176  38.889346  47.730825  10303.304138   12.368277  0.000000   \n",
       "2    5899.227722  24.933722  46.554063  10180.718868   43.763752  0.000000   \n",
       "3    5924.446085  32.630856  42.221102  10197.985554    7.672125  0.000000   \n",
       "4    5862.526594  22.878938  59.150000  10218.373965  -60.098880  0.000000   \n",
       "..           ...        ...        ...           ...         ...       ...   \n",
       "198  5904.149943  27.764818  48.784116  10224.648752    2.671621  0.000000   \n",
       "199  5761.393448  22.200980  23.440932  10210.073680 -135.000000  0.000000   \n",
       "200  5909.861863  29.447525  11.059664  10286.056938  -58.659713  0.000000   \n",
       "201  5853.537081   8.202969  43.059197  10111.379861  -93.917503  0.059256   \n",
       "202  5846.439890  38.000134  50.104260  10209.359132 -133.886031  0.000000   \n",
       "\n",
       "     Class  \n",
       "0        1  \n",
       "1        1  \n",
       "2        1  \n",
       "3        1  \n",
       "4        1  \n",
       "..     ...  \n",
       "198      2  \n",
       "199      1  \n",
       "200      1  \n",
       "201      1  \n",
       "202      1  \n",
       "\n",
       "[203 rows x 73 columns]"
      ]
     },
     "execution_count": 30,
     "metadata": {},
     "output_type": "execute_result"
    }
   ],
   "source": [
    "syn_data2 = ct_gan.sample(num_rows = 203) # Generating Synthetic Data\n",
    "syn_data2 # Printing Generated Data"
   ]
  },
  {
   "cell_type": "markdown",
   "id": "69f7f1f3",
   "metadata": {},
   "source": [
    "#### Data Pre Processing"
   ]
  },
  {
   "cell_type": "markdown",
   "id": "9dae1f4c",
   "metadata": {},
   "source": [
    "##### Extracting Predictor & Response Variable"
   ]
  },
  {
   "cell_type": "code",
   "execution_count": 31,
   "id": "be6e1794",
   "metadata": {},
   "outputs": [],
   "source": [
    "syn_X2 = syn_data2.iloc[:, :-1] # Predictor Variable\n",
    "syn_y2 = syn_data2.iloc[:, -1] # Response Variable"
   ]
  },
  {
   "cell_type": "markdown",
   "id": "c4239e1b",
   "metadata": {},
   "source": [
    "#### Evaluating Synthetic Instances"
   ]
  },
  {
   "cell_type": "markdown",
   "id": "6b2a8ae4",
   "metadata": {},
   "source": [
    "Testing Generated Synthetic Data On The Model Trained with Original Datapoints"
   ]
  },
  {
   "cell_type": "code",
   "execution_count": 49,
   "id": "7ed6e27a",
   "metadata": {},
   "outputs": [
    {
     "name": "stdout",
     "output_type": "stream",
     "text": [
      "Average Accuracy of the Model->  78 %\n"
     ]
    }
   ],
   "source": [
    "syn2_acc = model.predict(syn_X2) # Prediction\n",
    "print(\"Average Accuracy of the Model-> \", round(accuracy_score(syn2_acc, syn_y2)*100), \"%\") # Average Accuracy Score of the Model"
   ]
  },
  {
   "cell_type": "markdown",
   "id": "a40f504d",
   "metadata": {},
   "source": [
    "Statistical Metrics"
   ]
  },
  {
   "cell_type": "code",
   "execution_count": 33,
   "id": "ca4f6338",
   "metadata": {},
   "outputs": [],
   "source": [
    "general_evaluation2 = evaluate(syn_data2, dataset) # Evaluating on All Metrics\n",
    "KS_test2 = evaluate(syn_data2, dataset, metrics = ['KSTest']) # Inverted Kolmogorov-Smirnov Test"
   ]
  },
  {
   "cell_type": "code",
   "execution_count": 34,
   "id": "4f1bb443",
   "metadata": {},
   "outputs": [
    {
     "data": {
      "text/html": [
       "<div>\n",
       "<style scoped>\n",
       "    .dataframe tbody tr th:only-of-type {\n",
       "        vertical-align: middle;\n",
       "    }\n",
       "\n",
       "    .dataframe tbody tr th {\n",
       "        vertical-align: top;\n",
       "    }\n",
       "\n",
       "    .dataframe thead th {\n",
       "        text-align: right;\n",
       "    }\n",
       "</style>\n",
       "<table border=\"1\" class=\"dataframe\">\n",
       "  <thead>\n",
       "    <tr style=\"text-align: right;\">\n",
       "      <th></th>\n",
       "      <th>Results</th>\n",
       "    </tr>\n",
       "  </thead>\n",
       "  <tbody>\n",
       "    <tr>\n",
       "      <th>General Evaluation</th>\n",
       "      <td>0.342457</td>\n",
       "    </tr>\n",
       "    <tr>\n",
       "      <th>Inverted Kolmogorov-Smirnov Test</th>\n",
       "      <td>0.780447</td>\n",
       "    </tr>\n",
       "  </tbody>\n",
       "</table>\n",
       "</div>"
      ],
      "text/plain": [
       "                                   Results\n",
       "General Evaluation                0.342457\n",
       "Inverted Kolmogorov-Smirnov Test  0.780447"
      ]
     },
     "execution_count": 34,
     "metadata": {},
     "output_type": "execute_result"
    }
   ],
   "source": [
    "evaluation2 = [general_evaluation2, KS_test2] # Creating a List of the Results\n",
    "evaluation2 = pd.DataFrame(evaluation2) # Creating a Data Frame of the Results\n",
    "evaluation2.columns = ['Results'] # Gicing Column Name\n",
    "evaluation2.rename({0:'General Evaluation', 1:'Inverted Kolmogorov-Smirnov Test'}) # Renaming Row Name"
   ]
  },
  {
   "cell_type": "code",
   "execution_count": 35,
   "id": "4146e365",
   "metadata": {},
   "outputs": [],
   "source": [
    "p_KS_test2 = 1-KS_test2 # Calculating 'p-value' for Inverted Kolmogorov-Smirnov Test"
   ]
  },
  {
   "cell_type": "code",
   "execution_count": 36,
   "id": "a34c0c35",
   "metadata": {},
   "outputs": [
    {
     "data": {
      "text/html": [
       "<div>\n",
       "<style scoped>\n",
       "    .dataframe tbody tr th:only-of-type {\n",
       "        vertical-align: middle;\n",
       "    }\n",
       "\n",
       "    .dataframe tbody tr th {\n",
       "        vertical-align: top;\n",
       "    }\n",
       "\n",
       "    .dataframe thead th {\n",
       "        text-align: right;\n",
       "    }\n",
       "</style>\n",
       "<table border=\"1\" class=\"dataframe\">\n",
       "  <thead>\n",
       "    <tr style=\"text-align: right;\">\n",
       "      <th></th>\n",
       "      <th>P Values</th>\n",
       "    </tr>\n",
       "  </thead>\n",
       "  <tbody>\n",
       "    <tr>\n",
       "      <th>Inverted Kolmogorov-Smirnov P Value</th>\n",
       "      <td>0.219553</td>\n",
       "    </tr>\n",
       "  </tbody>\n",
       "</table>\n",
       "</div>"
      ],
      "text/plain": [
       "                                     P Values\n",
       "Inverted Kolmogorov-Smirnov P Value  0.219553"
      ]
     },
     "execution_count": 36,
     "metadata": {},
     "output_type": "execute_result"
    }
   ],
   "source": [
    "p_value2 = [p_KS_test2] # Creating a List of the Results\n",
    "p_value2 = pd.DataFrame(p_value2) # Creating a Data Frame of the Results\n",
    "p_value2.columns = ['P Values'] # Gicing Column Name\n",
    "p_value2.rename({0:'Inverted Kolmogorov-Smirnov P Value'}) # Renaming Row Name"
   ]
  },
  {
   "cell_type": "markdown",
   "id": "76623ed0",
   "metadata": {},
   "source": [
    "**xxxxxxxxxxxxxxxxxxxxxxxxxxxxxxxxxxxxxxxxxxxxxxxxxxxxxxxxxxxxxxxxxxxxxxxxxxxxxxxxxxxxxxxxxxxxxxxxxxxxxxxxxxxxxxxxxxxxxxxxxxx**"
   ]
  },
  {
   "cell_type": "markdown",
   "id": "5d38527b",
   "metadata": {},
   "source": [
    "### Copula GAN "
   ]
  },
  {
   "cell_type": "code",
   "execution_count": null,
   "id": "3b7d6c0c",
   "metadata": {},
   "outputs": [],
   "source": [
    "syn_model3 = CopulaGAN() # Initializing the Model\n",
    "syn_model3.fit(dataset) # Applying the Model on the Data"
   ]
  },
  {
   "cell_type": "markdown",
   "id": "9879ee26",
   "metadata": {},
   "source": [
    "#### Saving The Synthetic Data Generator Model"
   ]
  },
  {
   "cell_type": "code",
   "execution_count": null,
   "id": "c7d40f1c",
   "metadata": {},
   "outputs": [],
   "source": [
    "syn_model3.save('Saved Model/Copula GAN.pkl')"
   ]
  },
  {
   "cell_type": "markdown",
   "id": "d457977e",
   "metadata": {},
   "source": [
    "#### Loading The Saved Synthetic Data Generator Model"
   ]
  },
  {
   "cell_type": "code",
   "execution_count": 37,
   "id": "c224c2fb",
   "metadata": {},
   "outputs": [],
   "source": [
    "copula = CopulaGAN.load('Saved Model/Copula_GAN.pkl')"
   ]
  },
  {
   "cell_type": "code",
   "execution_count": 38,
   "id": "de697823",
   "metadata": {},
   "outputs": [
    {
     "data": {
      "text/html": [
       "<div>\n",
       "<style scoped>\n",
       "    .dataframe tbody tr th:only-of-type {\n",
       "        vertical-align: middle;\n",
       "    }\n",
       "\n",
       "    .dataframe tbody tr th {\n",
       "        vertical-align: top;\n",
       "    }\n",
       "\n",
       "    .dataframe thead th {\n",
       "        text-align: right;\n",
       "    }\n",
       "</style>\n",
       "<table border=\"1\" class=\"dataframe\">\n",
       "  <thead>\n",
       "    <tr style=\"text-align: right;\">\n",
       "      <th></th>\n",
       "      <th>V1</th>\n",
       "      <th>V2</th>\n",
       "      <th>V3</th>\n",
       "      <th>V4</th>\n",
       "      <th>V5</th>\n",
       "      <th>V6</th>\n",
       "      <th>V7</th>\n",
       "      <th>V8</th>\n",
       "      <th>V9</th>\n",
       "      <th>V10</th>\n",
       "      <th>...</th>\n",
       "      <th>V64</th>\n",
       "      <th>V65</th>\n",
       "      <th>V66</th>\n",
       "      <th>V67</th>\n",
       "      <th>V68</th>\n",
       "      <th>V69</th>\n",
       "      <th>V70</th>\n",
       "      <th>V71</th>\n",
       "      <th>V72</th>\n",
       "      <th>Class</th>\n",
       "    </tr>\n",
       "  </thead>\n",
       "  <tbody>\n",
       "    <tr>\n",
       "      <th>0</th>\n",
       "      <td>0.433866</td>\n",
       "      <td>0.744388</td>\n",
       "      <td>1.60174</td>\n",
       "      <td>1.235554</td>\n",
       "      <td>0.661775</td>\n",
       "      <td>1.305627</td>\n",
       "      <td>0.256724</td>\n",
       "      <td>1.468212</td>\n",
       "      <td>4.401441</td>\n",
       "      <td>2.745900</td>\n",
       "      <td>...</td>\n",
       "      <td>0.606362</td>\n",
       "      <td>25.523987</td>\n",
       "      <td>1.798105</td>\n",
       "      <td>5843.597008</td>\n",
       "      <td>-3.267557</td>\n",
       "      <td>52.332456</td>\n",
       "      <td>10123.192240</td>\n",
       "      <td>-14.295162</td>\n",
       "      <td>0.692014</td>\n",
       "      <td>1</td>\n",
       "    </tr>\n",
       "    <tr>\n",
       "      <th>1</th>\n",
       "      <td>0.453870</td>\n",
       "      <td>1.527348</td>\n",
       "      <td>1.95083</td>\n",
       "      <td>4.071529</td>\n",
       "      <td>1.669244</td>\n",
       "      <td>2.643652</td>\n",
       "      <td>0.398735</td>\n",
       "      <td>1.229868</td>\n",
       "      <td>2.399344</td>\n",
       "      <td>2.634725</td>\n",
       "      <td>...</td>\n",
       "      <td>0.508350</td>\n",
       "      <td>9.956423</td>\n",
       "      <td>-9.207196</td>\n",
       "      <td>5959.202037</td>\n",
       "      <td>2.242752</td>\n",
       "      <td>48.692346</td>\n",
       "      <td>9975.000032</td>\n",
       "      <td>-29.079233</td>\n",
       "      <td>0.000000</td>\n",
       "      <td>1</td>\n",
       "    </tr>\n",
       "    <tr>\n",
       "      <th>2</th>\n",
       "      <td>1.496561</td>\n",
       "      <td>5.573056</td>\n",
       "      <td>0.65750</td>\n",
       "      <td>4.341028</td>\n",
       "      <td>3.514997</td>\n",
       "      <td>0.576474</td>\n",
       "      <td>1.366183</td>\n",
       "      <td>2.352909</td>\n",
       "      <td>0.414652</td>\n",
       "      <td>3.451067</td>\n",
       "      <td>...</td>\n",
       "      <td>0.033210</td>\n",
       "      <td>8.164675</td>\n",
       "      <td>-4.904320</td>\n",
       "      <td>5940.225662</td>\n",
       "      <td>0.532554</td>\n",
       "      <td>34.814568</td>\n",
       "      <td>10054.883638</td>\n",
       "      <td>-0.887948</td>\n",
       "      <td>0.000000</td>\n",
       "      <td>1</td>\n",
       "    </tr>\n",
       "    <tr>\n",
       "      <th>3</th>\n",
       "      <td>0.577939</td>\n",
       "      <td>1.273926</td>\n",
       "      <td>1.39876</td>\n",
       "      <td>1.405030</td>\n",
       "      <td>0.617518</td>\n",
       "      <td>1.955704</td>\n",
       "      <td>0.208381</td>\n",
       "      <td>1.597902</td>\n",
       "      <td>5.328190</td>\n",
       "      <td>1.673106</td>\n",
       "      <td>...</td>\n",
       "      <td>0.054898</td>\n",
       "      <td>8.190621</td>\n",
       "      <td>13.397602</td>\n",
       "      <td>5885.681315</td>\n",
       "      <td>24.712856</td>\n",
       "      <td>39.354483</td>\n",
       "      <td>10118.190150</td>\n",
       "      <td>-13.915493</td>\n",
       "      <td>0.000000</td>\n",
       "      <td>1</td>\n",
       "    </tr>\n",
       "    <tr>\n",
       "      <th>4</th>\n",
       "      <td>0.747082</td>\n",
       "      <td>1.223945</td>\n",
       "      <td>1.84622</td>\n",
       "      <td>4.089017</td>\n",
       "      <td>5.370106</td>\n",
       "      <td>1.649485</td>\n",
       "      <td>2.709742</td>\n",
       "      <td>4.184821</td>\n",
       "      <td>2.734484</td>\n",
       "      <td>2.734219</td>\n",
       "      <td>...</td>\n",
       "      <td>0.153276</td>\n",
       "      <td>11.584585</td>\n",
       "      <td>3.221659</td>\n",
       "      <td>5933.239790</td>\n",
       "      <td>16.160071</td>\n",
       "      <td>49.626348</td>\n",
       "      <td>10071.864843</td>\n",
       "      <td>-29.646505</td>\n",
       "      <td>0.000000</td>\n",
       "      <td>1</td>\n",
       "    </tr>\n",
       "    <tr>\n",
       "      <th>...</th>\n",
       "      <td>...</td>\n",
       "      <td>...</td>\n",
       "      <td>...</td>\n",
       "      <td>...</td>\n",
       "      <td>...</td>\n",
       "      <td>...</td>\n",
       "      <td>...</td>\n",
       "      <td>...</td>\n",
       "      <td>...</td>\n",
       "      <td>...</td>\n",
       "      <td>...</td>\n",
       "      <td>...</td>\n",
       "      <td>...</td>\n",
       "      <td>...</td>\n",
       "      <td>...</td>\n",
       "      <td>...</td>\n",
       "      <td>...</td>\n",
       "      <td>...</td>\n",
       "      <td>...</td>\n",
       "      <td>...</td>\n",
       "      <td>...</td>\n",
       "    </tr>\n",
       "    <tr>\n",
       "      <th>2008</th>\n",
       "      <td>0.557203</td>\n",
       "      <td>0.527742</td>\n",
       "      <td>1.90418</td>\n",
       "      <td>0.063627</td>\n",
       "      <td>0.513506</td>\n",
       "      <td>0.128774</td>\n",
       "      <td>2.375172</td>\n",
       "      <td>0.028207</td>\n",
       "      <td>2.729876</td>\n",
       "      <td>2.108752</td>\n",
       "      <td>...</td>\n",
       "      <td>0.140640</td>\n",
       "      <td>1.742003</td>\n",
       "      <td>8.851706</td>\n",
       "      <td>5940.045826</td>\n",
       "      <td>11.726814</td>\n",
       "      <td>43.350327</td>\n",
       "      <td>10122.828102</td>\n",
       "      <td>-6.454106</td>\n",
       "      <td>11.282020</td>\n",
       "      <td>1</td>\n",
       "    </tr>\n",
       "    <tr>\n",
       "      <th>2009</th>\n",
       "      <td>0.483698</td>\n",
       "      <td>2.712349</td>\n",
       "      <td>3.74646</td>\n",
       "      <td>1.601283</td>\n",
       "      <td>1.512412</td>\n",
       "      <td>1.622276</td>\n",
       "      <td>0.496001</td>\n",
       "      <td>2.728323</td>\n",
       "      <td>2.501188</td>\n",
       "      <td>1.022004</td>\n",
       "      <td>...</td>\n",
       "      <td>0.090994</td>\n",
       "      <td>25.270585</td>\n",
       "      <td>6.961729</td>\n",
       "      <td>5871.352466</td>\n",
       "      <td>31.554244</td>\n",
       "      <td>35.111923</td>\n",
       "      <td>10191.975132</td>\n",
       "      <td>-33.896380</td>\n",
       "      <td>0.000000</td>\n",
       "      <td>2</td>\n",
       "    </tr>\n",
       "    <tr>\n",
       "      <th>2010</th>\n",
       "      <td>0.073779</td>\n",
       "      <td>0.451811</td>\n",
       "      <td>1.05661</td>\n",
       "      <td>4.747714</td>\n",
       "      <td>1.007310</td>\n",
       "      <td>0.648583</td>\n",
       "      <td>2.383246</td>\n",
       "      <td>3.042540</td>\n",
       "      <td>4.163208</td>\n",
       "      <td>2.623660</td>\n",
       "      <td>...</td>\n",
       "      <td>0.975964</td>\n",
       "      <td>11.187120</td>\n",
       "      <td>-21.183553</td>\n",
       "      <td>5894.306065</td>\n",
       "      <td>14.882976</td>\n",
       "      <td>38.116831</td>\n",
       "      <td>10135.563259</td>\n",
       "      <td>-35.127065</td>\n",
       "      <td>0.000000</td>\n",
       "      <td>1</td>\n",
       "    </tr>\n",
       "    <tr>\n",
       "      <th>2011</th>\n",
       "      <td>1.853512</td>\n",
       "      <td>6.024304</td>\n",
       "      <td>4.16495</td>\n",
       "      <td>0.025207</td>\n",
       "      <td>0.723304</td>\n",
       "      <td>0.679844</td>\n",
       "      <td>1.032037</td>\n",
       "      <td>1.497396</td>\n",
       "      <td>0.733580</td>\n",
       "      <td>7.732911</td>\n",
       "      <td>...</td>\n",
       "      <td>0.864136</td>\n",
       "      <td>-11.287479</td>\n",
       "      <td>4.232214</td>\n",
       "      <td>5831.114219</td>\n",
       "      <td>4.015985</td>\n",
       "      <td>45.251682</td>\n",
       "      <td>10197.933806</td>\n",
       "      <td>-22.529558</td>\n",
       "      <td>0.000000</td>\n",
       "      <td>1</td>\n",
       "    </tr>\n",
       "    <tr>\n",
       "      <th>2012</th>\n",
       "      <td>0.021834</td>\n",
       "      <td>1.680961</td>\n",
       "      <td>1.40102</td>\n",
       "      <td>1.913317</td>\n",
       "      <td>1.017044</td>\n",
       "      <td>0.766123</td>\n",
       "      <td>0.345367</td>\n",
       "      <td>1.654820</td>\n",
       "      <td>4.788907</td>\n",
       "      <td>3.028115</td>\n",
       "      <td>...</td>\n",
       "      <td>0.741985</td>\n",
       "      <td>-2.236358</td>\n",
       "      <td>3.652284</td>\n",
       "      <td>5912.112793</td>\n",
       "      <td>-2.177019</td>\n",
       "      <td>49.693720</td>\n",
       "      <td>10089.228841</td>\n",
       "      <td>-42.152706</td>\n",
       "      <td>0.000000</td>\n",
       "      <td>1</td>\n",
       "    </tr>\n",
       "  </tbody>\n",
       "</table>\n",
       "<p>2013 rows × 73 columns</p>\n",
       "</div>"
      ],
      "text/plain": [
       "            V1        V2       V3        V4        V5        V6        V7  \\\n",
       "0     0.433866  0.744388  1.60174  1.235554  0.661775  1.305627  0.256724   \n",
       "1     0.453870  1.527348  1.95083  4.071529  1.669244  2.643652  0.398735   \n",
       "2     1.496561  5.573056  0.65750  4.341028  3.514997  0.576474  1.366183   \n",
       "3     0.577939  1.273926  1.39876  1.405030  0.617518  1.955704  0.208381   \n",
       "4     0.747082  1.223945  1.84622  4.089017  5.370106  1.649485  2.709742   \n",
       "...        ...       ...      ...       ...       ...       ...       ...   \n",
       "2008  0.557203  0.527742  1.90418  0.063627  0.513506  0.128774  2.375172   \n",
       "2009  0.483698  2.712349  3.74646  1.601283  1.512412  1.622276  0.496001   \n",
       "2010  0.073779  0.451811  1.05661  4.747714  1.007310  0.648583  2.383246   \n",
       "2011  1.853512  6.024304  4.16495  0.025207  0.723304  0.679844  1.032037   \n",
       "2012  0.021834  1.680961  1.40102  1.913317  1.017044  0.766123  0.345367   \n",
       "\n",
       "            V8        V9       V10  ...       V64        V65        V66  \\\n",
       "0     1.468212  4.401441  2.745900  ...  0.606362  25.523987   1.798105   \n",
       "1     1.229868  2.399344  2.634725  ...  0.508350   9.956423  -9.207196   \n",
       "2     2.352909  0.414652  3.451067  ...  0.033210   8.164675  -4.904320   \n",
       "3     1.597902  5.328190  1.673106  ...  0.054898   8.190621  13.397602   \n",
       "4     4.184821  2.734484  2.734219  ...  0.153276  11.584585   3.221659   \n",
       "...        ...       ...       ...  ...       ...        ...        ...   \n",
       "2008  0.028207  2.729876  2.108752  ...  0.140640   1.742003   8.851706   \n",
       "2009  2.728323  2.501188  1.022004  ...  0.090994  25.270585   6.961729   \n",
       "2010  3.042540  4.163208  2.623660  ...  0.975964  11.187120 -21.183553   \n",
       "2011  1.497396  0.733580  7.732911  ...  0.864136 -11.287479   4.232214   \n",
       "2012  1.654820  4.788907  3.028115  ...  0.741985  -2.236358   3.652284   \n",
       "\n",
       "              V67        V68        V69           V70        V71        V72  \\\n",
       "0     5843.597008  -3.267557  52.332456  10123.192240 -14.295162   0.692014   \n",
       "1     5959.202037   2.242752  48.692346   9975.000032 -29.079233   0.000000   \n",
       "2     5940.225662   0.532554  34.814568  10054.883638  -0.887948   0.000000   \n",
       "3     5885.681315  24.712856  39.354483  10118.190150 -13.915493   0.000000   \n",
       "4     5933.239790  16.160071  49.626348  10071.864843 -29.646505   0.000000   \n",
       "...           ...        ...        ...           ...        ...        ...   \n",
       "2008  5940.045826  11.726814  43.350327  10122.828102  -6.454106  11.282020   \n",
       "2009  5871.352466  31.554244  35.111923  10191.975132 -33.896380   0.000000   \n",
       "2010  5894.306065  14.882976  38.116831  10135.563259 -35.127065   0.000000   \n",
       "2011  5831.114219   4.015985  45.251682  10197.933806 -22.529558   0.000000   \n",
       "2012  5912.112793  -2.177019  49.693720  10089.228841 -42.152706   0.000000   \n",
       "\n",
       "      Class  \n",
       "0         1  \n",
       "1         1  \n",
       "2         1  \n",
       "3         1  \n",
       "4         1  \n",
       "...     ...  \n",
       "2008      1  \n",
       "2009      2  \n",
       "2010      1  \n",
       "2011      1  \n",
       "2012      1  \n",
       "\n",
       "[2013 rows x 73 columns]"
      ]
     },
     "execution_count": 38,
     "metadata": {},
     "output_type": "execute_result"
    }
   ],
   "source": [
    "syn_data3 = copula.sample(num_rows = 2013) # Generating Synthetic Data\n",
    "syn_data3 # Printing Generated Data"
   ]
  },
  {
   "cell_type": "markdown",
   "id": "3155f38e",
   "metadata": {},
   "source": [
    "#### Data Pre Processing"
   ]
  },
  {
   "cell_type": "markdown",
   "id": "cde5271e",
   "metadata": {},
   "source": [
    "##### Extracting Predictor & Response Variable"
   ]
  },
  {
   "cell_type": "code",
   "execution_count": 39,
   "id": "379e8d83",
   "metadata": {},
   "outputs": [],
   "source": [
    "syn_X3 = syn_data3.iloc[:, :-1] # Predictor Variable\n",
    "syn_y3 = syn_data3.iloc[:, -1] # Response Variable"
   ]
  },
  {
   "cell_type": "markdown",
   "id": "55258b23",
   "metadata": {},
   "source": [
    "#### Evaluating Synthetic Instances"
   ]
  },
  {
   "cell_type": "markdown",
   "id": "a7d548e7",
   "metadata": {},
   "source": [
    "Testing Generated Synthetic Data On The Model Trained with Original Datapoints"
   ]
  },
  {
   "cell_type": "code",
   "execution_count": 50,
   "id": "d19ebf1b",
   "metadata": {},
   "outputs": [
    {
     "name": "stdout",
     "output_type": "stream",
     "text": [
      "Average Accuracy of the Model->  73 %\n"
     ]
    }
   ],
   "source": [
    "syn3_acc = model.predict(syn_X3) # Prediction\n",
    "print(\"Average Accuracy of the Model-> \", round(accuracy_score(syn3_acc, syn_y3)*100), \"%\") # Average Accuracy Score of the Model"
   ]
  },
  {
   "cell_type": "markdown",
   "id": "e06dd12b",
   "metadata": {},
   "source": [
    "Statistical Metrics"
   ]
  },
  {
   "cell_type": "code",
   "execution_count": 41,
   "id": "50e83938",
   "metadata": {},
   "outputs": [],
   "source": [
    "general_evaluation3 = evaluate(syn_data3, dataset) # Evaluating on All Metrics\n",
    "KS_test3 = evaluate(syn_data3, dataset, metrics = ['KSTest']) # Inverted Kolmogorov-Smirnov Test"
   ]
  },
  {
   "cell_type": "code",
   "execution_count": 42,
   "id": "a6fa4b83",
   "metadata": {
    "scrolled": true
   },
   "outputs": [
    {
     "data": {
      "text/html": [
       "<div>\n",
       "<style scoped>\n",
       "    .dataframe tbody tr th:only-of-type {\n",
       "        vertical-align: middle;\n",
       "    }\n",
       "\n",
       "    .dataframe tbody tr th {\n",
       "        vertical-align: top;\n",
       "    }\n",
       "\n",
       "    .dataframe thead th {\n",
       "        text-align: right;\n",
       "    }\n",
       "</style>\n",
       "<table border=\"1\" class=\"dataframe\">\n",
       "  <thead>\n",
       "    <tr style=\"text-align: right;\">\n",
       "      <th></th>\n",
       "      <th>Results</th>\n",
       "    </tr>\n",
       "  </thead>\n",
       "  <tbody>\n",
       "    <tr>\n",
       "      <th>General Evaluation</th>\n",
       "      <td>0.357940</td>\n",
       "    </tr>\n",
       "    <tr>\n",
       "      <th>Inverted Kolmogorov-Smirnov Test</th>\n",
       "      <td>0.803624</td>\n",
       "    </tr>\n",
       "  </tbody>\n",
       "</table>\n",
       "</div>"
      ],
      "text/plain": [
       "                                   Results\n",
       "General Evaluation                0.357940\n",
       "Inverted Kolmogorov-Smirnov Test  0.803624"
      ]
     },
     "execution_count": 42,
     "metadata": {},
     "output_type": "execute_result"
    }
   ],
   "source": [
    "evaluation3 = [general_evaluation3, KS_test3] # Creating a List of the Results\n",
    "evaluation3 = pd.DataFrame(evaluation3) # Creating a Data Frame of the Results\n",
    "evaluation3.columns = ['Results'] # Gicing Column Name\n",
    "evaluation3.rename({0:'General Evaluation', 1:'Inverted Kolmogorov-Smirnov Test'}) # Renaming Row Name"
   ]
  },
  {
   "cell_type": "code",
   "execution_count": 43,
   "id": "38dcfaf0",
   "metadata": {},
   "outputs": [],
   "source": [
    "p_KS_test3 = 1-KS_test3 # Calculating 'p-value' for Inverted Kolmogorov-Smirnov Test"
   ]
  },
  {
   "cell_type": "code",
   "execution_count": 44,
   "id": "f43b2379",
   "metadata": {},
   "outputs": [
    {
     "data": {
      "text/html": [
       "<div>\n",
       "<style scoped>\n",
       "    .dataframe tbody tr th:only-of-type {\n",
       "        vertical-align: middle;\n",
       "    }\n",
       "\n",
       "    .dataframe tbody tr th {\n",
       "        vertical-align: top;\n",
       "    }\n",
       "\n",
       "    .dataframe thead th {\n",
       "        text-align: right;\n",
       "    }\n",
       "</style>\n",
       "<table border=\"1\" class=\"dataframe\">\n",
       "  <thead>\n",
       "    <tr style=\"text-align: right;\">\n",
       "      <th></th>\n",
       "      <th>P Values</th>\n",
       "    </tr>\n",
       "  </thead>\n",
       "  <tbody>\n",
       "    <tr>\n",
       "      <th>Inverted Kolmogorov-Smirnov P Value</th>\n",
       "      <td>0.196376</td>\n",
       "    </tr>\n",
       "  </tbody>\n",
       "</table>\n",
       "</div>"
      ],
      "text/plain": [
       "                                     P Values\n",
       "Inverted Kolmogorov-Smirnov P Value  0.196376"
      ]
     },
     "execution_count": 44,
     "metadata": {},
     "output_type": "execute_result"
    }
   ],
   "source": [
    "p_value3 = [p_KS_test3] # Creating a List of the Results\n",
    "p_value3 = pd.DataFrame(p_value3) # Creating a Data Frame of the Results\n",
    "p_value3.columns = ['P Values'] # Gicing Column Name\n",
    "p_value3.rename({0:'Inverted Kolmogorov-Smirnov P Value'}) # Renaming Row Name"
   ]
  },
  {
   "cell_type": "markdown",
   "id": "4991ebcb",
   "metadata": {},
   "source": [
    "**xxxxxxxxxxxxxxxxxxxxxxxxxxxxxxxxxxxxxxxxxxxxxxxxxxxxxxxxxxxxxxxxxxxxxxxxxxxxxxxxxxxxxxxxxxxxxxxxxxxxxxxxxxxxxxxxxxxxxxxxxxx**"
   ]
  }
 ],
 "metadata": {
  "kernelspec": {
   "display_name": "Python 3 (ipykernel)",
   "language": "python",
   "name": "python3"
  },
  "language_info": {
   "codemirror_mode": {
    "name": "ipython",
    "version": 3
   },
   "file_extension": ".py",
   "mimetype": "text/x-python",
   "name": "python",
   "nbconvert_exporter": "python",
   "pygments_lexer": "ipython3",
   "version": "3.9.7"
  }
 },
 "nbformat": 4,
 "nbformat_minor": 5
}
